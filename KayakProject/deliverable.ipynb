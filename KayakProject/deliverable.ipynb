{
 "cells": [
  {
   "cell_type": "code",
   "execution_count": 3,
   "metadata": {},
   "outputs": [],
   "source": [
    "import pandas as pd\n",
    "import requests\n",
    "import time\n",
    "import plotly.express as px\n"
   ]
  },
  {
   "cell_type": "code",
   "execution_count": 2,
   "metadata": {},
   "outputs": [],
   "source": [
    "city_df=pd.read_csv('city_information.csv')\n",
    "hotel_df=pd.read_csv('hotel_information.csv')"
   ]
  },
  {
   "cell_type": "code",
   "execution_count": 46,
   "metadata": {},
   "outputs": [
    {
     "name": "stderr",
     "output_type": "stream",
     "text": [
      "/tmp/ipykernel_535808/2363642300.py:1: DeprecationWarning:\n",
      "\n",
      "DataFrameGroupBy.apply operated on the grouping columns. This behavior is deprecated, and in a future version of pandas the grouping columns will be excluded from the operation. Either pass `include_groups=False` to exclude the groupings or explicitly select the grouping columns after groupby to silence this warning.\n",
      "\n"
     ]
    }
   ],
   "source": [
    "best_hotels_per_city = hotel_df.groupby('city', group_keys=False).apply(\n",
    "    lambda x: x.sort_values('rating', ascending=False).head(20)\n",
    ")"
   ]
  },
  {
   "cell_type": "markdown",
   "metadata": {},
   "source": [
    "### Collecting weather datas"
   ]
  },
  {
   "cell_type": "code",
   "execution_count": null,
   "metadata": {},
   "outputs": [
    {
     "name": "stdout",
     "output_type": "stream",
     "text": [
      "Fetching weather data for Mont Saint Michel...\n",
      "Fetching weather data for St Malo...\n",
      "Fetching weather data for Bayeux...\n",
      "Fetching weather data for Le Havre...\n",
      "Fetching weather data for Rouen...\n",
      "Fetching weather data for Paris...\n",
      "Fetching weather data for Amiens...\n",
      "Fetching weather data for Lille...\n",
      "Fetching weather data for Strasbourg...\n",
      "Fetching weather data for Chateau du Haut Koenigsbourg...\n",
      "Fetching weather data for Colmar...\n",
      "Fetching weather data for Eguisheim...\n",
      "Fetching weather data for Besancon...\n",
      "Fetching weather data for Dijon...\n",
      "Fetching weather data for Annecy...\n",
      "Fetching weather data for Grenoble...\n",
      "Fetching weather data for Lyon...\n",
      "Fetching weather data for Gorges du Verdon...\n",
      "Fetching weather data for Bormes les Mimosas...\n",
      "Fetching weather data for Cassis...\n",
      "Fetching weather data for Marseille...\n",
      "Fetching weather data for Aix en Provence...\n",
      "Fetching weather data for Avignon...\n",
      "Fetching weather data for Uzes...\n",
      "Fetching weather data for Nimes...\n",
      "Fetching weather data for Aigues Mortes...\n",
      "Fetching weather data for Saintes Maries de la mer...\n",
      "Fetching weather data for Collioure...\n",
      "Fetching weather data for Carcassonne...\n",
      "Fetching weather data for Ariege...\n",
      "Fetching weather data for Toulouse...\n",
      "Fetching weather data for Montauban...\n",
      "Fetching weather data for Biarritz...\n",
      "Fetching weather data for Bayonne...\n",
      "Fetching weather data for La Rochelle...\n",
      "              city   latitude  longitude  temperature   rain  weather_score\n",
      "0    Aigues Mortes  43.566152   4.191540     10.62850  10.11        0.51850\n",
      "1  Aix en Provence  43.529842   5.447474      8.65875   8.51        0.14875\n",
      "2           Amiens  49.894171   2.295695      4.61150  30.34      -25.72850\n",
      "3           Annecy  45.899235   6.128885      2.19975  56.25      -54.05025\n",
      "4           Ariege  42.945537   1.406554      5.42525  31.80      -26.37475\n"
     ]
    }
   ],
   "source": [
    "api_key = '4c707e675287a739bd57c2e2297cd975'\n",
    "\n",
    "\n",
    "base_url = 'http://api.openweathermap.org/data/2.5/forecast'\n",
    "\n",
    "\n",
    "def fetch_weather_data(lat, lon):\n",
    "    params = {\n",
    "        'lat': lat,\n",
    "        'lon': lon,\n",
    "        'units': 'metric',\n",
    "        'appid': api_key\n",
    "    }\n",
    "    response = requests.get(base_url, params=params)\n",
    "    if response.status_code == 200:\n",
    "        return response.json()\n",
    "    else:\n",
    "        print(f\"Failed to fetch data for coordinates ({lat}, {lon}): {response.status_code} - {response.text}\")\n",
    "        return None\n",
    "\n",
    "\n",
    "weather_data = []\n",
    "\n",
    "\n",
    "for index, row in city_df.iterrows():\n",
    "    print(f\"Fetching weather data for {row['city_name']}...\")\n",
    "    data = fetch_weather_data(row['city_latitude'], row['city_longitude'])\n",
    "    if data and \"list\" in data:\n",
    "        for forecast in data['list']:\n",
    "            weather_data.append({\n",
    "                'city': row['city_name'],\n",
    "                'latitude': row['city_latitude'],\n",
    "                'longitude': row['city_longitude'],\n",
    "                'datetime': pd.to_datetime(forecast['dt'], unit='s'),\n",
    "                'temperature': forecast['main']['temp'],\n",
    "                'rain': forecast.get('rain', {}).get('3h', 0)  \n",
    "            })\n",
    "    time.sleep(1)  \n",
    "\n",
    "weather_df = pd.DataFrame(weather_data)\n",
    "\n",
    "\n",
    "weather_summary = weather_df.groupby('city').agg({\n",
    "    'latitude': 'first',\n",
    "    'longitude': 'first',\n",
    "    'temperature': 'mean',\n",
    "    'rain': 'sum'\n",
    "}).reset_index()\n",
    "\n"
   ]
  },
  {
   "cell_type": "markdown",
   "metadata": {},
   "source": [
    "### Creating a xeather score that increase with temperature and decrease with rain volume"
   ]
  },
  {
   "cell_type": "code",
   "execution_count": null,
   "metadata": {},
   "outputs": [],
   "source": [
    "\n",
    "temp_avg = weather_summary['temperature'].mean()\n",
    "rain_avg = weather_summary['rain'].mean()\n",
    "\n",
    "\n",
    "weather_summary['normalized_temp'] = (weather_summary['temperature'] - temp_avg) / temp_avg\n",
    "weather_summary['normalized_rain'] = (weather_summary['rain'] - rain_avg) / rain_avg\n",
    "weather_summary['weather_score'] = weather_summary['normalized_temp'] - weather_summary['normalized_rain']+2\n",
    "weather_summary['weather_score'] = weather_summary['weather_score'].clip(lower=0)\n",
    "\n"
   ]
  },
  {
   "cell_type": "code",
   "execution_count": 28,
   "metadata": {},
   "outputs": [
    {
     "data": {
      "application/vnd.plotly.v1+json": {
       "config": {
        "plotlyServerURL": "https://plot.ly"
       },
       "data": [
        {
         "customdata": [
          [
           43.5661521,
           4.19154,
           10.628499999999999,
           10.110000000000001
          ],
          [
           43.5298424,
           5.4474738,
           8.658750000000001,
           8.51
          ],
          [
           49.8941708,
           2.2956951,
           4.6115,
           30.34
          ],
          [
           45.8992348,
           6.1288847,
           2.19975,
           56.25
          ],
          [
           42.9455368,
           1.4065544156065486,
           5.42525,
           31.8
          ],
          [
           43.9492493,
           4.8059012,
           8.0375,
           3.28
          ],
          [
           49.2764624,
           -0.7024738,
           6.60625,
           35.55
          ],
          [
           43.4945144,
           -1.4736657,
           12.111,
           58.32
          ],
          [
           47.2380222,
           6.0243622,
           3.09375,
           31.17
          ],
          [
           43.4832523,
           -1.5592776,
           12.65625,
           60.54
          ],
          [
           43.1506968,
           6.3419285,
           10.14025,
           9.64
          ],
          [
           43.2130358,
           2.3491069,
           9.508750000000001,
           17.24
          ],
          [
           43.2140359,
           5.5396318,
           10.871500000000001,
           9.879999999999999
          ],
          [
           48.24941075,
           7.344320233724503,
           0.8845000000000001,
           36.35
          ],
          [
           42.52505,
           3.0831554,
           12.08775,
           5.61
          ],
          [
           48.0777517,
           7.3579641,
           3.4597499999999997,
           36.4
          ],
          [
           47.3215806,
           5.0414701,
           3.5,
           25.07
          ],
          [
           48.0447968,
           7.3079618,
           3.1294999999999997,
           39.59
          ],
          [
           43.7496562,
           6.3285616,
           2.8737500000000002,
           22.69
          ],
          [
           45.1875602,
           5.7357819,
           4.78775,
           45.86
          ],
          [
           46.159732,
           -1.1515951,
           9.50625,
           24.73
          ],
          [
           49.4938975,
           0.1079732,
           8.527750000000001,
           47.96
          ],
          [
           50.6365654,
           3.0635282,
           4.32525,
           26.81
          ],
          [
           45.7578137,
           4.8320114,
           5.34025,
           15.06
          ],
          [
           43.2961743,
           5.3699525,
           11.69025,
           7.14
          ],
          [
           48.6359541,
           -1.511459954959514,
           7.53275,
           36.050000000000004
          ],
          [
           44.0175835,
           1.3549991,
           8.718250000000001,
           35.62
          ],
          [
           43.8374249,
           4.3600687,
           8.841750000000001,
           3.31
          ],
          [
           48.8534951,
           2.3483915,
           6.3045,
           23.12
          ],
          [
           49.4404591,
           1.0939658,
           5.513,
           37.29
          ],
          [
           43.4515922,
           4.4277202,
           11.01125,
           7.26
          ],
          [
           48.649518,
           -2.0260409,
           8.99675,
           34.53
          ],
          [
           48.584614,
           7.7507127,
           3.7697499999999997,
           26.52
          ],
          [
           43.6044622,
           1.4442469,
           9.687000000000001,
           17.3
          ],
          [
           44.0121279,
           4.4196718,
           7.63575,
           5.62
          ]
         ],
         "hovertemplate": "<b>%{hovertext}</b><br><br>Weather Score=%{marker.color}<br>temperature=%{customdata[2]}<br>rain=%{customdata[3]}<extra></extra>",
         "hovertext": [
          "Aigues Mortes",
          "Aix en Provence",
          "Amiens",
          "Annecy",
          "Ariege",
          "Avignon",
          "Bayeux",
          "Bayonne",
          "Besancon",
          "Biarritz",
          "Bormes les Mimosas",
          "Carcassonne",
          "Cassis",
          "Chateau du Haut Koenigsbourg",
          "Collioure",
          "Colmar",
          "Dijon",
          "Eguisheim",
          "Gorges du Verdon",
          "Grenoble",
          "La Rochelle",
          "Le Havre",
          "Lille",
          "Lyon",
          "Marseille",
          "Mont Saint Michel",
          "Montauban",
          "Nimes",
          "Paris",
          "Rouen",
          "Saintes Maries de la mer",
          "St Malo",
          "Strasbourg",
          "Toulouse",
          "Uzes"
         ],
         "lat": [
          43.5661521,
          43.5298424,
          49.8941708,
          45.8992348,
          42.9455368,
          43.9492493,
          49.2764624,
          43.4945144,
          47.2380222,
          43.4832523,
          43.1506968,
          43.2130358,
          43.2140359,
          48.24941075,
          42.52505,
          48.0777517,
          47.3215806,
          48.0447968,
          43.7496562,
          45.1875602,
          46.159732,
          49.4938975,
          50.6365654,
          45.7578137,
          43.2961743,
          48.6359541,
          44.0175835,
          43.8374249,
          48.8534951,
          49.4404591,
          43.4515922,
          48.649518,
          48.584614,
          43.6044622,
          44.0121279
         ],
         "legendgroup": "",
         "lon": [
          4.19154,
          5.4474738,
          2.2956951,
          6.1288847,
          1.4065544156065486,
          4.8059012,
          -0.7024738,
          -1.4736657,
          6.0243622,
          -1.5592776,
          6.3419285,
          2.3491069,
          5.5396318,
          7.344320233724503,
          3.0831554,
          7.3579641,
          5.0414701,
          7.3079618,
          6.3285616,
          5.7357819,
          -1.1515951,
          0.1079732,
          3.0635282,
          4.8320114,
          5.3699525,
          -1.511459954959514,
          1.3549991,
          4.3600687,
          2.3483915,
          1.0939658,
          4.4277202,
          -2.0260409,
          7.7507127,
          1.4442469,
          4.4196718
         ],
         "marker": {
          "color": [
           3.088682710159488,
           2.876537748960898,
           1.4876952712364726,
           0.17060760124359442,
           1.545023541166763,
           2.988906560082019,
           1.566341412884823,
           1.4649714312916142,
           1.2459678785592276,
           1.456273224899844,
           3.0388822881137276,
           2.6630667625426474,
           3.1310689809919303,
           0.7434173663590844,
           3.4615449016127813,
           1.0982420341242314,
           1.5336726124005895,
           0.931468872200095,
           1.5372210903064931,
           0.9232873628648548,
           2.378553183542895,
           1.3616762115418641,
           1.5819707775469356,
           2.1683575886010265,
           3.3484359859065056,
           1.6757097005255073,
           1.8562382564758142,
           3.099172463651001,
           1.9961319272461924,
           1.3488904363556802,
           3.2498286822946514,
           1.93616997885802,
           1.5160258170856402,
           2.68548144177789,
           2.844477896589195
          ],
          "coloraxis": "coloraxis",
          "size": [
           3.088682710159488,
           2.876537748960898,
           1.4876952712364726,
           0.17060760124359442,
           1.545023541166763,
           2.988906560082019,
           1.566341412884823,
           1.4649714312916142,
           1.2459678785592276,
           1.456273224899844,
           3.0388822881137276,
           2.6630667625426474,
           3.1310689809919303,
           0.7434173663590844,
           3.4615449016127813,
           1.0982420341242314,
           1.5336726124005895,
           0.931468872200095,
           1.5372210903064931,
           0.9232873628648548,
           2.378553183542895,
           1.3616762115418641,
           1.5819707775469356,
           2.1683575886010265,
           3.3484359859065056,
           1.6757097005255073,
           1.8562382564758142,
           3.099172463651001,
           1.9961319272461924,
           1.3488904363556802,
           3.2498286822946514,
           1.93616997885802,
           1.5160258170856402,
           2.68548144177789,
           2.844477896589195
          ],
          "sizemode": "area",
          "sizeref": 0.015384644007167917
         },
         "mode": "markers",
         "name": "",
         "showlegend": false,
         "subplot": "mapbox",
         "type": "scattermapbox"
        }
       ],
       "layout": {
        "coloraxis": {
         "colorbar": {
          "title": {
           "text": "Weather Score"
          }
         },
         "colorscale": [
          [
           0,
           "#0d0887"
          ],
          [
           0.1111111111111111,
           "#46039f"
          ],
          [
           0.2222222222222222,
           "#7201a8"
          ],
          [
           0.3333333333333333,
           "#9c179e"
          ],
          [
           0.4444444444444444,
           "#bd3786"
          ],
          [
           0.5555555555555556,
           "#d8576b"
          ],
          [
           0.6666666666666666,
           "#ed7953"
          ],
          [
           0.7777777777777778,
           "#fb9f3a"
          ],
          [
           0.8888888888888888,
           "#fdca26"
          ],
          [
           1,
           "#f0f921"
          ]
         ]
        },
        "height": 900,
        "legend": {
         "itemsizing": "constant",
         "tracegroupgap": 0
        },
        "mapbox": {
         "center": {
          "lat": 45.84118360428572,
          "lon": 3.396543505553472
         },
         "domain": {
          "x": [
           0,
           1
          ],
          "y": [
           0,
           1
          ]
         },
         "style": "carto-positron",
         "zoom": 5
        },
        "template": {
         "data": {
          "bar": [
           {
            "error_x": {
             "color": "#2a3f5f"
            },
            "error_y": {
             "color": "#2a3f5f"
            },
            "marker": {
             "line": {
              "color": "#E5ECF6",
              "width": 0.5
             },
             "pattern": {
              "fillmode": "overlay",
              "size": 10,
              "solidity": 0.2
             }
            },
            "type": "bar"
           }
          ],
          "barpolar": [
           {
            "marker": {
             "line": {
              "color": "#E5ECF6",
              "width": 0.5
             },
             "pattern": {
              "fillmode": "overlay",
              "size": 10,
              "solidity": 0.2
             }
            },
            "type": "barpolar"
           }
          ],
          "carpet": [
           {
            "aaxis": {
             "endlinecolor": "#2a3f5f",
             "gridcolor": "white",
             "linecolor": "white",
             "minorgridcolor": "white",
             "startlinecolor": "#2a3f5f"
            },
            "baxis": {
             "endlinecolor": "#2a3f5f",
             "gridcolor": "white",
             "linecolor": "white",
             "minorgridcolor": "white",
             "startlinecolor": "#2a3f5f"
            },
            "type": "carpet"
           }
          ],
          "choropleth": [
           {
            "colorbar": {
             "outlinewidth": 0,
             "ticks": ""
            },
            "type": "choropleth"
           }
          ],
          "contour": [
           {
            "colorbar": {
             "outlinewidth": 0,
             "ticks": ""
            },
            "colorscale": [
             [
              0,
              "#0d0887"
             ],
             [
              0.1111111111111111,
              "#46039f"
             ],
             [
              0.2222222222222222,
              "#7201a8"
             ],
             [
              0.3333333333333333,
              "#9c179e"
             ],
             [
              0.4444444444444444,
              "#bd3786"
             ],
             [
              0.5555555555555556,
              "#d8576b"
             ],
             [
              0.6666666666666666,
              "#ed7953"
             ],
             [
              0.7777777777777778,
              "#fb9f3a"
             ],
             [
              0.8888888888888888,
              "#fdca26"
             ],
             [
              1,
              "#f0f921"
             ]
            ],
            "type": "contour"
           }
          ],
          "contourcarpet": [
           {
            "colorbar": {
             "outlinewidth": 0,
             "ticks": ""
            },
            "type": "contourcarpet"
           }
          ],
          "heatmap": [
           {
            "colorbar": {
             "outlinewidth": 0,
             "ticks": ""
            },
            "colorscale": [
             [
              0,
              "#0d0887"
             ],
             [
              0.1111111111111111,
              "#46039f"
             ],
             [
              0.2222222222222222,
              "#7201a8"
             ],
             [
              0.3333333333333333,
              "#9c179e"
             ],
             [
              0.4444444444444444,
              "#bd3786"
             ],
             [
              0.5555555555555556,
              "#d8576b"
             ],
             [
              0.6666666666666666,
              "#ed7953"
             ],
             [
              0.7777777777777778,
              "#fb9f3a"
             ],
             [
              0.8888888888888888,
              "#fdca26"
             ],
             [
              1,
              "#f0f921"
             ]
            ],
            "type": "heatmap"
           }
          ],
          "heatmapgl": [
           {
            "colorbar": {
             "outlinewidth": 0,
             "ticks": ""
            },
            "colorscale": [
             [
              0,
              "#0d0887"
             ],
             [
              0.1111111111111111,
              "#46039f"
             ],
             [
              0.2222222222222222,
              "#7201a8"
             ],
             [
              0.3333333333333333,
              "#9c179e"
             ],
             [
              0.4444444444444444,
              "#bd3786"
             ],
             [
              0.5555555555555556,
              "#d8576b"
             ],
             [
              0.6666666666666666,
              "#ed7953"
             ],
             [
              0.7777777777777778,
              "#fb9f3a"
             ],
             [
              0.8888888888888888,
              "#fdca26"
             ],
             [
              1,
              "#f0f921"
             ]
            ],
            "type": "heatmapgl"
           }
          ],
          "histogram": [
           {
            "marker": {
             "pattern": {
              "fillmode": "overlay",
              "size": 10,
              "solidity": 0.2
             }
            },
            "type": "histogram"
           }
          ],
          "histogram2d": [
           {
            "colorbar": {
             "outlinewidth": 0,
             "ticks": ""
            },
            "colorscale": [
             [
              0,
              "#0d0887"
             ],
             [
              0.1111111111111111,
              "#46039f"
             ],
             [
              0.2222222222222222,
              "#7201a8"
             ],
             [
              0.3333333333333333,
              "#9c179e"
             ],
             [
              0.4444444444444444,
              "#bd3786"
             ],
             [
              0.5555555555555556,
              "#d8576b"
             ],
             [
              0.6666666666666666,
              "#ed7953"
             ],
             [
              0.7777777777777778,
              "#fb9f3a"
             ],
             [
              0.8888888888888888,
              "#fdca26"
             ],
             [
              1,
              "#f0f921"
             ]
            ],
            "type": "histogram2d"
           }
          ],
          "histogram2dcontour": [
           {
            "colorbar": {
             "outlinewidth": 0,
             "ticks": ""
            },
            "colorscale": [
             [
              0,
              "#0d0887"
             ],
             [
              0.1111111111111111,
              "#46039f"
             ],
             [
              0.2222222222222222,
              "#7201a8"
             ],
             [
              0.3333333333333333,
              "#9c179e"
             ],
             [
              0.4444444444444444,
              "#bd3786"
             ],
             [
              0.5555555555555556,
              "#d8576b"
             ],
             [
              0.6666666666666666,
              "#ed7953"
             ],
             [
              0.7777777777777778,
              "#fb9f3a"
             ],
             [
              0.8888888888888888,
              "#fdca26"
             ],
             [
              1,
              "#f0f921"
             ]
            ],
            "type": "histogram2dcontour"
           }
          ],
          "mesh3d": [
           {
            "colorbar": {
             "outlinewidth": 0,
             "ticks": ""
            },
            "type": "mesh3d"
           }
          ],
          "parcoords": [
           {
            "line": {
             "colorbar": {
              "outlinewidth": 0,
              "ticks": ""
             }
            },
            "type": "parcoords"
           }
          ],
          "pie": [
           {
            "automargin": true,
            "type": "pie"
           }
          ],
          "scatter": [
           {
            "fillpattern": {
             "fillmode": "overlay",
             "size": 10,
             "solidity": 0.2
            },
            "type": "scatter"
           }
          ],
          "scatter3d": [
           {
            "line": {
             "colorbar": {
              "outlinewidth": 0,
              "ticks": ""
             }
            },
            "marker": {
             "colorbar": {
              "outlinewidth": 0,
              "ticks": ""
             }
            },
            "type": "scatter3d"
           }
          ],
          "scattercarpet": [
           {
            "marker": {
             "colorbar": {
              "outlinewidth": 0,
              "ticks": ""
             }
            },
            "type": "scattercarpet"
           }
          ],
          "scattergeo": [
           {
            "marker": {
             "colorbar": {
              "outlinewidth": 0,
              "ticks": ""
             }
            },
            "type": "scattergeo"
           }
          ],
          "scattergl": [
           {
            "marker": {
             "colorbar": {
              "outlinewidth": 0,
              "ticks": ""
             }
            },
            "type": "scattergl"
           }
          ],
          "scattermapbox": [
           {
            "marker": {
             "colorbar": {
              "outlinewidth": 0,
              "ticks": ""
             }
            },
            "type": "scattermapbox"
           }
          ],
          "scatterpolar": [
           {
            "marker": {
             "colorbar": {
              "outlinewidth": 0,
              "ticks": ""
             }
            },
            "type": "scatterpolar"
           }
          ],
          "scatterpolargl": [
           {
            "marker": {
             "colorbar": {
              "outlinewidth": 0,
              "ticks": ""
             }
            },
            "type": "scatterpolargl"
           }
          ],
          "scatterternary": [
           {
            "marker": {
             "colorbar": {
              "outlinewidth": 0,
              "ticks": ""
             }
            },
            "type": "scatterternary"
           }
          ],
          "surface": [
           {
            "colorbar": {
             "outlinewidth": 0,
             "ticks": ""
            },
            "colorscale": [
             [
              0,
              "#0d0887"
             ],
             [
              0.1111111111111111,
              "#46039f"
             ],
             [
              0.2222222222222222,
              "#7201a8"
             ],
             [
              0.3333333333333333,
              "#9c179e"
             ],
             [
              0.4444444444444444,
              "#bd3786"
             ],
             [
              0.5555555555555556,
              "#d8576b"
             ],
             [
              0.6666666666666666,
              "#ed7953"
             ],
             [
              0.7777777777777778,
              "#fb9f3a"
             ],
             [
              0.8888888888888888,
              "#fdca26"
             ],
             [
              1,
              "#f0f921"
             ]
            ],
            "type": "surface"
           }
          ],
          "table": [
           {
            "cells": {
             "fill": {
              "color": "#EBF0F8"
             },
             "line": {
              "color": "white"
             }
            },
            "header": {
             "fill": {
              "color": "#C8D4E3"
             },
             "line": {
              "color": "white"
             }
            },
            "type": "table"
           }
          ]
         },
         "layout": {
          "annotationdefaults": {
           "arrowcolor": "#2a3f5f",
           "arrowhead": 0,
           "arrowwidth": 1
          },
          "autotypenumbers": "strict",
          "coloraxis": {
           "colorbar": {
            "outlinewidth": 0,
            "ticks": ""
           }
          },
          "colorscale": {
           "diverging": [
            [
             0,
             "#8e0152"
            ],
            [
             0.1,
             "#c51b7d"
            ],
            [
             0.2,
             "#de77ae"
            ],
            [
             0.3,
             "#f1b6da"
            ],
            [
             0.4,
             "#fde0ef"
            ],
            [
             0.5,
             "#f7f7f7"
            ],
            [
             0.6,
             "#e6f5d0"
            ],
            [
             0.7,
             "#b8e186"
            ],
            [
             0.8,
             "#7fbc41"
            ],
            [
             0.9,
             "#4d9221"
            ],
            [
             1,
             "#276419"
            ]
           ],
           "sequential": [
            [
             0,
             "#0d0887"
            ],
            [
             0.1111111111111111,
             "#46039f"
            ],
            [
             0.2222222222222222,
             "#7201a8"
            ],
            [
             0.3333333333333333,
             "#9c179e"
            ],
            [
             0.4444444444444444,
             "#bd3786"
            ],
            [
             0.5555555555555556,
             "#d8576b"
            ],
            [
             0.6666666666666666,
             "#ed7953"
            ],
            [
             0.7777777777777778,
             "#fb9f3a"
            ],
            [
             0.8888888888888888,
             "#fdca26"
            ],
            [
             1,
             "#f0f921"
            ]
           ],
           "sequentialminus": [
            [
             0,
             "#0d0887"
            ],
            [
             0.1111111111111111,
             "#46039f"
            ],
            [
             0.2222222222222222,
             "#7201a8"
            ],
            [
             0.3333333333333333,
             "#9c179e"
            ],
            [
             0.4444444444444444,
             "#bd3786"
            ],
            [
             0.5555555555555556,
             "#d8576b"
            ],
            [
             0.6666666666666666,
             "#ed7953"
            ],
            [
             0.7777777777777778,
             "#fb9f3a"
            ],
            [
             0.8888888888888888,
             "#fdca26"
            ],
            [
             1,
             "#f0f921"
            ]
           ]
          },
          "colorway": [
           "#636efa",
           "#EF553B",
           "#00cc96",
           "#ab63fa",
           "#FFA15A",
           "#19d3f3",
           "#FF6692",
           "#B6E880",
           "#FF97FF",
           "#FECB52"
          ],
          "font": {
           "color": "#2a3f5f"
          },
          "geo": {
           "bgcolor": "white",
           "lakecolor": "white",
           "landcolor": "#E5ECF6",
           "showlakes": true,
           "showland": true,
           "subunitcolor": "white"
          },
          "hoverlabel": {
           "align": "left"
          },
          "hovermode": "closest",
          "mapbox": {
           "style": "light"
          },
          "paper_bgcolor": "white",
          "plot_bgcolor": "#E5ECF6",
          "polar": {
           "angularaxis": {
            "gridcolor": "white",
            "linecolor": "white",
            "ticks": ""
           },
           "bgcolor": "#E5ECF6",
           "radialaxis": {
            "gridcolor": "white",
            "linecolor": "white",
            "ticks": ""
           }
          },
          "scene": {
           "xaxis": {
            "backgroundcolor": "#E5ECF6",
            "gridcolor": "white",
            "gridwidth": 2,
            "linecolor": "white",
            "showbackground": true,
            "ticks": "",
            "zerolinecolor": "white"
           },
           "yaxis": {
            "backgroundcolor": "#E5ECF6",
            "gridcolor": "white",
            "gridwidth": 2,
            "linecolor": "white",
            "showbackground": true,
            "ticks": "",
            "zerolinecolor": "white"
           },
           "zaxis": {
            "backgroundcolor": "#E5ECF6",
            "gridcolor": "white",
            "gridwidth": 2,
            "linecolor": "white",
            "showbackground": true,
            "ticks": "",
            "zerolinecolor": "white"
           }
          },
          "shapedefaults": {
           "line": {
            "color": "#2a3f5f"
           }
          },
          "ternary": {
           "aaxis": {
            "gridcolor": "white",
            "linecolor": "white",
            "ticks": ""
           },
           "baxis": {
            "gridcolor": "white",
            "linecolor": "white",
            "ticks": ""
           },
           "bgcolor": "#E5ECF6",
           "caxis": {
            "gridcolor": "white",
            "linecolor": "white",
            "ticks": ""
           }
          },
          "title": {
           "x": 0.05
          },
          "xaxis": {
           "automargin": true,
           "gridcolor": "white",
           "linecolor": "white",
           "ticks": "",
           "title": {
            "standoff": 15
           },
           "zerolinecolor": "white",
           "zerolinewidth": 2
          },
          "yaxis": {
           "automargin": true,
           "gridcolor": "white",
           "linecolor": "white",
           "ticks": "",
           "title": {
            "standoff": 15
           },
           "zerolinecolor": "white",
           "zerolinewidth": 2
          }
         }
        },
        "title": {
         "text": "Weather Score for the Next 7 Days"
        },
        "width": 1000
       }
      }
     },
     "metadata": {},
     "output_type": "display_data"
    }
   ],
   "source": [
    "fig = px.scatter_mapbox(\n",
    "    weather_summary,\n",
    "    lat='latitude',\n",
    "    lon='longitude',\n",
    "    size='weather_score',\n",
    "    color='weather_score',\n",
    "    hover_name='city',\n",
    "    hover_data={'latitude': False, 'longitude': False, 'temperature': True, 'rain': True},\n",
    "    title='Weather Score for the Next 7 Days',\n",
    "    labels={'weather_score': 'Weather Score'},\n",
    "    mapbox_style=\"carto-positron\",\n",
    "    size_max=15,\n",
    "    zoom=5\n",
    ")\n",
    "\n",
    "fig.update_layout(title=\"Weather Score for the Next 7 Days\", coloraxis_colorbar=dict(title=\"Weather Score\"), width=1000,height=900)\n",
    "fig.show()\n"
   ]
  },
  {
   "cell_type": "code",
   "execution_count": 47,
   "metadata": {},
   "outputs": [],
   "source": [
    "best_destinations = weather_summary.sort_values(by='weather_score', ascending=False).head(5)"
   ]
  },
  {
   "cell_type": "code",
   "execution_count": 48,
   "metadata": {},
   "outputs": [],
   "source": [
    "hotels_in_best_destinations = best_hotels_per_city[best_hotels_per_city['city'].isin(best_destinations['city'])]"
   ]
  },
  {
   "cell_type": "code",
   "execution_count": null,
   "metadata": {},
   "outputs": [
    {
     "data": {
      "application/vnd.plotly.v1+json": {
       "config": {
        "plotlyServerURL": "https://plot.ly"
       },
       "data": [
        {
         "customdata": [
          [
           "Cassis",
           9.3,
           "Link: https://www.booking.com/hotel/fr/le-petit-pecheur-de-cassis.html"
          ],
          [
           "Cassis",
           8.2,
           "Link: https://www.booking.com/hotel/fr/lou-parpaiou-by-k6conciergerie.html"
          ],
          [
           "Cassis",
           8.6,
           "Link: https://www.booking.com/hotel/fr/face-a-la-mer-cassis.html"
          ],
          [
           "Cassis",
           8.4,
           "Link: https://www.booking.com/hotel/fr/cassis-t2-dans-le-centre-ville.html"
          ],
          [
           "Cassis",
           8.8,
           "Link: https://www.booking.com/hotel/fr/le-grand-clocher-de-cassis.html"
          ],
          [
           "Cassis",
           9.5,
           "Link: https://www.booking.com/hotel/fr/mistral-gagnant-cassis.html"
          ],
          [
           "Cassis",
           9.4,
           "Link: https://www.booking.com/hotel/fr/le-vallat.html"
          ],
          [
           "Cassis",
           8.4,
           "Link: https://www.booking.com/hotel/fr/nesme-par-dodo-a-cassis.html"
          ],
          [
           "Cassis",
           8.3,
           "Link: https://www.booking.com/hotel/fr/appartement-du-pecheur-a-cassis-a-10-metres-du-port.html"
          ],
          [
           "Cassis",
           9.1,
           "Link: https://www.booking.com/hotel/fr/eden-cassis-centre-ville-wifi-cosi.html"
          ],
          [
           "Cassis",
           8.2,
           "Link: https://www.booking.com/hotel/fr/la-rade-cassis.html"
          ],
          [
           "Cassis",
           8.9,
           "Link: https://www.booking.com/hotel/fr/la-plage-hyper-centre-vue-port-amp-mer-climatisation.html"
          ],
          [
           "Cassis",
           9.7,
           "Link: https://www.booking.com/hotel/fr/lou-k-sea-den-le-terrier-de-la-mer.html"
          ],
          [
           "Cassis",
           8.8,
           "Link: https://www.booking.com/hotel/fr/le-capucine-terrasse-parking-cassis.html"
          ],
          [
           "Cassis",
           9,
           "Link: https://www.booking.com/hotel/fr/appartement-dans-villa.html"
          ],
          [
           "Cassis",
           8.1,
           "Link: https://www.booking.com/hotel/fr/marius-hyper-centre-2-chambres-wifi.html"
          ],
          [
           "Cassis",
           8.2,
           "Link: https://www.booking.com/hotel/fr/la-maison-de-rose-cassis.html"
          ],
          [
           "Cassis",
           8.2,
           "Link: https://www.booking.com/hotel/fr/caranco-by-k6-conciergerie-cassis.html"
          ],
          [
           "Cassis",
           7.8,
           "Link: https://www.booking.com/hotel/fr/chez-mamouska.html"
          ],
          [
           "Cassis",
           8.8,
           "Link: https://www.booking.com/hotel/fr/le-best-a-cassis-top-emplacement-cassis.html"
          ],
          [
           "Cassis",
           8.2,
           "Link: https://www.booking.com/hotel/fr/appartement-cosy-a-10-metres-du-port-de-cassis.html"
          ],
          [
           "Cassis",
           8.6,
           "Link: https://www.booking.com/hotel/fr/le-camelia-cassis.html"
          ],
          [
           "Cassis",
           8.5,
           "Link: https://www.booking.com/hotel/fr/echo-des-flots.html"
          ],
          [
           "Cassis",
           8.1,
           "Link: https://www.booking.com/hotel/fr/la-viguerie-par-dodo-a-cassis-cassis1.html"
          ],
          [
           "Cassis",
           8.7,
           "Link: https://www.booking.com/hotel/fr/reves-de-vie-studio-20m2-avec-terrasse-et-parking-prive.html"
          ],
          [
           "Cassis",
           7.9,
           "Link: https://www.booking.com/hotel/fr/studio-la-pinta-cassis.html"
          ],
          [
           "Cassis",
           8.1,
           "Link: https://www.booking.com/hotel/fr/du-joli-bois-cassis.html"
          ],
          [
           "Cassis",
           10,
           "Link: https://www.booking.com/hotel/fr/cassis-presqu-ile-calanques-2-pieces-neuf-50-m2.html"
          ],
          [
           "Cassis",
           9.5,
           "Link: https://www.booking.com/hotel/fr/cassis-calanques-2-pieces-grande-terrasse-vue-mer.html"
          ],
          [
           "Cassis",
           8.5,
           "Link: https://www.booking.com/hotel/fr/authentique-appt-sur-le-port-parking.html"
          ],
          [
           "Cassis",
           8.8,
           "Link: https://www.booking.com/hotel/fr/panoramic-vue-cassis.html"
          ],
          [
           "Cassis",
           7.8,
           "Link: https://www.booking.com/hotel/fr/interhotel-cassitel.html"
          ],
          [
           "Cassis",
           9.1,
           "Link: https://www.booking.com/hotel/fr/le-bocage-cassis.html"
          ],
          [
           "Cassis",
           9.2,
           "Link: https://www.booking.com/hotel/fr/calanque.html"
          ],
          [
           "Cassis",
           8.7,
           "Link: https://www.booking.com/hotel/fr/lei-tapenie.html"
          ],
          [
           "Cassis",
           8.9,
           "Link: https://www.booking.com/hotel/fr/location-au-bord-de-l-eau-cassis.html"
          ],
          [
           "Cassis",
           8.4,
           "Link: https://www.booking.com/hotel/fr/charmant-studio-cassis.html"
          ],
          [
           "Cassis",
           7.2,
           "Link: https://www.booking.com/hotel/fr/des-calanques.html"
          ],
          [
           "Cassis",
           8.9,
           "Link: https://www.booking.com/hotel/fr/calado-by-k6-conciergerie.html"
          ],
          [
           "Cassis",
           7.2,
           "Link: https://www.booking.com/hotel/fr/boutique-hostel-by-cassis.html"
          ],
          [
           "Cassis",
           7.8,
           "Link: https://www.booking.com/hotel/fr/vue-mer-panoramique-cassis.html"
          ],
          [
           "Cassis",
           9.7,
           "Link: https://www.booking.com/hotel/fr/the-secret-provence-gem.html"
          ],
          [
           "Cassis",
           9.4,
           "Link: https://www.booking.com/hotel/fr/reves-de-vie-studio-avec-hammam-jacuzzi-et-parking-privatifs.html"
          ],
          [
           "Cassis",
           8.5,
           "Link: https://www.booking.com/hotel/fr/cassis-et-ses-tresors.html"
          ],
          [
           "Cassis",
           8.3,
           "Link: https://www.booking.com/hotel/fr/home-cassis-maison-mediterrannee.html"
          ],
          [
           "Cassis",
           9.5,
           "Link: https://www.booking.com/hotel/fr/serenes-r-2-par-dodo-a-cassis.html"
          ],
          [
           "Cassis",
           9.2,
           "Link: https://www.booking.com/hotel/fr/la-chambre-cassidaine.html"
          ],
          [
           "Cassis",
           8.5,
           "Link: https://www.booking.com/hotel/fr/azur-cassis.html"
          ],
          [
           "Cassis",
           9.3,
           "Link: https://www.booking.com/hotel/fr/cote-gibaou.html"
          ],
          [
           "Cassis",
           9.3,
           "Link: https://www.booking.com/hotel/fr/le-bon-crin.html"
          ],
          [
           "Cassis",
           9.6,
           "Link: https://www.booking.com/hotel/fr/aiguade-appartement-d-exception-a-cassis.html"
          ],
          [
           "Cassis",
           8.7,
           "Link: https://www.booking.com/hotel/fr/bleu-indigo.html"
          ],
          [
           "Cassis",
           9.4,
           "Link: https://www.booking.com/hotel/fr/aquarius-in-cassis-chambres-d-hotes.html"
          ],
          [
           "Cassis",
           9.1,
           "Link: https://www.booking.com/hotel/fr/le-grand-bleu-par-dodo-a-cassis.html"
          ],
          [
           "Cassis",
           9.1,
           "Link: https://www.booking.com/hotel/fr/appartement-le-mehari.html"
          ],
          [
           "Cassis",
           8.9,
           "Link: https://www.booking.com/hotel/fr/le-clos-des-cigales-cassis1.html"
          ],
          [
           "Cassis",
           7.3,
           "Link: https://www.booking.com/hotel/fr/le-panoramic-cassis.html"
          ],
          [
           "Cassis",
           8.4,
           "Link: https://www.booking.com/hotel/fr/studio-cocooning-a-50-m-du-port.html"
          ],
          [
           "Cassis",
           8.2,
           "Link: https://www.booking.com/hotel/fr/mistral-cassis.html"
          ],
          [
           "Cassis",
           9.2,
           "Link: https://www.booking.com/hotel/fr/appartement-centre-ville-cassis.html"
          ],
          [
           "Cassis",
           9.1,
           "Link: https://www.booking.com/hotel/fr/le-mimosa-cassis.html"
          ],
          [
           "Cassis",
           9.8,
           "Link: https://www.booking.com/hotel/fr/le-petit-canaille.html"
          ],
          [
           "Cassis",
           7.5,
           "Link: https://www.booking.com/hotel/fr/chambers-par-dodo-a-cassis.html"
          ],
          [
           "Cassis",
           8.3,
           "Link: https://www.booking.com/hotel/fr/sea-home.html"
          ],
          [
           "Cassis",
           8.4,
           "Link: https://www.booking.com/hotel/fr/la-favorite-centre-de-cassis-climatisation.html"
          ],
          [
           "Cassis",
           8.8,
           "Link: https://www.booking.com/hotel/fr/la-rade-centre-ville-balcon-clim-neuf.html"
          ],
          [
           "Cassis",
           8.1,
           "Link: https://www.booking.com/hotel/fr/le-fonvert-cassis-appart-mer-by-laconciergerie13-cassis.html"
          ],
          [
           "Cassis",
           8,
           "Link: https://www.booking.com/hotel/fr/giovannina-n5.html"
          ],
          [
           "Cassis",
           9,
           "Link: https://www.booking.com/hotel/fr/spacious-apartment-with-large-terrace-and-sea-view.html"
          ],
          [
           "Cassis",
           7.6,
           "Link: https://www.booking.com/hotel/fr/by-cassis-cassis.html"
          ],
          [
           "Cassis",
           9.6,
           "Link: https://www.booking.com/hotel/fr/sunrise-cassis.html"
          ],
          [
           "Cassis",
           8.7,
           "Link: https://www.booking.com/hotel/fr/le-pin-parasol-a-cassis-studio-3-personnes-by-k6.html"
          ],
          [
           "Cassis",
           9.2,
           "Link: https://www.booking.com/hotel/fr/appartement-t3-rdc-cassis.html"
          ],
          [
           "Cassis",
           8.9,
           "Link: https://www.booking.com/hotel/fr/maison-familiale-au-centre-de-cassis.html"
          ],
          [
           "Cassis",
           8.2,
           "Link: https://www.booking.com/hotel/fr/figuerolles-cassis.html"
          ],
          [
           "Cassis",
           9.2,
           "Link: https://www.booking.com/hotel/fr/la-maison-sur-le-port-4-pers-vue-mer.html"
          ],
          [
           "Cassis",
           9.1,
           "Link: https://www.booking.com/hotel/fr/les-voiles-blanches-par-dodo-a-cassis-cassis.html"
          ],
          [
           "Cassis",
           9.3,
           "Link: https://www.booking.com/hotel/fr/charmant-studio-au-coeur-de-cassis.html"
          ],
          [
           "Cassis",
           8.7,
           "Link: https://www.booking.com/hotel/fr/horizon-bleu-vue-mer.html"
          ],
          [
           "Cassis",
           7.9,
           "Link: https://www.booking.com/hotel/fr/appart-calme-les-terrasses-68.html"
          ],
          [
           "Cassis",
           8.3,
           "Link: https://www.booking.com/hotel/fr/appartement-st-marc-cassis.html"
          ],
          [
           "Cassis",
           8.3,
           "Link: https://www.booking.com/hotel/fr/clocher-de-cassis.html"
          ],
          [
           "Cassis",
           8.6,
           "Link: https://www.booking.com/hotel/fr/le-cezanne-200m-plage-wifi-parking.html"
          ],
          [
           "Cassis",
           8.7,
           "Link: https://www.booking.com/hotel/fr/le-clos-des-aromes-cassis.html"
          ],
          [
           "Cassis",
           8.1,
           "Link: https://www.booking.com/hotel/fr/bleu-cassis-vintage.html"
          ],
          [
           "Cassis",
           8.8,
           "Link: https://www.booking.com/hotel/fr/port-pin-par-dodo-a-cassis.html"
          ],
          [
           "Cassis",
           7.9,
           "Link: https://www.booking.com/hotel/fr/chez-fifi-studio-28m2-hyper-centre-wifi.html"
          ],
          [
           "Cassis",
           7.3,
           "Link: https://www.booking.com/hotel/fr/super-cassis-paradis-8p-piscine-vue-mer.html"
          ],
          [
           "Cassis",
           9.5,
           "Link: https://www.booking.com/hotel/fr/le-p-tit-canaille-plein-centre-avec-parking-prive.html"
          ],
          [
           "Cassis",
           8.2,
           "Link: https://www.booking.com/hotel/fr/cassis-et-ses-merveilleuses-calanques.html"
          ],
          [
           "Cassis",
           8.7,
           "Link: https://www.booking.com/hotel/fr/la-maison-de-doms.html"
          ],
          [
           "Cassis",
           9.1,
           "Link: https://www.booking.com/hotel/fr/cassis-ma-vie-la.html"
          ],
          [
           "Cassis",
           7.8,
           "Link: https://www.booking.com/hotel/fr/atelier-du-bonheur-cassis.html"
          ],
          [
           "Cassis",
           7.2,
           "Link: https://www.booking.com/hotel/fr/3-avenue-du-11-novembre-1918.html"
          ],
          [
           "Cassis",
           8,
           "Link: https://www.booking.com/hotel/fr/cocoon-in-cassis.html"
          ],
          [
           "Cassis",
           9.7,
           "Link: https://www.booking.com/hotel/fr/au-coeur-de-cassis-cassis3.html"
          ],
          [
           "Cassis",
           8.9,
           "Link: https://www.booking.com/hotel/fr/grand-large-cassis.html"
          ],
          [
           "Cassis",
           9.5,
           "Link: https://www.booking.com/hotel/fr/reves-de-vie-appartement-vue-mer-piscine-et-spa-privatifs.html"
          ],
          [
           "Cassis",
           8.6,
           "Link: https://www.booking.com/hotel/fr/bastide-du-xix-cassis.html"
          ],
          [
           "Cassis",
           8.7,
           "Link: https://www.booking.com/hotel/fr/l-39-aiglon-cassis.html"
          ],
          [
           "Cassis",
           9.5,
           "Link: https://www.booking.com/hotel/fr/villa-le-sud-cassis1.html"
          ],
          [
           "Cassis",
           8.7,
           "Link: https://www.booking.com/hotel/fr/les-trois-oliviers-a-cassis.html"
          ],
          [
           "Cassis",
           9.1,
           "Link: https://www.booking.com/hotel/fr/eva-charmant-centre-cassis-wifi.html"
          ],
          [
           "Cassis",
           7.9,
           "Link: https://www.booking.com/hotel/fr/villa-floriane.html"
          ],
          [
           "Cassis",
           8.9,
           "Link: https://www.booking.com/hotel/fr/appartement-astoria-villa-face-piscine.html"
          ],
          [
           "Cassis",
           7.5,
           "Link: https://www.booking.com/hotel/fr/studio-cassis-cassis.html"
          ],
          [
           "Cassis",
           8.5,
           "Link: https://www.booking.com/hotel/fr/la-petite-boheme-k6conciergerie.html"
          ],
          [
           "Cassis",
           7.9,
           "Link: https://www.booking.com/hotel/fr/le-palmyre.html"
          ],
          [
           "Cassis",
           7.9,
           "Link: https://www.booking.com/hotel/fr/les-pieds-dans-le-sable-cassis.html"
          ],
          [
           "Cassis",
           7.8,
           "Link: https://www.booking.com/hotel/fr/horizon-cassis.html"
          ],
          [
           "Cassis",
           8,
           "Link: https://www.booking.com/hotel/fr/terre-marine-bel-appartement-avec-terrasse-vue-mer.html"
          ],
          [
           "Cassis",
           8.5,
           "Link: https://www.booking.com/hotel/fr/350m-du-port-parking-vue-canaille.html"
          ],
          [
           "Cassis",
           8.4,
           "Link: https://www.booking.com/hotel/fr/atelier-piscine-wifi-dans-les-vignes.html"
          ],
          [
           "Cassis",
           9.9,
           "Link: https://www.booking.com/hotel/fr/click-20-casa-lamartine-location-ideal-fabulous.html"
          ],
          [
           "Cassis",
           8.6,
           "Link: https://www.booking.com/hotel/fr/le-club-cassis1.html"
          ],
          [
           "Cassis",
           9.5,
           "Link: https://www.booking.com/hotel/fr/appartement-avec-terrasse-sur-le-port-pieds-dans-l-eau.html"
          ],
          [
           "Cassis",
           9,
           "Link: https://www.booking.com/hotel/fr/villa-w.html"
          ],
          [
           "Cassis",
           9.2,
           "Link: https://www.booking.com/hotel/fr/hpc-suites.html"
          ],
          [
           "Cassis",
           8.4,
           "Link: https://www.booking.com/hotel/fr/du-grand-jardin.html"
          ],
          [
           "Cassis",
           6.9,
           "Link: https://www.booking.com/hotel/fr/la-perle-de-cassis-47-grande-terrasse-vue-mer-centre-ville-spacieux-sur-le-port.html"
          ],
          [
           "Cassis",
           7.4,
           "Link: https://www.booking.com/hotel/fr/puerto-cabana-grand-studio-avec-parking-et-terrasse-vue-port.html"
          ],
          [
           "Cassis",
           8.7,
           "Link: https://www.booking.com/hotel/fr/le-petit-cassis-cassis1.html"
          ],
          [
           "Cassis",
           7.9,
           "Link: https://www.booking.com/hotel/fr/calanque-de-port-miou.html"
          ],
          [
           "Cassis",
           9,
           "Link: https://www.booking.com/hotel/fr/appartement-avec-jardin-vue-sur-mer-2-etoiles.html"
          ],
          [
           "Cassis",
           9.5,
           "Link: https://www.booking.com/hotel/fr/blue-eden-au-coeur-du-village.html"
          ],
          [
           "Cassis",
           9,
           "Link: https://www.booking.com/hotel/fr/la-romarine-cassis.html"
          ],
          [
           "Cassis",
           8.7,
           "Link: https://www.booking.com/hotel/fr/face-au-cap-1-cassis1.html"
          ],
          [
           "Cassis",
           8.7,
           "Link: https://www.booking.com/hotel/fr/la-rade-1-par-dodo-a-cassis.html"
          ],
          [
           "Cassis",
           9.1,
           "Link: https://www.booking.com/hotel/fr/au-son-des-cigales-cassis.html"
          ],
          [
           "Cassis",
           8,
           "Link: https://www.booking.com/hotel/fr/giovannina-n4.html"
          ],
          [
           "Cassis",
           8.9,
           "Link: https://www.booking.com/hotel/fr/sleep-in-cassis.html"
          ],
          [
           "Cassis",
           8.2,
           "Link: https://www.booking.com/hotel/fr/le-panoramic-2-par-dodo-a-cassis.html"
          ],
          [
           "Cassis",
           8.1,
           "Link: https://www.booking.com/hotel/fr/les-jardins-de-cassis.html"
          ],
          [
           "Cassis",
           8.4,
           "Link: https://www.booking.com/hotel/fr/giovannina-n3.html"
          ],
          [
           "Cassis",
           8.5,
           "Link: https://www.booking.com/hotel/fr/le-cosyport.html"
          ],
          [
           "Cassis",
           8.4,
           "Link: https://www.booking.com/hotel/fr/cassis-centre.html"
          ],
          [
           "Cassis",
           8.5,
           "Link: https://www.booking.com/hotel/fr/charmant-t3-centre-de-cassis.html"
          ],
          [
           "Cassis",
           8.4,
           "Link: https://www.booking.com/hotel/fr/residence-les-hauts-cepages.html"
          ],
          [
           "Cassis",
           9,
           "Link: https://www.booking.com/hotel/fr/galets-bleus-by-k6-conciergerie-prestige.html"
          ],
          [
           "Cassis",
           7.8,
           "Link: https://www.booking.com/hotel/fr/avenue-amiral-ganteaume-residence-de-la-rade-bt-a7.html"
          ],
          [
           "Cassis",
           8.3,
           "Link: https://www.booking.com/hotel/fr/cassis-centre-cassis.html"
          ],
          [
           "Cassis",
           8.6,
           "Link: https://www.booking.com/hotel/fr/de-la-plage-cassis.html"
          ],
          [
           "Cassis",
           9.5,
           "Link: https://www.booking.com/hotel/fr/zina.html"
          ],
          [
           "Cassis",
           9,
           "Link: https://www.booking.com/hotel/fr/le-dauphin-by-k6-conciergerie-prestige.html"
          ],
          [
           "Cassis",
           8.1,
           "Link: https://www.booking.com/hotel/fr/cassis-4pers-vue-mer-wifi-tennis-parking-piscine.html"
          ],
          [
           "Cassis",
           7.5,
           "Link: https://www.booking.com/hotel/fr/pacotte.html"
          ],
          [
           "Cassis",
           9.2,
           "Link: https://www.booking.com/hotel/fr/la-cigale-cassis.html"
          ],
          [
           "Cassis",
           9.3,
           "Link: https://www.booking.com/hotel/fr/au-coeur-de-cassis-cassis1.html"
          ],
          [
           "Cassis",
           7.7,
           "Link: https://www.booking.com/hotel/fr/just-in-cap-canaille.html"
          ],
          [
           "Cassis",
           9.3,
           "Link: https://www.booking.com/hotel/fr/magnifique-appartement-cassis.html"
          ],
          [
           "Cassis",
           8.8,
           "Link: https://www.booking.com/hotel/fr/cassis-studio-50m-de-la-grande-plage.html"
          ],
          [
           "Cassis",
           8.8,
           "Link: https://www.booking.com/hotel/fr/calanque-d-en-vau.html"
          ],
          [
           "Cassis",
           9,
           "Link: https://www.booking.com/hotel/fr/superbestouan-6-personnes-clim-fibre-parking.html"
          ],
          [
           "Cassis",
           8.4,
           "Link: https://www.booking.com/hotel/fr/le-poseidon-vue-mer.html"
          ],
          [
           "Cassis",
           8.4,
           "Link: https://www.booking.com/hotel/fr/vue-de-reve.html"
          ],
          [
           "Cassis",
           8.3,
           "Link: https://www.booking.com/hotel/fr/calanque-de-morgiou-cassis.html"
          ],
          [
           "Cassis",
           9.7,
           "Link: https://www.booking.com/hotel/fr/sunset-cassis.html"
          ],
          [
           "Cassis",
           9,
           "Link: https://www.booking.com/hotel/fr/la-forlane-cassis1.html"
          ],
          [
           "Cassis",
           8.3,
           "Link: https://www.booking.com/hotel/fr/royal-cottage.html"
          ],
          [
           "Cassis",
           9.4,
           "Link: https://www.booking.com/hotel/fr/le-petit-cassis-cassis.html"
          ],
          [
           "Cassis",
           8.4,
           "Link: https://www.booking.com/hotel/fr/magnifique-pied-a-terre-cassis-5min-coeur-village.html"
          ],
          [
           "Cassis",
           8.6,
           "Link: https://www.booking.com/hotel/fr/le-carnot-cassis.html"
          ],
          [
           "Cassis",
           8.1,
           "Link: https://www.booking.com/hotel/fr/chez-annie-cassis.html"
          ],
          [
           "Cassis",
           8.8,
           "Link: https://www.booking.com/hotel/fr/bel-appartement-t3-refait-a-neuf.html"
          ],
          [
           "Cassis",
           7.8,
           "Link: https://www.booking.com/hotel/fr/le-kalliste-par-dodo-a-cassis.html"
          ],
          [
           "Cassis",
           9.3,
           "Link: https://www.booking.com/hotel/fr/un-ecrin-a-cassis.html"
          ],
          [
           "Cassis",
           9.2,
           "Link: https://www.booking.com/hotel/fr/la-mounine-hyper-centre-37m2-4-pers.html"
          ],
          [
           "Cassis",
           9.2,
           "Link: https://www.booking.com/hotel/fr/cassis-centre-superbe-appartement-neuf-50m-port.html"
          ],
          [
           "Cassis",
           8.7,
           "Link: https://www.booking.com/hotel/fr/une-terrasse-sur-la-mer-cassis.html"
          ],
          [
           "Cassis",
           8.8,
           "Link: https://www.booking.com/hotel/fr/des-roches-blanches.html"
          ],
          [
           "Cassis",
           8.4,
           "Link: https://www.booking.com/hotel/fr/magnifique-t2-residence-la-rade-vue-mer-parking.html"
          ],
          [
           "Cassis",
           8.7,
           "Link: https://www.booking.com/hotel/fr/studio-les-terres-marines-piscine-k6-amp-you.html"
          ],
          [
           "Cassis",
           9.6,
           "Link: https://www.booking.com/hotel/fr/immersione-clim-terrasse-jardin-centre-ville.html"
          ],
          [
           "Cassis",
           8.3,
           "Link: https://www.booking.com/hotel/fr/le-repaire-de-la-vierge-boheme.html"
          ],
          [
           "Cassis",
           9.6,
           "Link: https://www.booking.com/hotel/fr/brises-marines-par-dodo-a-cassis.html"
          ],
          [
           "Cassis",
           8.7,
           "Link: https://www.booking.com/hotel/fr/le-grand-pecheur-de-cassis-cassis.html"
          ],
          [
           "Cassis",
           8.2,
           "Link: https://www.booking.com/hotel/fr/calanque-de-port-pin.html"
          ],
          [
           "Cassis",
           9,
           "Link: https://www.booking.com/hotel/fr/le-clos-de-la-tour-cassis-cassis.html"
          ],
          [
           "Cassis",
           9.2,
           "Link: https://www.booking.com/hotel/fr/villa-cassis.html"
          ],
          [
           "Cassis",
           8.9,
           "Link: https://www.booking.com/hotel/fr/odyssee-bleue-vue-mer.html"
          ],
          [
           "Cassis",
           8,
           "Link: https://www.booking.com/hotel/fr/lei-tapenie-2-par-dodo-a-cassis.html"
          ],
          [
           "Cassis",
           8.1,
           "Link: https://www.booking.com/hotel/fr/le-golfe-cassis.html"
          ],
          [
           "Cassis",
           8.8,
           "Link: https://www.booking.com/hotel/fr/cassis-centre-100-m-du-port-place-parking.html"
          ],
          [
           "Cassis",
           8.1,
           "Link: https://www.booking.com/hotel/fr/au-calme-200m-du-centre-t2-avec-balcon-et-parking-cassis1.html"
          ],
          [
           "Cassis",
           7.6,
           "Link: https://www.booking.com/hotel/fr/bonnard-abbe.html"
          ],
          [
           "Cassis",
           8.1,
           "Link: https://www.booking.com/hotel/fr/le-grand-large-2-par-dodo-a-cassis-cassis.html"
          ],
          [
           "Cassis",
           8.6,
           "Link: https://www.booking.com/hotel/fr/cassis-jardin-prive-ds-le-centre-parking-plage-a-500m.html"
          ],
          [
           "Cassis",
           6.9,
           "Link: https://www.booking.com/hotel/fr/studio-renove-avec-vue-magique.html"
          ],
          [
           "Cassis",
           8.3,
           "Link: https://www.booking.com/hotel/fr/liautaud.html"
          ],
          [
           "Cassis",
           9.4,
           "Link: https://www.booking.com/hotel/fr/studio-le-club-cassis.html"
          ],
          [
           "Cassis",
           8.1,
           "Link: https://www.booking.com/hotel/fr/le-val-d-39-ore-par-dodo-a-cassis.html"
          ],
          [
           "Cassis",
           9.2,
           "Link: https://www.booking.com/hotel/fr/pleine-vue.html"
          ],
          [
           "Cassis",
           8.9,
           "Link: https://www.booking.com/hotel/fr/promo-t3-avec-jardin-dans-villa-rocaille.html"
          ],
          [
           "Cassis",
           9.7,
           "Link: https://www.booking.com/hotel/fr/appartement-port-rue-michel-arnaud.html"
          ],
          [
           "Cassis",
           8.1,
           "Link: https://www.booking.com/hotel/fr/superb-bright-flat-with-balcony-and-sea-view-in-cassis-welkeys.html"
          ],
          [
           "Cassis",
           8.6,
           "Link: https://www.booking.com/hotel/fr/le-pecheur-de-cassis.html"
          ],
          [
           "Cassis",
           7.7,
           "Link: https://www.booking.com/hotel/fr/l-39-atypique.html"
          ],
          [
           "Cassis",
           9.1,
           "Link: https://www.booking.com/hotel/fr/studio-les-terres-marines-climatise-piscine-k6-amp-you.html"
          ],
          [
           "Cassis",
           8.8,
           "Link: https://www.booking.com/hotel/fr/80m2-a-200m-de-la-calanque-de-port-miou-2-chambres-et-parking.html"
          ],
          [
           "Cassis",
           8.8,
           "Link: https://www.booking.com/hotel/fr/anglet-par-dodo-a-cassis.html"
          ],
          [
           "Cassis",
           9.3,
           "Link: https://www.booking.com/hotel/fr/grand-studio-proche-gare-cassis.html"
          ],
          [
           "Cassis",
           7.7,
           "Link: https://www.booking.com/hotel/fr/appartement-cassis-plage.html"
          ],
          [
           "Cassis",
           8.8,
           "Link: https://www.booking.com/hotel/fr/studio-petite-canaille.html"
          ],
          [
           "Cassis",
           8,
           "Link: https://www.booking.com/hotel/fr/duplex-tropezienne.html"
          ],
          [
           "Cassis",
           9.3,
           "Link: https://www.booking.com/hotel/fr/exceptionnel-5-du-village-de-cassis-vue-feerique-piscine-parking.html"
          ],
          [
           "Cassis",
           8.6,
           "Link: https://www.booking.com/hotel/fr/cassis-centre-village.html"
          ],
          [
           "Cassis",
           7.8,
           "Link: https://www.booking.com/hotel/fr/home-cassis.html"
          ],
          [
           "Cassis",
           8,
           "Link: https://www.booking.com/hotel/fr/giovannina-n2.html"
          ],
          [
           "Cassis",
           8.7,
           "Link: https://www.booking.com/hotel/fr/cassis-charmant-appart-en-face-de-la-plage.html"
          ],
          [
           "Cassis",
           9.5,
           "Link: https://www.booking.com/hotel/fr/villa-bobnell.html"
          ],
          [
           "Cassis",
           8.8,
           "Link: https://www.booking.com/hotel/fr/studio-arene-by-k6-you.html"
          ],
          [
           "Cassis",
           9.3,
           "Link: https://www.booking.com/hotel/fr/guest-house-olivades.html"
          ],
          [
           "Cassis",
           8.5,
           "Link: https://www.booking.com/hotel/fr/le-bosquet-2-vue-180deg.html"
          ],
          [
           "Cassis",
           8.4,
           "Link: https://www.booking.com/hotel/fr/super-bestouan.html"
          ],
          [
           "Cassis",
           8.5,
           "Link: https://www.booking.com/hotel/fr/arbousier-cassis.html"
          ],
          [
           "Cassis",
           8.3,
           "Link: https://www.booking.com/hotel/fr/sous-un-olivier.html"
          ],
          [
           "Cassis",
           8.5,
           "Link: https://www.booking.com/hotel/fr/la-rade-cassis1.html"
          ],
          [
           "Cassis",
           8.3,
           "Link: https://www.booking.com/hotel/fr/le-canaio-upper-club-par-dodo-a-cassis.html"
          ],
          [
           "Cassis",
           9.1,
           "Link: https://www.booking.com/hotel/fr/le-grand-bleu-cassis1.html"
          ],
          [
           "Cassis",
           9.2,
           "Link: https://www.booking.com/hotel/fr/le-cassidain-port-et-plage-luxious-appartement.html"
          ],
          [
           "Cassis",
           9.2,
           "Link: https://www.booking.com/hotel/fr/mon-petit-paradis-cassis-centre-apt-90-m2-200-m-mer-terr-plein-sud-clim-park-pri.html"
          ],
          [
           "Cassis",
           9.7,
           "Link: https://www.booking.com/hotel/fr/le-mas-du-perthus.html"
          ],
          [
           "Cassis",
           8.5,
           "Link: https://www.booking.com/hotel/fr/le-petit-paradis-cassis.html"
          ],
          [
           "Cassis",
           7.1,
           "Link: https://www.booking.com/hotel/fr/le-canaille-cap.html"
          ],
          [
           "Cassis",
           9.4,
           "Link: https://www.booking.com/hotel/fr/reves-de-vie.html"
          ],
          [
           "Cassis",
           8.2,
           "Link: https://www.booking.com/hotel/fr/sea-and-sun-cassis.html"
          ],
          [
           "Cassis",
           7.5,
           "Link: https://www.booking.com/hotel/fr/magnifique-studio-cassis-cassis.html"
          ],
          [
           "Cassis",
           9.8,
           "Link: https://www.booking.com/hotel/fr/appartement-villa-cassis.html"
          ],
          [
           "Cassis",
           8.1,
           "Link: https://www.booking.com/hotel/fr/cassiopee.html"
          ],
          [
           "Cassis",
           9.1,
           "Link: https://www.booking.com/hotel/fr/cassis-lodges.html"
          ],
          [
           "Cassis",
           8.4,
           "Link: https://www.booking.com/hotel/fr/rose-d-39-eden-par-dodo-a-cassis.html"
          ],
          [
           "Cassis",
           8.1,
           "Link: https://www.booking.com/hotel/fr/le-corton-45m2-parking-jardin-wifi.html"
          ],
          [
           "Cassis",
           9.5,
           "Link: https://www.booking.com/hotel/fr/petit-patio-2-chambres-centre-ville-cassis.html"
          ],
          [
           "Cassis",
           9.4,
           "Link: https://www.booking.com/hotel/fr/suites-23-cassis2.html"
          ],
          [
           "Cassis",
           8.8,
           "Link: https://www.booking.com/hotel/fr/le-verdesco.html"
          ],
          [
           "Cassis",
           9,
           "Link: https://www.booking.com/hotel/fr/miramar-cassis.html"
          ],
          [
           "Cassis",
           8,
           "Link: https://www.booking.com/hotel/fr/balcon-sur-mer.html"
          ],
          [
           "Cassis",
           7.5,
           "Link: https://www.booking.com/hotel/fr/le-saint-clair-terrasse-renove-en-2020.html"
          ],
          [
           "Cassis",
           8.7,
           "Link: https://www.booking.com/hotel/fr/front-de-mer-600m-du-port-piscine-parking.html"
          ],
          [
           "Cassis",
           9.2,
           "Link: https://www.booking.com/hotel/fr/le-pop-flat-by-winkyhouse-cassis.html"
          ],
          [
           "Cassis",
           9.1,
           "Link: https://www.booking.com/hotel/fr/la-petite-cigale-by-k6conciergerie.html"
          ],
          [
           "Cassis",
           8.7,
           "Link: https://www.booking.com/hotel/fr/face-a-la-mer-cassis-et-son-cap-canaille.html"
          ],
          [
           "Cassis",
           8.3,
           "Link: https://www.booking.com/hotel/fr/le-solemar.html"
          ],
          [
           "Cassis",
           9.1,
           "Link: https://www.booking.com/hotel/fr/seaview-cassis.html"
          ],
          [
           "Cassis",
           9.4,
           "Link: https://www.booking.com/hotel/fr/lovera-carol-ann-maison-de-ville-par-dodo-a-cassis.html"
          ],
          [
           "Cassis",
           6.8,
           "Link: https://www.booking.com/hotel/fr/le-marignan-par-dodo-a-cassis-cassis.html"
          ],
          [
           "Cassis",
           8.8,
           "Link: https://www.booking.com/hotel/fr/le-perchoir-de-cassis-cocoon.html"
          ],
          [
           "Cassis",
           9.3,
           "Link: https://www.booking.com/hotel/fr/le-pagnol-hyper-centre-clim.html"
          ],
          [
           "Cassis",
           8.7,
           "Link: https://www.booking.com/hotel/fr/les-terrasses-de-cassis.html"
          ],
          [
           "Cassis",
           9.4,
           "Link: https://www.booking.com/hotel/fr/entre-terre-et-mer-a-cassis.html"
          ],
          [
           "Cassis",
           8.4,
           "Link: https://www.booking.com/hotel/fr/canaille-holidays-appartment-50m-to-the-harbor.html"
          ],
          [
           "Cassis",
           9.8,
           "Link: https://www.booking.com/hotel/fr/le-sept-charmant-studio-aux-portes-des-calanques.html"
          ],
          [
           "Cassis",
           9.4,
           "Link: https://www.booking.com/hotel/fr/le-grand-canaille.html"
          ],
          [
           "Cassis",
           8.8,
           "Link: https://www.booking.com/hotel/fr/fanny-cassis.html"
          ],
          [
           "Cassis",
           7.9,
           "Link: https://www.booking.com/hotel/fr/home-cassis-maison-julou.html"
          ],
          [
           "Cassis",
           8.3,
           "Link: https://www.booking.com/hotel/fr/le-zou-par-dodo-a-cassis.html"
          ],
          [
           "Cassis",
           8.9,
           "Link: https://www.booking.com/hotel/fr/le-roucas-cassis.html"
          ],
          [
           "Cassis",
           7.4,
           "Link: https://www.booking.com/hotel/fr/au-coeur-de-cassis.html"
          ],
          [
           "Cassis",
           9.1,
           "Link: https://www.booking.com/hotel/fr/locappart-cassis-en-provence.html"
          ],
          [
           "Cassis",
           8.2,
           "Link: https://www.booking.com/hotel/fr/studio-cassis-rastit.html"
          ],
          [
           "Cassis",
           9.3,
           "Link: https://www.booking.com/hotel/fr/magnifique-appartement-cassis-pres-du-port.html"
          ],
          [
           "Cassis",
           8.8,
           "Link: https://www.booking.com/hotel/fr/le-13-cassis.html"
          ],
          [
           "Cassis",
           10,
           "Link: https://www.booking.com/hotel/fr/lou-jas-maison-de-charme-a-1-km-de-la-mer.html"
          ],
          [
           "Cassis",
           9.2,
           "Link: https://www.booking.com/hotel/fr/appart-bianca-t2-terrasse-parking-calme-1mn-de-la-mer.html"
          ],
          [
           "Cassis",
           7.8,
           "Link: https://www.booking.com/hotel/fr/le-petit-clocher-de-cassis.html"
          ],
          [
           "Cassis",
           7.4,
           "Link: https://www.booking.com/hotel/fr/la-falaise-paradis-vue-mer-180deg.html"
          ],
          [
           "Cassis",
           7.3,
           "Link: https://www.booking.com/hotel/fr/le-reve-bleu-cassis.html"
          ],
          [
           "Cassis",
           8.3,
           "Link: https://www.booking.com/hotel/fr/le-son-des-vagues-vue-mer.html"
          ],
          [
           "Cassis",
           9.6,
           "Link: https://www.booking.com/hotel/fr/la-cigale-by-k6-conciergerie-prestige.html"
          ],
          [
           "Cassis",
           7,
           "Link: https://www.booking.com/hotel/fr/vue-mer-dans-belle-residence.html"
          ],
          [
           "Cassis",
           8.5,
           "Link: https://www.booking.com/hotel/fr/giovannina-n1.html"
          ],
          [
           "Cassis",
           9.1,
           "Link: https://www.booking.com/hotel/fr/cassis-appartement-bord-de-mer-vue-exceptionnelle-cassis.html"
          ],
          [
           "Cassis",
           8.8,
           "Link: https://www.booking.com/hotel/fr/t2-a-cassis-vue-mer-de-reve.html"
          ],
          [
           "Cassis",
           8.3,
           "Link: https://www.booking.com/hotel/fr/excursion-charmant-t2-renove-proche-de-la-mer.html"
          ],
          [
           "Cassis",
           9.8,
           "Link: https://www.booking.com/hotel/fr/appartement-bord-de-plage-cassis.html"
          ],
          [
           "Cassis",
           9.4,
           "Link: https://www.booking.com/hotel/fr/lou-cigalou-cassis.html"
          ],
          [
           "Cassis",
           9.2,
           "Link: https://www.booking.com/hotel/fr/appartement-avec-jardin-et-parking.html"
          ],
          [
           "Cassis",
           8.1,
           "Link: https://www.booking.com/hotel/fr/so-conciergerie-studio-situe-dans-le-centre-ville.html"
          ],
          [
           "Cassis",
           9.4,
           "Link: https://www.booking.com/hotel/fr/appartement-cosy-a-cassis-avec-vue-exceptionnelle-sur-mer.html"
          ],
          [
           "Cassis",
           9,
           "Link: https://www.booking.com/hotel/fr/appartement-centre-du-village-cassis.html"
          ],
          [
           "Cassis",
           9.2,
           "Link: https://www.booking.com/hotel/fr/appartement-le-quai-du-port-cassis-parking-clim.html"
          ],
          [
           "Cassis",
           8.6,
           "Link: https://www.booking.com/hotel/fr/appt-4-personnes-vue-mer-parking-climatisation.html"
          ],
          [
           "Cassis",
           8.8,
           "Link: https://www.booking.com/hotel/fr/sunrise-lover-by-k6conciergerie.html"
          ],
          [
           "Cassis",
           8.8,
           "Link: https://www.booking.com/hotel/fr/studio-cassis-cassis12.html"
          ],
          [
           "Cassis",
           8,
           "Link: https://www.booking.com/hotel/fr/studio-29-cassis.html"
          ],
          [
           "Cassis",
           8,
           "Link: https://www.booking.com/hotel/fr/la-vigie-cassis.html"
          ],
          [
           "Cassis",
           9.7,
           "Link: https://www.booking.com/hotel/fr/cassis-centre-neuf-72-m2-clim-et-place-privee.html"
          ],
          [
           "Cassis",
           9.1,
           "Link: https://www.booking.com/hotel/fr/le-calendal-par-dodo-a-cassis.html"
          ],
          [
           "Cassis",
           8.8,
           "Link: https://www.booking.com/hotel/fr/superbe-appartement-ultra-centre-proche-plage-et-port-4-personnes.html"
          ],
          [
           "Cassis",
           9.8,
           "Link: https://www.booking.com/hotel/fr/the-address-cassis.html"
          ],
          [
           "Cassis",
           8.9,
           "Link: https://www.booking.com/hotel/fr/azur-appart-4-pers-parking-wifi-10min-du-port.html"
          ],
          [
           "Cassis",
           8.2,
           "Link: https://www.booking.com/hotel/fr/le-bosquet-3-par-dodo-a-cassis.html"
          ],
          [
           "Cassis",
           9.4,
           "Link: https://www.booking.com/hotel/fr/le-coteau-de-cassis.html"
          ],
          [
           "Cassis",
           9.3,
           "Link: https://www.booking.com/hotel/fr/puerta-del-sol.html"
          ],
          [
           "Cassis",
           8.4,
           "Link: https://www.booking.com/hotel/fr/ravissant-2-pieces-50m-du-port-tres-calme.html"
          ],
          [
           "Cassis",
           8.8,
           "Link: https://www.booking.com/hotel/fr/hulin.html"
          ],
          [
           "Cassis",
           7.5,
           "Link: https://www.booking.com/hotel/fr/le-pitchou-par-dodo-a-cassis.html"
          ],
          [
           "Marseille",
           9.1,
           "Link: https://www.booking.com/hotel/fr/le-couvent-du-vieux-port.html"
          ],
          [
           "Marseille",
           8,
           "Link: https://www.booking.com/hotel/fr/t2-vieux-port-lumineux.html"
          ],
          [
           "Marseille",
           8.5,
           "Link: https://www.booking.com/hotel/fr/marseille-dieu.html"
          ],
          [
           "Marseille",
           8.2,
           "Link: https://www.booking.com/hotel/fr/octopus-petit-patio-estival.html"
          ],
          [
           "Marseille",
           8,
           "Link: https://www.booking.com/hotel/fr/saint-laurent-magnifique-studio-avec-vue-sur-mer.html"
          ],
          [
           "Marseille",
           8.8,
           "Link: https://www.booking.com/hotel/fr/appartement-centre-marseille.html"
          ],
          [
           "Marseille",
           8,
           "Link: https://www.booking.com/hotel/fr/vertigo-vieux-port-marseille.html"
          ],
          [
           "Marseille",
           9,
           "Link: https://www.booking.com/hotel/fr/r-le-breteuil-superbe-t2-plein-centre.html"
          ],
          [
           "Marseille",
           7.3,
           "Link: https://www.booking.com/hotel/fr/montempo-marseille-centre.html"
          ],
          [
           "Marseille",
           9,
           "Link: https://www.booking.com/hotel/fr/superbe-appartement-balcon-vu-vieux-port-marseille.html"
          ],
          [
           "Marseille",
           8.4,
           "Link: https://www.booking.com/hotel/fr/republique-la-joliette.html"
          ],
          [
           "Marseille",
           8.8,
           "Link: https://www.booking.com/hotel/fr/superbe-appartement-tout-equipe-avec-parking.html"
          ],
          [
           "Marseille",
           8.6,
           "Link: https://www.booking.com/hotel/fr/mercure-grand-beauvau.html"
          ],
          [
           "Marseille",
           7.2,
           "Link: https://www.booking.com/hotel/fr/lafrenchcasa-canebiere.html"
          ],
          [
           "Marseille",
           8.6,
           "Link: https://www.booking.com/hotel/fr/les-bords-de-mer.html"
          ],
          [
           "Marseille",
           9,
           "Link: https://www.booking.com/hotel/fr/julien-gare-st-charles-cours-julien.html"
          ],
          [
           "Marseille",
           7.9,
           "Link: https://www.booking.com/hotel/fr/studio-toit-terrasse-vieux-port.html"
          ],
          [
           "Marseille",
           8.4,
           "Link: https://www.booking.com/hotel/fr/appartement-haussmannien-type-loft-climatise-vieux-port-le-panier.html"
          ],
          [
           "Marseille",
           9.5,
           "Link: https://www.booking.com/hotel/fr/les-jardins-du-ga-c-na-c-ral.html"
          ],
          [
           "Marseille",
           9.8,
           "Link: https://www.booking.com/hotel/fr/le-paul-appart-de-standing-avec-2-ch-et-clim.html"
          ],
          [
           "Marseille",
           8.8,
           "Link: https://www.booking.com/hotel/fr/la-piboule-au-coeur-du-panier-t2-39m2.html"
          ],
          [
           "Marseille",
           9.7,
           "Link: https://www.booking.com/hotel/fr/la-maison-vague.html"
          ],
          [
           "Marseille",
           8.8,
           "Link: https://www.booking.com/hotel/fr/t2-avec-box-garage-proche-velodrome-et-prado.html"
          ],
          [
           "Marseille",
           9.6,
           "Link: https://www.booking.com/hotel/fr/suite-privee-du-balcon-du-vieux-port-marseille.html"
          ],
          [
           "Marseille",
           8.7,
           "Link: https://www.booking.com/hotel/fr/les-cabanons-de-fonfon.html"
          ],
          [
           "Marseille",
           6.9,
           "Link: https://www.booking.com/hotel/fr/19-marseille.html"
          ],
          [
           "Marseille",
           9.3,
           "Link: https://www.booking.com/hotel/fr/studio-travel-120m-vieux-port-climatise-calme.html"
          ],
          [
           "Marseille",
           8.1,
           "Link: https://www.booking.com/hotel/fr/nhow-marseille.html"
          ],
          [
           "Marseille",
           9.1,
           "Link: https://www.booking.com/hotel/fr/grand-studio-bord-de-mer-anse-des-catalans.html"
          ],
          [
           "Marseille",
           8.4,
           "Link: https://www.booking.com/hotel/fr/petit-nid-douille-vieux-port-4-personnes.html"
          ],
          [
           "Marseille",
           7.9,
           "Link: https://www.booking.com/hotel/fr/citea-marseille-prado-perier.html"
          ],
          [
           "Marseille",
           7.7,
           "Link: https://www.booking.com/hotel/fr/o51.html"
          ],
          [
           "Marseille",
           8.2,
           "Link: https://www.booking.com/hotel/fr/cmg-marseille-47-opera.html"
          ],
          [
           "Marseille",
           7.8,
           "Link: https://www.booking.com/hotel/fr/rivages-du-vieux-port-st-ferreol.html"
          ],
          [
           "Marseille",
           7.5,
           "Link: https://www.booking.com/hotel/fr/beautiful-flat-in-vieux-port.html"
          ],
          [
           "Marseille",
           8.8,
           "Link: https://www.booking.com/hotel/fr/jungle-republic.html"
          ],
          [
           "Marseille",
           8,
           "Link: https://www.booking.com/hotel/fr/grand-t1-vieux-port-salle-de-sport-amp-rooftop.html"
          ],
          [
           "Marseille",
           8.4,
           "Link: https://www.booking.com/hotel/fr/appartement-vieux-port-de-marseille-opera.html"
          ],
          [
           "Marseille",
           9.3,
           "Link: https://www.booking.com/hotel/fr/marseillecity-chambre-d-ha-tes-dans-un-loft.html"
          ],
          [
           "Marseille",
           8.6,
           "Link: https://www.booking.com/hotel/fr/studio-calanques-pres-du-vieux-port.html"
          ],
          [
           "Marseille",
           9.3,
           "Link: https://www.booking.com/hotel/fr/coup-de-coeur-vieux-port-47-opera.html"
          ],
          [
           "Marseille",
           8.5,
           "Link: https://www.booking.com/hotel/fr/le-barthelemy.html"
          ],
          [
           "Marseille",
           9.1,
           "Link: https://www.booking.com/hotel/fr/les-floralies-canebiere.html"
          ],
          [
           "Marseille",
           7,
           "Link: https://www.booking.com/hotel/fr/panier-vieux-port-marseille2.html"
          ],
          [
           "Marseille",
           7.5,
           "Link: https://www.booking.com/hotel/fr/la-palmeraie-splendide-coeur-du-centre-ville.html"
          ],
          [
           "Marseille",
           8.4,
           "Link: https://www.booking.com/hotel/fr/studio-vieux-port-vue-basilique-notre-dame.html"
          ],
          [
           "Marseille",
           9.2,
           "Link: https://www.booking.com/hotel/fr/sublime-pepite-vieux-port-2p-vue-imprenable.html"
          ],
          [
           "Marseille",
           7.8,
           "Link: https://www.booking.com/hotel/fr/ibis-marseille-est-la-valentine.html"
          ],
          [
           "Marseille",
           7.7,
           "Link: https://www.booking.com/hotel/fr/toyoko-inn-marseille-saint-charles.html"
          ],
          [
           "Marseille",
           7.4,
           "Link: https://www.booking.com/hotel/fr/ha-tel-azur-marseille.html"
          ],
          [
           "Marseille",
           8.3,
           "Link: https://www.booking.com/hotel/fr/mercure-marseille-canebiere-vieux-port.html"
          ],
          [
           "Marseille",
           9.3,
           "Link: https://www.booking.com/hotel/fr/cozy-flat-fully-renovated-by-interior-designer.html"
          ],
          [
           "Marseille",
           8.9,
           "Link: https://www.booking.com/hotel/fr/plein-coeur-du-quartier-du-panier-chaleureux-t2.html"
          ],
          [
           "Marseille",
           9,
           "Link: https://www.booking.com/hotel/fr/le-pescadou-terrasse-vue-mer.html"
          ],
          [
           "Marseille",
           7.8,
           "Link: https://www.booking.com/hotel/fr/grande-chambre-vieux-port-marseille.html"
          ],
          [
           "Marseille",
           9.5,
           "Link: https://www.booking.com/hotel/fr/la-jolie-escale-du-panier-mucem-vieux-port.html"
          ],
          [
           "Marseille",
           9,
           "Link: https://www.booking.com/hotel/fr/magnifique-2-pieces-au-coeur-du-panier.html"
          ],
          [
           "Marseille",
           9,
           "Link: https://www.booking.com/hotel/fr/appartement-rue-nationale-test.html"
          ],
          [
           "Marseille",
           7.8,
           "Link: https://www.booking.com/hotel/fr/le-borely-appartement-climatise-avec-2-chambres-a-800m-de-la-plage-marseille.html"
          ],
          [
           "Marseille",
           9.2,
           "Link: https://www.booking.com/hotel/fr/studio-bleu-120m-vieux-port-clim-confort-calme-wifi.html"
          ],
          [
           "Marseille",
           9,
           "Link: https://www.booking.com/hotel/fr/chez-oday-beautiful-apartment.html"
          ],
          [
           "Marseille",
           9.1,
           "Link: https://www.booking.com/hotel/fr/marseille-petit-loft-au-coeur-du-cours-julien.html"
          ],
          [
           "Marseille",
           8.1,
           "Link: https://www.booking.com/hotel/fr/studio-au-calme-a-2-pas-de-tout.html"
          ],
          [
           "Marseille",
           9,
           "Link: https://www.booking.com/hotel/fr/le-cosy-marseille1.html"
          ],
          [
           "Marseille",
           8.5,
           "Link: https://www.booking.com/hotel/fr/the-sunrise-cozy-docks-sea-view-host-provence.html"
          ],
          [
           "Marseille",
           8.9,
           "Link: https://www.booking.com/hotel/fr/la-sardine-du-panier-r.html"
          ],
          [
           "Marseille",
           7.5,
           "Link: https://www.booking.com/hotel/fr/coeur-vieux-port-tout-equipe.html"
          ],
          [
           "Marseille",
           8.9,
           "Link: https://www.booking.com/hotel/fr/studio-hypercentre-marseille.html"
          ],
          [
           "Marseille",
           9.4,
           "Link: https://www.booking.com/hotel/fr/la-luna-marseille.html"
          ],
          [
           "Marseille",
           8.1,
           "Link: https://www.booking.com/hotel/fr/ac-by-marriott-marseille.html"
          ],
          [
           "Marseille",
           7.2,
           "Link: https://www.booking.com/hotel/fr/b-amp-b-marseille-euromed.html"
          ],
          [
           "Marseille",
           8.2,
           "Link: https://www.booking.com/hotel/fr/proche-gare-centre-vieux-port.html"
          ],
          [
           "Marseille",
           8,
           "Link: https://www.booking.com/hotel/fr/terrasse-vue-mer-amp-quartier-historique-vieux-port.html"
          ],
          [
           "Marseille",
           8.8,
           "Link: https://www.booking.com/hotel/fr/au-coeur-de-la-plaine-la-vie-locale.html"
          ],
          [
           "Marseille",
           8.9,
           "Link: https://www.booking.com/hotel/fr/superbe-appart-marseille-vieux-port-grande-loggia.html"
          ],
          [
           "Marseille",
           9.1,
           "Link: https://www.booking.com/hotel/fr/bel-apt-moderne-et-cosy-pour-6-a-marseille-by-weekome.html"
          ],
          [
           "Marseille",
           9.1,
           "Link: https://www.booking.com/hotel/fr/sea-home-1.html"
          ],
          [
           "Marseille",
           9,
           "Link: https://www.booking.com/hotel/fr/amical-marseille-coeur-de-ville-balcon.html"
          ],
          [
           "Marseille",
           8,
           "Link: https://www.booking.com/hotel/fr/superbe-appart-4-pers-terrasse-au-coeur-du-panier.html"
          ],
          [
           "Marseille",
           8.2,
           "Link: https://www.booking.com/hotel/fr/studio-cosy-vieux-port-marseille1.html"
          ],
          [
           "Marseille",
           7.8,
           "Link: https://www.booking.com/hotel/fr/seven-urban-suites.html"
          ],
          [
           "Marseille",
           8.4,
           "Link: https://www.booking.com/hotel/fr/sofitel-marseille-vieux-port.html"
          ],
          [
           "Marseille",
           8,
           "Link: https://www.booking.com/hotel/fr/all-seasons-marseilletimone.html"
          ],
          [
           "Marseille",
           8.1,
           "Link: https://www.booking.com/hotel/fr/mama-shelter-marseille.html"
          ],
          [
           "Marseille",
           8.4,
           "Link: https://www.booking.com/hotel/fr/le-m-marseille1.html"
          ],
          [
           "Marseille",
           8.5,
           "Link: https://www.booking.com/hotel/fr/maisondumondehotelandsuitesmarseille.html"
          ],
          [
           "Marseille",
           7.9,
           "Link: https://www.booking.com/hotel/fr/b-amp-b-marseille-velodrome-prado.html"
          ],
          [
           "Marseille",
           8.1,
           "Link: https://www.booking.com/hotel/fr/le-mistral-marseille.html"
          ],
          [
           "Marseille",
           8.3,
           "Link: https://www.booking.com/hotel/fr/charmant-t2-au-coeur-du-panier-marseille1.html"
          ],
          [
           "Marseille",
           9.6,
           "Link: https://www.booking.com/hotel/fr/le-5e-ciel-un-nid-au-dessus-de-marseille.html"
          ],
          [
           "Marseille",
           5.9,
           "Link: https://www.booking.com/hotel/fr/studio-vieux-port-marseille3.html"
          ],
          [
           "Marseille",
           8.6,
           "Link: https://www.booking.com/hotel/fr/paradise-eart-amp-sea.html"
          ],
          [
           "Marseille",
           7.7,
           "Link: https://www.booking.com/hotel/fr/appart-renove-quartier-historique-centre-ville.html"
          ],
          [
           "Marseille",
           7.8,
           "Link: https://www.booking.com/hotel/fr/hotel-marseille-st-charles.html"
          ],
          [
           "Marseille",
           8.8,
           "Link: https://www.booking.com/hotel/fr/vieux-port-47-les-augustins.html"
          ],
          [
           "Marseille",
           6.9,
           "Link: https://www.booking.com/hotel/fr/appartement-1-chambre-place-aux-huiles-ii.html"
          ],
          [
           "Marseille",
           9.4,
           "Link: https://www.booking.com/hotel/fr/pepite-coeur-7eme-tout-comfort-clim-parking.html"
          ],
          [
           "Marseille",
           9.1,
           "Link: https://www.booking.com/hotel/fr/vieux-port-view-ultra-center-air-conditioning.html"
          ],
          [
           "Marseille",
           9.5,
           "Link: https://www.booking.com/hotel/fr/appartement-proche-gare-marseille.html"
          ],
          [
           "Marseille",
           8.3,
           "Link: https://www.booking.com/hotel/fr/appartement-vieux-port-2-min-du-metro-estrangin.html"
          ],
          [
           "Marseille",
           7.9,
           "Link: https://www.booking.com/hotel/fr/cosy-apartments-marseille-estiennes-d-orves-hyper-central-students-apartment-clo.html"
          ],
          [
           "Marseille",
           7.9,
           "Link: https://www.booking.com/hotel/fr/ravissant-studio-dans-le-vieux-marseille-entierement-renove-avec-vu-sur-vieux-po.html"
          ],
          [
           "Marseille",
           8.9,
           "Link: https://www.booking.com/hotel/fr/petit-boucan-47m2-dans-le-coeur-du-panier-marseille.html"
          ],
          [
           "Marseille",
           7.5,
           "Link: https://www.booking.com/hotel/fr/studio-hyper-centre-1-2.html"
          ],
          [
           "Marseille",
           8.8,
           "Link: https://www.booking.com/hotel/fr/cozy-apartment-in-marseilles-near-metro-sea.html"
          ],
          [
           "Marseille",
           8.4,
           "Link: https://www.booking.com/hotel/fr/olivier-bel-appartement-au-calme-a-2-pas-du-vieux-port.html"
          ],
          [
           "Marseille",
           8.4,
           "Link: https://www.booking.com/hotel/fr/le-loft-du-panier.html"
          ],
          [
           "Marseille",
           9,
           "Link: https://www.booking.com/hotel/fr/apartment-l-atelier.html"
          ],
          [
           "Marseille",
           7.2,
           "Link: https://www.booking.com/hotel/fr/appart-centre-ville-vieux-port-65m2.html"
          ],
          [
           "Marseille",
           7.8,
           "Link: https://www.booking.com/hotel/fr/duplex-detente-terrasse-vue-mer-et-spa.html"
          ],
          [
           "Marseille",
           7.5,
           "Link: https://www.booking.com/hotel/fr/residence-kley.html"
          ],
          [
           "Marseille",
           7.6,
           "Link: https://www.booking.com/hotel/fr/luckey-homes-rue-du-chevalier-roze-marseille.html"
          ],
          [
           "Marseille",
           8.9,
           "Link: https://www.booking.com/hotel/fr/appartement-t3-renove-vieux-port-marseille.html"
          ],
          [
           "Marseille",
           8.2,
           "Link: https://www.booking.com/hotel/fr/hermes.html"
          ],
          [
           "Marseille",
           8.1,
           "Link: https://www.booking.com/hotel/fr/studio-no-6-cathedrale-vieux-port-cosy-design.html"
          ],
          [
           "Marseille",
           9.1,
           "Link: https://www.booking.com/hotel/fr/le-st-victor-garage-prive-1-minute-du-vieux-port.html"
          ],
          [
           "Marseille",
           7.8,
           "Link: https://www.booking.com/hotel/fr/residhome-marseille-saint-charles.html"
          ],
          [
           "Marseille",
           8,
           "Link: https://www.booking.com/hotel/fr/best-western-la-joliette.html"
          ],
          [
           "Marseille",
           9.5,
           "Link: https://www.booking.com/hotel/fr/exceptionnal-appartment-central.html"
          ],
          [
           "Marseille",
           8.1,
           "Link: https://www.booking.com/hotel/fr/zenitude-chez-philippe-marseille.html"
          ],
          [
           "Marseille",
           9.5,
           "Link: https://www.booking.com/hotel/fr/charmant-studio-marseille-centre.html"
          ],
          [
           "Marseille",
           8.2,
           "Link: https://www.booking.com/hotel/fr/cosy-apartments-marseille-opera-vieux-port-luminous-city-center-apartment.html"
          ],
          [
           "Marseille",
           8.2,
           "Link: https://www.booking.com/hotel/fr/dadla.html"
          ],
          [
           "Marseille",
           8.1,
           "Link: https://www.booking.com/hotel/fr/little-good-time.html"
          ],
          [
           "Marseille",
           7.8,
           "Link: https://www.booking.com/hotel/fr/comme-une-suite-sur-le-vieux-port.html"
          ],
          [
           "Marseille",
           8.7,
           "Link: https://www.booking.com/hotel/fr/ligo-by-happyculture-marseille4.html"
          ],
          [
           "Marseille",
           8.6,
           "Link: https://www.booking.com/hotel/fr/nau.html"
          ],
          [
           "Marseille",
           8.1,
           "Link: https://www.booking.com/hotel/fr/loft-au-coeur-du-centre-ville-a-5mn-du-vieux-port-marseille.html"
          ],
          [
           "Marseille",
           9.7,
           "Link: https://www.booking.com/hotel/fr/charras-cosy.html"
          ],
          [
           "Marseille",
           8.6,
           "Link: https://www.booking.com/hotel/fr/nh-collection-marseille.html"
          ],
          [
           "Marseille",
           7.8,
           "Link: https://www.booking.com/hotel/fr/jolie-chambre-dans-appartement-cosy-en-plein-centre.html"
          ],
          [
           "Marseille",
           8.5,
           "Link: https://www.booking.com/hotel/fr/magnifique-t2-3-marseille-13007.html"
          ],
          [
           "Marseille",
           8.9,
           "Link: https://www.booking.com/hotel/fr/superbe-appart-3-p-10-mn-de-la-plage-avec-piscine.html"
          ],
          [
           "Marseille",
           8.3,
           "Link: https://www.booking.com/hotel/fr/the-people-hostel-marseille.html"
          ],
          [
           "Marseille",
           8.3,
           "Link: https://www.booking.com/hotel/fr/appartement-neuf-vieux-port.html"
          ],
          [
           "Marseille",
           9.5,
           "Link: https://www.booking.com/hotel/fr/appartement-design-sur-vauban.html"
          ],
          [
           "Marseille",
           8.8,
           "Link: https://www.booking.com/hotel/fr/le-soleil-du-panier-coeur-historique.html"
          ],
          [
           "Marseille",
           9.4,
           "Link: https://www.booking.com/hotel/fr/maison-olea-marseille.html"
          ],
          [
           "Marseille",
           8.3,
           "Link: https://www.booking.com/hotel/fr/odalys-city-marseille-centre-euromed.html"
          ],
          [
           "Marseille",
           7.7,
           "Link: https://www.booking.com/hotel/fr/venture-paradis-studio.html"
          ],
          [
           "Marseille",
           7.4,
           "Link: https://www.booking.com/hotel/fr/appart-city-marseille-euromed.html"
          ],
          [
           "Marseille",
           8.6,
           "Link: https://www.booking.com/hotel/fr/appart-4eme-etage-rue-nationale.html"
          ],
          [
           "Marseille",
           8,
           "Link: https://www.booking.com/hotel/fr/montgrand.html"
          ],
          [
           "Marseille",
           8,
           "Link: https://www.booking.com/hotel/fr/le-lulli-un-t2-moderne-et-epure-marseille.html"
          ],
          [
           "Marseille",
           8.6,
           "Link: https://www.booking.com/hotel/fr/les-appartements-de-babel-republique-marseille.html"
          ],
          [
           "Marseille",
           6.6,
           "Link: https://www.booking.com/hotel/fr/design-suite-vieux-port-appartement-tout-equipe-climatise.html"
          ],
          [
           "Marseille",
           9,
           "Link: https://www.booking.com/hotel/fr/t2-quartier-mythique-du-panier.html"
          ],
          [
           "Marseille",
           8.8,
           "Link: https://www.booking.com/hotel/fr/appartement-opera-marseille.html"
          ],
          [
           "Marseille",
           9.2,
           "Link: https://www.booking.com/hotel/fr/sea-home-2.html"
          ],
          [
           "Marseille",
           8.3,
           "Link: https://www.booking.com/hotel/fr/grand-appart-retro-vieux-port-panier-mucem.html"
          ],
          [
           "Marseille",
           8.5,
           "Link: https://www.booking.com/hotel/fr/les-toits-du-vieux-port.html"
          ],
          [
           "Marseille",
           8.6,
           "Link: https://www.booking.com/hotel/fr/residhome-marseille.html"
          ],
          [
           "Marseille",
           7.5,
           "Link: https://www.booking.com/hotel/fr/ibis-styles-marseille-vieux-port.html"
          ],
          [
           "Marseille",
           7.8,
           "Link: https://www.booking.com/hotel/fr/le-rooftop-saint-charles-parking-prive.html"
          ],
          [
           "Marseille",
           9.2,
           "Link: https://www.booking.com/hotel/fr/le-saint-jean-appt-avec-vue-sur-lentree-du-vieux-port.html"
          ],
          [
           "Marseille",
           9.3,
           "Link: https://www.booking.com/hotel/fr/appart-design-plein-centre-marseille.html"
          ],
          [
           "Marseille",
           9.2,
           "Link: https://www.booking.com/hotel/fr/sunny-stylish-spacious-loft-in-old-port.html"
          ],
          [
           "Marseille",
           8.5,
           "Link: https://www.booking.com/hotel/fr/appartement-t2-40m2-au-coeur-du-panier-vieux-port.html"
          ],
          [
           "Marseille",
           7.8,
           "Link: https://www.booking.com/hotel/fr/bompard.html"
          ],
          [
           "Marseille",
           8.3,
           "Link: https://www.booking.com/hotel/fr/nice-and-modern-flat-at-the-heart-of-panier-in-marseille-welkeys.html"
          ],
          [
           "Marseille",
           8.7,
           "Link: https://www.booking.com/hotel/fr/grand-appartement-2-chambres-avec-vue-vieux-port.html"
          ],
          [
           "Marseille",
           9.2,
           "Link: https://www.booking.com/hotel/fr/sous-le-clocher-marseille.html"
          ],
          [
           "Marseille",
           9.6,
           "Link: https://www.booking.com/hotel/fr/studio-calme-et-tres-lumineux-au-pied-de-notre-dame-de-la-garde.html"
          ],
          [
           "Marseille",
           7.3,
           "Link: https://www.booking.com/hotel/fr/t2-deco-mediterranee-lafrenchcasa-belsunce.html"
          ],
          [
           "Marseille",
           8.1,
           "Link: https://www.booking.com/hotel/fr/t3-balcon-vieux-port-centre-marseille.html"
          ],
          [
           "Marseille",
           7.4,
           "Link: https://www.booking.com/hotel/fr/ibis-marseille-prado-velodrome.html"
          ],
          [
           "Marseille",
           8.5,
           "Link: https://www.booking.com/hotel/fr/crowne-plaza-marseille-le-dome.html"
          ],
          [
           "Marseille",
           8.2,
           "Link: https://www.booking.com/hotel/fr/hotel-mascotte-vieux-port.html"
          ],
          [
           "Marseille",
           9,
           "Link: https://www.booking.com/hotel/fr/maison-juste.html"
          ],
          [
           "Marseille",
           6.2,
           "Link: https://www.booking.com/hotel/fr/studio-1-vieux-port-opera.html"
          ],
          [
           "Marseille",
           8.6,
           "Link: https://www.booking.com/hotel/fr/les-appartements-chics-du-vieux-port.html"
          ],
          [
           "Marseille",
           8.4,
           "Link: https://www.booking.com/hotel/fr/ha-tel-marseille-vieux-port.html"
          ],
          [
           "Marseille",
           8.2,
           "Link: https://www.booking.com/hotel/fr/appartement-vieux-port-marseille3.html"
          ],
          [
           "Marseille",
           7.5,
           "Link: https://www.booking.com/hotel/fr/residencepierrevacancesmarseillepradoplage.html"
          ],
          [
           "Marseille",
           8.5,
           "Link: https://www.booking.com/hotel/fr/lumineux-2-pieces-centre-ville.html"
          ],
          [
           "Marseille",
           9.3,
           "Link: https://www.booking.com/hotel/fr/studio-shell-120m-vieux-port-climatise-calme-marseille.html"
          ],
          [
           "Marseille",
           8.3,
           "Link: https://www.booking.com/hotel/fr/cosy-place-near-vieux-port.html"
          ],
          [
           "Marseille",
           8.4,
           "Link: https://www.booking.com/hotel/fr/guestready-comfortable-stay-in-vieux-port.html"
          ],
          [
           "Marseille",
           8.7,
           "Link: https://www.booking.com/hotel/fr/la-sardine-marseille.html"
          ],
          [
           "Marseille",
           8.9,
           "Link: https://www.booking.com/hotel/fr/les-floralies-13001.html"
          ],
          [
           "Marseille",
           7.6,
           "Link: https://www.booking.com/hotel/fr/hipark-residences-marseille.html"
          ],
          [
           "Marseille",
           7.5,
           "Link: https://www.booking.com/hotel/fr/ma1003-museler-panier.html"
          ],
          [
           "Marseille",
           8.5,
           "Link: https://www.booking.com/hotel/fr/grand-studio-avec-vue-sur-notre-dame-de-la-garde.html"
          ],
          [
           "Marseille",
           7.7,
           "Link: https://www.booking.com/hotel/fr/magnifique-studio-avec-balcon-vieux-port-panier.html"
          ],
          [
           "Marseille",
           8,
           "Link: https://www.booking.com/hotel/fr/la-maison-de-valentino.html"
          ],
          [
           "Marseille",
           8.5,
           "Link: https://www.booking.com/hotel/fr/appartement-deux-chambres-sur-le-vieux-port.html"
          ],
          [
           "Marseille",
           9.5,
           "Link: https://www.booking.com/hotel/fr/la-pitcholine-superbe-studio-au-vieux-port.html"
          ],
          [
           "Marseille",
           9.7,
           "Link: https://www.booking.com/hotel/fr/t3-spacieux-proche-gare-entierement-renove.html"
          ],
          [
           "Marseille",
           8.2,
           "Link: https://www.booking.com/hotel/fr/nice-place-near-vieux-port.html"
          ],
          [
           "Marseille",
           7.3,
           "Link: https://www.booking.com/hotel/fr/appartement-2-chambres-vieux-marseille.html"
          ],
          [
           "Marseille",
           8.4,
           "Link: https://www.booking.com/hotel/fr/staycity-aparthotels-centre-vieux-port.html"
          ],
          [
           "Marseille",
           8.4,
           "Link: https://www.booking.com/hotel/fr/un-balcon-en-ville-appartement-4-pers-renove.html"
          ],
          [
           "Marseille",
           8.8,
           "Link: https://www.booking.com/hotel/fr/la-porte-bleue-charmant-appt.html"
          ],
          [
           "Marseille",
           8.3,
           "Link: https://www.booking.com/hotel/fr/votre-adresse-de-charme-hypercentre-marseille.html"
          ],
          [
           "Marseille",
           8,
           "Link: https://www.booking.com/hotel/fr/come-amp-sleep.html"
          ],
          [
           "Marseille",
           7.3,
           "Link: https://www.booking.com/hotel/fr/la-french-casa-noailles.html"
          ],
          [
           "Marseille",
           7.7,
           "Link: https://www.booking.com/hotel/fr/saintferreol.html"
          ],
          [
           "Marseille",
           7.1,
           "Link: https://www.booking.com/hotel/fr/air-rental-magnifique-t2-au-dessus-du-vieux-port.html"
          ],
          [
           "Marseille",
           9.6,
           "Link: https://www.booking.com/hotel/fr/appart-t3-le-panier.html"
          ],
          [
           "Marseille",
           7.6,
           "Link: https://www.booking.com/hotel/fr/ibis-marseille-gare-saint-charles.html"
          ],
          [
           "Marseille",
           7,
           "Link: https://www.booking.com/hotel/fr/ibis-marseille-centre-bourse.html"
          ],
          [
           "Marseille",
           8.1,
           "Link: https://www.booking.com/hotel/fr/marseille-centre-euromed.html"
          ],
          [
           "Marseille",
           9.2,
           "Link: https://www.booking.com/hotel/fr/premiere-ligne-bel-appartement-en-1ere-ligne-du-vieux-e.html"
          ],
          [
           "Marseille",
           9.2,
           "Link: https://www.booking.com/hotel/fr/la-casa-alejandro-bel-appart-de-standing.html"
          ],
          [
           "Marseille",
           8.6,
           "Link: https://www.booking.com/hotel/fr/espace-et-confort-au-coeur-de-la-ville.html"
          ],
          [
           "Marseille",
           8.1,
           "Link: https://www.booking.com/hotel/fr/studio-saint-ferreol-hyper-centre.html"
          ],
          [
           "Marseille",
           8,
           "Link: https://www.booking.com/hotel/fr/dina-grand-appartement-avec-2-chambres.html"
          ],
          [
           "Marseille",
           8.1,
           "Link: https://www.booking.com/hotel/fr/les-petits-pavillons.html"
          ],
          [
           "Marseille",
           9.3,
           "Link: https://www.booking.com/hotel/fr/le-pan-yay.html"
          ],
          [
           "Marseille",
           8.8,
           "Link: https://www.booking.com/hotel/fr/studio-mars-climatise-10-mn-du-vieux-port-dans-le-panier.html"
          ],
          [
           "Marseille",
           8.5,
           "Link: https://www.booking.com/hotel/fr/easyhotel-marseille.html"
          ],
          [
           "Marseille",
           8.7,
           "Link: https://www.booking.com/hotel/fr/hotel-la-residence-du-vieux-port.html"
          ],
          [
           "Marseille",
           7.2,
           "Link: https://www.booking.com/hotel/fr/residence-carpe-diem.html"
          ],
          [
           "Marseille",
           9.1,
           "Link: https://www.booking.com/hotel/fr/charming-apartment-with-cosy-balcony-old-port-marseille.html"
          ],
          [
           "Marseille",
           7.7,
           "Link: https://www.booking.com/hotel/fr/au-coeur-du-vieux-port-le-quai-bourgeois.html"
          ],
          [
           "Marseille",
           8.7,
           "Link: https://www.booking.com/hotel/fr/le-pytheas-vue-vieux-port-avec-terrasse-et-clim.html"
          ],
          [
           "Marseille",
           8.3,
           "Link: https://www.booking.com/hotel/fr/magnifique-3-piece-dans-le-l-hyper-centre.html"
          ],
          [
           "Marseille",
           9.2,
           "Link: https://www.booking.com/hotel/fr/roucas.html"
          ],
          [
           "Marseille",
           8.1,
           "Link: https://www.booking.com/hotel/fr/chez-fanette.html"
          ],
          [
           "Marseille",
           9,
           "Link: https://www.booking.com/hotel/fr/renovated-studio-with-patio-in-the-heart-of-camas.html"
          ],
          [
           "Marseille",
           8.1,
           "Link: https://www.booking.com/hotel/fr/belle-vue.html"
          ],
          [
           "Marseille",
           8.2,
           "Link: https://www.booking.com/hotel/fr/le-perchoir-du-panier.html"
          ],
          [
           "Marseille",
           9.3,
           "Link: https://www.booking.com/hotel/fr/elana-bel-appartement-dans-la-quartier-du-camas.html"
          ],
          [
           "Marseille",
           8.2,
           "Link: https://www.booking.com/hotel/fr/panier-vieux-port-terrasse.html"
          ],
          [
           "Marseille",
           10,
           "Link: https://www.booking.com/hotel/fr/t3-joliette-pres-des-terrasses-du-port.html"
          ],
          [
           "Marseille",
           8.4,
           "Link: https://www.booking.com/hotel/fr/standing-vieux-port-110-m2-marseille.html"
          ],
          [
           "Marseille",
           8.3,
           "Link: https://www.booking.com/hotel/fr/le-mazenod-appartement-avec-balcon-et-parking.html"
          ],
          [
           "Marseille",
           8.7,
           "Link: https://www.booking.com/hotel/fr/le-cabanon-du-vieux-port-marseille1.html"
          ],
          [
           "Marseille",
           7.4,
           "Link: https://www.booking.com/hotel/fr/appartement-entre-la-gare-st-charles-et-vieux-port.html"
          ],
          [
           "Marseille",
           9.2,
           "Link: https://www.booking.com/hotel/fr/maison-dormoy.html"
          ],
          [
           "Marseille",
           7.8,
           "Link: https://www.booking.com/hotel/fr/st-saens-4.html"
          ],
          [
           "Marseille",
           8.4,
           "Link: https://www.booking.com/hotel/fr/alize.html"
          ],
          [
           "Marseille",
           7.8,
           "Link: https://www.booking.com/hotel/fr/ra-c-sidence-meubla-c-e-services.html"
          ],
          [
           "Marseille",
           8.7,
           "Link: https://www.booking.com/hotel/fr/nouveau-studio-terrasse-vieux-port-bateaux-calanques-amp-iles-frioul.html"
          ],
          [
           "Marseille",
           8.8,
           "Link: https://www.booking.com/hotel/fr/les-3-cigales-bel-appartement-proche-vieux-port.html"
          ],
          [
           "Marseille",
           8,
           "Link: https://www.booking.com/hotel/fr/citadines-aparthotel-marseillepradochanot.html"
          ],
          [
           "Marseille",
           7.2,
           "Link: https://www.booking.com/hotel/fr/residhotel-vieux-port.html"
          ],
          [
           "Marseille",
           7.6,
           "Link: https://www.booking.com/hotel/fr/t2-rue-de-la-republique-cosy-marseille.html"
          ],
          [
           "Marseille",
           8.1,
           "Link: https://www.booking.com/hotel/fr/appartement-vieux-port-marseille12.html"
          ],
          [
           "Marseille",
           10,
           "Link: https://www.booking.com/hotel/fr/le-republique-beau-duplex-avec-2-ch-hypercentre.html"
          ],
          [
           "Marseille",
           8.8,
           "Link: https://www.booking.com/hotel/fr/le-couvent-marseille.html"
          ],
          [
           "Marseille",
           9.3,
           "Link: https://www.booking.com/hotel/fr/chaleureux-t3-vieux-port-2-salles-de-bains-marseille.html"
          ],
          [
           "Marseille",
           8,
           "Link: https://www.booking.com/hotel/fr/appart-fortia.html"
          ],
          [
           "Marseille",
           7.1,
           "Link: https://www.booking.com/hotel/fr/ibis-budget-marseille-prado.html"
          ],
          [
           "Marseille",
           8.5,
           "Link: https://www.booking.com/hotel/fr/le-st-fee-nid-douillet-a-100m-du-vieux-port.html"
          ],
          [
           "Marseille",
           7.2,
           "Link: https://www.booking.com/hotel/fr/studio-marseille4.html"
          ],
          [
           "Marseille",
           8.8,
           "Link: https://www.booking.com/hotel/fr/perle-rare-sur-le-vieux-port-marseille.html"
          ],
          [
           "Marseille",
           8.8,
           "Link: https://www.booking.com/hotel/fr/appartement-pres-du-vieux-port.html"
          ],
          [
           "Marseille",
           7.5,
           "Link: https://www.booking.com/hotel/fr/lafrenchcasa-saint-charles.html"
          ],
          [
           "Marseille",
           7.1,
           "Link: https://www.booking.com/hotel/fr/massilia-marseille.html"
          ],
          [
           "Marseille",
           7.7,
           "Link: https://www.booking.com/hotel/fr/studio-rooftop-lulli-marseille.html"
          ],
          [
           "Marseille",
           9.1,
           "Link: https://www.booking.com/hotel/fr/bail-mobilite-appart-a-vauban-proche-vieux-port.html"
          ],
          [
           "Marseille",
           9.3,
           "Link: https://www.booking.com/hotel/fr/t2-chic.html"
          ],
          [
           "Marseille",
           9.1,
           "Link: https://www.booking.com/hotel/fr/new-appart-splendide-au-soleil-a-2-pas-vieux-port.html"
          ],
          [
           "Marseille",
           9.5,
           "Link: https://www.booking.com/hotel/fr/t2-spacieux-centre-ville-4-pers.html"
          ],
          [
           "Marseille",
           8.1,
           "Link: https://www.booking.com/hotel/fr/massilia-home-coeur-de-marseille.html"
          ],
          [
           "Marseille",
           8.1,
           "Link: https://www.booking.com/hotel/fr/christelle-b.html"
          ],
          [
           "Marseille",
           8.8,
           "Link: https://www.booking.com/hotel/fr/appartement-vue-sur-le-vieux-port.html"
          ],
          [
           "Marseille",
           8,
           "Link: https://www.booking.com/hotel/fr/studio-dragon.html"
          ],
          [
           "Marseille",
           9.2,
           "Link: https://www.booking.com/hotel/fr/b-amp-b-casa-ortega.html"
          ],
          [
           "Marseille",
           9.4,
           "Link: https://www.booking.com/hotel/fr/mini-loft-au-coeur-du-panier-marseille.html"
          ],
          [
           "Marseille",
           7.4,
           "Link: https://www.booking.com/hotel/fr/etap-marseille-vieux-port.html"
          ],
          [
           "Marseille",
           7.8,
           "Link: https://www.booking.com/hotel/fr/les-villages-clubs-du-soleil-marseille.html"
          ],
          [
           "Marseille",
           8.2,
           "Link: https://www.booking.com/hotel/fr/un-mas-en-ville.html"
          ],
          [
           "Marseille",
           9.7,
           "Link: https://www.booking.com/hotel/fr/maison-pepouze-marseille1.html"
          ],
          [
           "Marseille",
           9.4,
           "Link: https://www.booking.com/hotel/fr/sud-passion-sakakini-calme-3-chambres-lumineux-fibre.html"
          ],
          [
           "Marseille",
           7.7,
           "Link: https://www.booking.com/hotel/fr/le-corbusier.html"
          ],
          [
           "Marseille",
           8.3,
           "Link: https://www.booking.com/hotel/fr/new-of-marseille-le-pharo.html"
          ],
          [
           "Marseille",
           7.9,
           "Link: https://www.booking.com/hotel/fr/best-western-du-mucem.html"
          ],
          [
           "Marseille",
           8.7,
           "Link: https://www.booking.com/hotel/fr/le-franklin-roosevelt.html"
          ],
          [
           "Marseille",
           9.6,
           "Link: https://www.booking.com/hotel/fr/o-republique.html"
          ],
          [
           "Marseille",
           7.9,
           "Link: https://www.booking.com/hotel/fr/holiday-inn-express-marseille-saint-charles.html"
          ],
          [
           "Marseille",
           8.4,
           "Link: https://www.booking.com/hotel/fr/mouchki-marseille1.html"
          ],
          [
           "Marseille",
           8.8,
           "Link: https://www.booking.com/hotel/fr/sublime-appartement-avec-terrasse-amp-climatisation.html"
          ],
          [
           "Marseille",
           8.2,
           "Link: https://www.booking.com/hotel/fr/t4-marseille-vue-imprenable-sur-vieux-port.html"
          ],
          [
           "Marseille",
           9.2,
           "Link: https://www.booking.com/hotel/fr/les-maisons-d-anthony-marseille.html"
          ],
          [
           "Marseille",
           8,
           "Link: https://www.booking.com/hotel/fr/yacht-cyos.html"
          ],
          [
           "Marseille",
           8.9,
           "Link: https://www.booking.com/hotel/fr/appartement-1-chambre-notre-dame.html"
          ],
          [
           "Marseille",
           6.3,
           "Link: https://www.booking.com/hotel/fr/la-niche-du-panier-central-amp-calme.html"
          ],
          [
           "Marseille",
           7.9,
           "Link: https://www.booking.com/hotel/fr/vieux-port-studio-chic.html"
          ],
          [
           "Marseille",
           7.6,
           "Link: https://www.booking.com/hotel/fr/loft-du-vieux-port.html"
          ],
          [
           "Marseille",
           8,
           "Link: https://www.booking.com/hotel/fr/mercure-marseille-centre-vieux-port.html"
          ],
          [
           "Marseille",
           8,
           "Link: https://www.booking.com/hotel/fr/le-cocon-de-grignan.html"
          ],
          [
           "Marseille",
           8.1,
           "Link: https://www.booking.com/hotel/fr/le-rhul.html"
          ],
          [
           "Marseille",
           8.6,
           "Link: https://www.booking.com/hotel/fr/au-coeur-du-quartier-historique-millenaire.html"
          ],
          [
           "Marseille",
           8.1,
           "Link: https://www.booking.com/hotel/fr/le-chave-appart-1-ch-terrasse-et-climatisation.html"
          ],
          [
           "Marseille",
           8.5,
           "Link: https://www.booking.com/hotel/fr/vieux-port-avec-garage-prive.html"
          ],
          [
           "Marseille",
           8.7,
           "Link: https://www.booking.com/hotel/fr/studio-neuf-et-cosy-sur-la-canebiere-vieux-port.html"
          ],
          [
           "Marseille",
           8.3,
           "Link: https://www.booking.com/hotel/fr/mercure-marseille-prado.html"
          ],
          [
           "Marseille",
           9,
           "Link: https://www.booking.com/hotel/fr/elegant-appartement-a-deux-pas-du-velodrome-emplacement-ideal-a-marseille.html"
          ],
          [
           "Marseille",
           7.7,
           "Link: https://www.booking.com/hotel/fr/le-caylus-au-coeur-du-panier-proche-vieux-port.html"
          ],
          [
           "Marseille",
           8.3,
           "Link: https://www.booking.com/hotel/fr/cocon-super-bien-situe.html"
          ],
          [
           "Marseille",
           8,
           "Link: https://www.booking.com/hotel/fr/cosy-marseille2.html"
          ],
          [
           "Marseille",
           8.4,
           "Link: https://www.booking.com/hotel/fr/magnifique-t2-climatise-avec-terrasse-catalans-marseille.html"
          ],
          [
           "Marseille",
           7.3,
           "Link: https://www.booking.com/hotel/fr/marseille-bord-de-mer.html"
          ],
          [
           "Marseille",
           8,
           "Link: https://www.booking.com/hotel/fr/hotelkyrivieuxmarseille.html"
          ],
          [
           "Marseille",
           8.1,
           "Link: https://www.booking.com/hotel/fr/goldentulipvillamassalia.html"
          ],
          [
           "Nimes",
           8.2,
           "Link: https://www.booking.com/hotel/fr/appart-cosy-avec-mezzanine-et-belle-terrasse-a-200-m-de-la-gare.html"
          ],
          [
           "Nimes",
           9.2,
           "Link: https://www.booking.com/hotel/fr/maison-carree-47-coeur-historique-de-nimes-superbe-appt-55m2.html"
          ],
          [
           "Nimes",
           8.5,
           "Link: https://www.booking.com/hotel/fr/le-patio-jardin-privatif-tennis.html"
          ],
          [
           "Nimes",
           9.6,
           "Link: https://www.booking.com/hotel/fr/lovely-planette-nimes.html"
          ],
          [
           "Nimes",
           7.7,
           "Link: https://www.booking.com/hotel/fr/hotelcotepatio.html"
          ],
          [
           "Nimes",
           7.8,
           "Link: https://www.booking.com/hotel/fr/b-amp-b-nimes-centre-ville.html"
          ],
          [
           "Nimes",
           9.8,
           "Link: https://www.booking.com/hotel/fr/antichambre.html"
          ],
          [
           "Nimes",
           9.1,
           "Link: https://www.booking.com/hotel/fr/superbe-t2-centre-ville-5-min-a-pieds-des-arenes-de-nimes.html"
          ],
          [
           "Nimes",
           8.9,
           "Link: https://www.booking.com/hotel/fr/charmante-maison-de-ville-avec-parking-prive.html"
          ],
          [
           "Nimes",
           9.5,
           "Link: https://www.booking.com/hotel/fr/suite-privee-bed-and-breakfast.html"
          ],
          [
           "Nimes",
           8.3,
           "Link: https://www.booking.com/hotel/fr/c-au-coeur-de-l-effervescence-terracotta-une-nuit-a-nimes.html"
          ],
          [
           "Nimes",
           7.9,
           "Link: https://www.booking.com/hotel/fr/adagio-access-nimes.html"
          ],
          [
           "Nimes",
           9.5,
           "Link: https://www.booking.com/hotel/fr/le-26-nimes1.html"
          ],
          [
           "Nimes",
           6.7,
           "Link: https://www.booking.com/hotel/fr/duplex-5-rue-sainte-catherine.html"
          ],
          [
           "Nimes",
           9.7,
           "Link: https://www.booking.com/hotel/fr/mas-des-esclots-nimes.html"
          ],
          [
           "Nimes",
           9.7,
           "Link: https://www.booking.com/hotel/fr/le-calme-au-coeur-de-la-ville-nimes.html"
          ],
          [
           "Nimes",
           9.4,
           "Link: https://www.booking.com/hotel/fr/appartement-cosy-la-voute.html"
          ],
          [
           "Nimes",
           8.7,
           "Link: https://www.booking.com/hotel/fr/le-mezza-jolie-studio-centre-de-nimes.html"
          ],
          [
           "Nimes",
           9.2,
           "Link: https://www.booking.com/hotel/fr/duplex-denim.html"
          ],
          [
           "Nimes",
           7.8,
           "Link: https://www.booking.com/hotel/fr/chambre-independante-avec-sdb-terrasse-privative-centre-ville.html"
          ],
          [
           "Nimes",
           7.9,
           "Link: https://www.booking.com/hotel/fr/the-island-littre-p2-balcony-in-the-center.html"
          ],
          [
           "Nimes",
           9.1,
           "Link: https://www.booking.com/hotel/fr/imperator-nimes.html"
          ],
          [
           "Nimes",
           8.7,
           "Link: https://www.booking.com/hotel/fr/amazonien.html"
          ],
          [
           "Nimes",
           9.3,
           "Link: https://www.booking.com/hotel/fr/le-magdalena-confort-4-en-plein-ecusson.html"
          ],
          [
           "Nimes",
           9.6,
           "Link: https://www.booking.com/hotel/fr/le-cocon-nimes1.html"
          ],
          [
           "Nimes",
           9,
           "Link: https://www.booking.com/hotel/fr/studio-parking-proche-du-centre.html"
          ],
          [
           "Nimes",
           8.9,
           "Link: https://www.booking.com/hotel/fr/duplex-120m2-terrasse-vue-sur-nimes-nimes.html"
          ],
          [
           "Nimes",
           8.1,
           "Link: https://www.booking.com/hotel/fr/une-nuit-a-nimes-majorelle.html"
          ],
          [
           "Nimes",
           7.8,
           "Link: https://www.booking.com/hotel/fr/nimotel.html"
          ],
          [
           "Nimes",
           6.9,
           "Link: https://www.booking.com/hotel/fr/concorde-nimes.html"
          ],
          [
           "Nimes",
           8.6,
           "Link: https://www.booking.com/hotel/fr/appartement-centre-ville-parking-prive-wifi.html"
          ],
          [
           "Nimes",
           8.3,
           "Link: https://www.booking.com/hotel/fr/historic-center-center-station-nearby-nimes.html"
          ],
          [
           "Nimes",
           8.2,
           "Link: https://www.booking.com/hotel/fr/lepregaloffrenimes.html"
          ],
          [
           "Nimes",
           7.9,
           "Link: https://www.booking.com/hotel/fr/le-boheme-coeur-de-ville-clim-nimes.html"
          ],
          [
           "Nimes",
           8.9,
           "Link: https://www.booking.com/hotel/fr/nimes-arenes-t2-calme-climatise.html"
          ],
          [
           "Nimes",
           8.3,
           "Link: https://www.booking.com/hotel/fr/royal.html"
          ],
          [
           "Nimes",
           9.3,
           "Link: https://www.booking.com/hotel/fr/superbe-t2-avec-grande-terrasse-en-centre-ville-a-5-min-a-pieds-des-arenes-de-ni.html"
          ],
          [
           "Nimes",
           8.1,
           "Link: https://www.booking.com/hotel/fr/ideal-centre-climatisation-confort-garanti.html"
          ],
          [
           "Nimes",
           9,
           "Link: https://www.booking.com/hotel/fr/la-suite-des-patins-arenes.html"
          ],
          [
           "Nimes",
           8.9,
           "Link: https://www.booking.com/hotel/fr/la-coccinelle-nimes.html"
          ],
          [
           "Nimes",
           8.4,
           "Link: https://www.booking.com/hotel/fr/majestic-nimes.html"
          ],
          [
           "Nimes",
           6.5,
           "Link: https://www.booking.com/hotel/fr/appartement-le-grand-couvent.html"
          ],
          [
           "Nimes",
           9.4,
           "Link: https://www.booking.com/hotel/fr/appartcosy-emplacement-ideal-avec-terrasse-amp-parking-prive.html"
          ],
          [
           "Nimes",
           9.3,
           "Link: https://www.booking.com/hotel/fr/nimes-centre-votre-espace-cosy.html"
          ],
          [
           "Nimes",
           8.2,
           "Link: https://www.booking.com/hotel/fr/historian-avec-balcon-coeur-de-nimes.html"
          ],
          [
           "Nimes",
           8.8,
           "Link: https://www.booking.com/hotel/fr/la-balade-nimoise-centre-parking-clim.html"
          ],
          [
           "Nimes",
           9.3,
           "Link: https://www.booking.com/hotel/fr/appartement-au-calme-nimes.html"
          ],
          [
           "Nimes",
           7.9,
           "Link: https://www.booking.com/hotel/fr/magnifique-appartement-en-pierre-au-pied-de-la-maison-carree.html"
          ],
          [
           "Nimes",
           7.9,
           "Link: https://www.booking.com/hotel/fr/atlas-ovalia.html"
          ],
          [
           "Nimes",
           9.1,
           "Link: https://www.booking.com/hotel/fr/orteils-au-soleil.html"
          ],
          [
           "Nimes",
           8.6,
           "Link: https://www.booking.com/hotel/fr/au-croco-fleuri.html"
          ],
          [
           "Nimes",
           8.8,
           "Link: https://www.booking.com/hotel/fr/la-place-zen-free-wifi-city-center.html"
          ],
          [
           "Nimes",
           7.6,
           "Link: https://www.booking.com/hotel/fr/kyriad-na-r-mes-ouest.html"
          ],
          [
           "Nimes",
           8.2,
           "Link: https://www.booking.com/hotel/fr/studio-le-boheme-chic-nimes.html"
          ],
          [
           "Nimes",
           6.8,
           "Link: https://www.booking.com/hotel/fr/hotelf1-nimes-ouest.html"
          ],
          [
           "Nimes",
           7.3,
           "Link: https://www.booking.com/hotel/fr/centre-ville-proche-arenes-avec-garage.html"
          ],
          [
           "Nimes",
           7.1,
           "Link: https://www.booking.com/hotel/fr/cesar.html"
          ],
          [
           "Nimes",
           9,
           "Link: https://www.booking.com/hotel/fr/villa-caremeau.html"
          ],
          [
           "Nimes",
           7.7,
           "Link: https://www.booking.com/hotel/fr/grand-studio-confort-nimes.html"
          ],
          [
           "Nimes",
           8.9,
           "Link: https://www.booking.com/hotel/fr/studio-rue-menard-pres-de-la-tour-magne.html"
          ],
          [
           "Nimes",
           7.9,
           "Link: https://www.booking.com/hotel/fr/une-nuit-a-nimes-un-havre-au-coeur-de-l-ecusson.html"
          ],
          [
           "Nimes",
           8.2,
           "Link: https://www.booking.com/hotel/fr/casa-azul-jardin-calme-tennis.html"
          ],
          [
           "Nimes",
           8.9,
           "Link: https://www.booking.com/hotel/fr/200-traverse-du-pissadou.html"
          ],
          [
           "Nimes",
           9,
           "Link: https://www.booking.com/hotel/fr/la-terrasse-des-arenes.html"
          ],
          [
           "Nimes",
           8.2,
           "Link: https://www.booking.com/hotel/fr/studio-boucarie.html"
          ],
          [
           "Nimes",
           9.5,
           "Link: https://www.booking.com/hotel/fr/nimes-coeur-de-ville-historique.html"
          ],
          [
           "Nimes",
           7.6,
           "Link: https://www.booking.com/hotel/fr/le-carmen-terrace-garage.html"
          ],
          [
           "Nimes",
           9.1,
           "Link: https://www.booking.com/hotel/fr/maison-rulman.html"
          ],
          [
           "Nimes",
           8.5,
           "Link: https://www.booking.com/hotel/fr/chez-eve-2.html"
          ],
          [
           "Nimes",
           8.5,
           "Link: https://www.booking.com/hotel/fr/residence-du-golf.html"
          ],
          [
           "Nimes",
           8.9,
           "Link: https://www.booking.com/hotel/fr/chambre-privee-avec-parking.html"
          ],
          [
           "Nimes",
           8.7,
           "Link: https://www.booking.com/hotel/fr/ostium-porte-de-france-central.html"
          ],
          [
           "Nimes",
           5,
           "Link: https://www.booking.com/hotel/fr/tiny-flat-coeur-de-ville-studio-sous-les-toits.html"
          ],
          [
           "Nimes",
           9.3,
           "Link: https://www.booking.com/hotel/fr/feel-home-nemausus-le-4.html"
          ],
          [
           "Nimes",
           9.1,
           "Link: https://www.booking.com/hotel/fr/le-cosy-nimes6.html"
          ],
          [
           "Nimes",
           10,
           "Link: https://www.booking.com/hotel/fr/afrobohome-terrasse-paysagere-et-amenagee-parking-gratuit-climatisation-centre-v.html"
          ],
          [
           "Nimes",
           8.9,
           "Link: https://www.booking.com/hotel/fr/appartement-haussmannien-nimes.html"
          ],
          [
           "Nimes",
           8.8,
           "Link: https://www.booking.com/hotel/fr/domitys-sophia.html"
          ],
          [
           "Nimes",
           9,
           "Link: https://www.booking.com/hotel/fr/maison-martel.html"
          ],
          [
           "Nimes",
           8,
           "Link: https://www.booking.com/hotel/fr/pause-nimoise-en-centre-ville-toit-terrasse-amp-clim.html"
          ],
          [
           "Nimes",
           9.9,
           "Link: https://www.booking.com/hotel/fr/arene-des-plaisirs-love-room.html"
          ],
          [
           "Nimes",
           8.4,
           "Link: https://www.booking.com/hotel/fr/une-nuit-a-nimes-loft-a-la-maison-carree.html"
          ],
          [
           "Nimes",
           9.2,
           "Link: https://www.booking.com/hotel/fr/entre-arenes-et-maison-carree.html"
          ],
          [
           "Nimes",
           7.5,
           "Link: https://www.booking.com/hotel/fr/clos-des-arenes-l-escapade-forestiere-with-terrace.html"
          ],
          [
           "Nimes",
           7.3,
           "Link: https://www.booking.com/hotel/fr/2-pieces-centre-ville-tout-equipe.html"
          ],
          [
           "Nimes",
           7.4,
           "Link: https://www.booking.com/hotel/fr/hotelterminusaudrans.html"
          ],
          [
           "Nimes",
           9,
           "Link: https://www.booking.com/hotel/fr/le-pari-nimois-avec-parking-centre-ville-arenes.html"
          ],
          [
           "Nimes",
           7.6,
           "Link: https://www.booking.com/hotel/fr/bel-appartement-t2-centre-ville.html"
          ],
          [
           "Nimes",
           9.1,
           "Link: https://www.booking.com/hotel/fr/appart-attitude-cocoon-imes.html"
          ],
          [
           "Nimes",
           8.8,
           "Link: https://www.booking.com/hotel/fr/charmant-t2-de-42m-carre-calme-tout-equipe-nimes1.html"
          ],
          [
           "Nimes",
           9.5,
           "Link: https://www.booking.com/hotel/fr/appartement-spacieux-de-grand-standing-de-200-m2.html"
          ],
          [
           "Nimes",
           9,
           "Link: https://www.booking.com/hotel/fr/cocon-chaleureux-proche-ecusson-nimes.html"
          ],
          [
           "Nimes",
           9,
           "Link: https://www.booking.com/hotel/fr/le-mas-des-oliviers-nimes.html"
          ],
          [
           "Nimes",
           8.7,
           "Link: https://www.booking.com/hotel/fr/square-nimes.html"
          ],
          [
           "Nimes",
           8.9,
           "Link: https://www.booking.com/hotel/fr/studio-sur-les-toits-du-vieux-nimes.html"
          ],
          [
           "Nimes",
           9.4,
           "Link: https://www.booking.com/hotel/fr/appartement-avec-petit-jardin-nimes.html"
          ],
          [
           "Nimes",
           8.1,
           "Link: https://www.booking.com/hotel/fr/terrasse-tropezienne-centre-nimes.html"
          ],
          [
           "Nimes",
           7,
           "Link: https://www.booking.com/hotel/fr/coin-chaleureux-en-centre-ville.html"
          ],
          [
           "Nimes",
           8.1,
           "Link: https://www.booking.com/hotel/fr/cosy-tiny-centre-ville-de-nimes.html"
          ],
          [
           "Nimes",
           7.8,
           "Link: https://www.booking.com/hotel/fr/studio-terrasse-amp-parking-gratuit-en-residence.html"
          ],
          [
           "Nimes",
           9.8,
           "Link: https://www.booking.com/hotel/fr/t3-cosy-et-lumineux-avec-garage-a-2-pas-du-centre.html"
          ],
          [
           "Nimes",
           9,
           "Link: https://www.booking.com/hotel/fr/duplex-raffine-elegant-amp-climatise-la-mezz.html"
          ],
          [
           "Nimes",
           8.7,
           "Link: https://www.booking.com/hotel/fr/ingrid-mary.html"
          ],
          [
           "Nimes",
           7.9,
           "Link: https://www.booking.com/hotel/fr/casa-amarilla.html"
          ],
          [
           "Nimes",
           7.1,
           "Link: https://www.booking.com/hotel/fr/atlas-arya.html"
          ],
          [
           "Nimes",
           8,
           "Link: https://www.booking.com/hotel/fr/ibis-budget-nimes-centre-gare.html"
          ],
          [
           "Nimes",
           8.2,
           "Link: https://www.booking.com/hotel/fr/le-moka-charmant-appartement-au-coeur-de-ville.html"
          ],
          [
           "Nimes",
           8.1,
           "Link: https://www.booking.com/hotel/fr/la-terrasse-du-pigeonnier-arenes.html"
          ],
          [
           "Nimes",
           8.2,
           "Link: https://www.booking.com/hotel/fr/artiste-coeur-de-ville-clim.html"
          ],
          [
           "Nimes",
           7.6,
           "Link: https://www.booking.com/hotel/fr/atria-nimes-centre.html"
          ],
          [
           "Nimes",
           8.2,
           "Link: https://www.booking.com/hotel/fr/le-pastel-centre-ville-clim.html"
          ],
          [
           "Nimes",
           7.8,
           "Link: https://www.booking.com/hotel/fr/white-rock-p3-terrace-and-parking-city-centre.html"
          ],
          [
           "Nimes",
           8.1,
           "Link: https://www.booking.com/hotel/fr/le-sunshine-appart-lumineux-terrasse.html"
          ],
          [
           "Nimes",
           8.2,
           "Link: https://www.booking.com/hotel/fr/le-loft-p4-avec-bain-jacuzzi-et-sauna-parking.html"
          ],
          [
           "Nimes",
           9,
           "Link: https://www.booking.com/hotel/fr/le-genova-proche-du-centre-et-de-la-gare.html"
          ],
          [
           "Nimes",
           8.5,
           "Link: https://www.booking.com/hotel/fr/chambre-agreable-dans-une-maison-avec-un-grand-lit.html"
          ],
          [
           "Nimes",
           8.7,
           "Link: https://www.booking.com/hotel/fr/elegant-t3nimes-parking-centre-ville.html"
          ],
          [
           "Nimes",
           9.7,
           "Link: https://www.booking.com/hotel/fr/roma-divine-home-cinema-jardinet-hyper-centre.html"
          ],
          [
           "Nimes",
           8.3,
           "Link: https://www.booking.com/hotel/fr/bel-appartement-t3-moderne-parking-gratuit.html"
          ],
          [
           "Nimes",
           7.7,
           "Link: https://www.booking.com/hotel/fr/le-sunlight-2-chambres-vue-eglise-saint-paul.html"
          ],
          [
           "Nimes",
           9.2,
           "Link: https://www.booking.com/hotel/fr/etoile-duplex-cosy-de-50m2-en-centre-ville.html"
          ],
          [
           "Nimes",
           9.3,
           "Link: https://www.booking.com/hotel/fr/la-maquette-a-2-pas-des-arenes-nimes1.html"
          ],
          [
           "Nimes",
           8.7,
           "Link: https://www.booking.com/hotel/fr/maison-avec-climatisation-a-cote-du-golf.html"
          ],
          [
           "Nimes",
           9.2,
           "Link: https://www.booking.com/hotel/fr/appartement-nimes1.html"
          ],
          [
           "Nimes",
           7.2,
           "Link: https://www.booking.com/hotel/fr/un-petit-paradis-centre-ville-de-nimes.html"
          ],
          [
           "Nimes",
           8.2,
           "Link: https://www.booking.com/hotel/fr/de-l-amphitheatre-nimes.html"
          ],
          [
           "Nimes",
           8.9,
           "Link: https://www.booking.com/hotel/fr/chez-pepito.html"
          ],
          [
           "Nimes",
           9.1,
           "Link: https://www.booking.com/hotel/fr/nimes-appartement-renove-dans-immeuble-classe.html"
          ],
          [
           "Nimes",
           9.2,
           "Link: https://www.booking.com/hotel/fr/le-temps-d-un-voyage-nimes-le-chapitre-300m-des-arenes.html"
          ],
          [
           "Nimes",
           9.4,
           "Link: https://www.booking.com/hotel/fr/t2-terrasse-vue-sur-les-arenes.html"
          ],
          [
           "Nimes",
           7.3,
           "Link: https://www.booking.com/hotel/fr/la-pause-ensoleillee-en-plein-centre.html"
          ],
          [
           "Nimes",
           8.3,
           "Link: https://www.booking.com/hotel/fr/la-halte-tendance-terrasse-clim.html"
          ],
          [
           "Nimes",
           8.3,
           "Link: https://www.booking.com/hotel/fr/appartement-cosy-en-centre-centre-ville.html"
          ],
          [
           "Nimes",
           8.4,
           "Link: https://www.booking.com/hotel/fr/atlas-eco-plein-centre.html"
          ],
          [
           "Nimes",
           9.1,
           "Link: https://www.booking.com/hotel/fr/votre-terrasse-panoramique-au-coeur-de-nimes.html"
          ],
          [
           "Nimes",
           5.8,
           "Link: https://www.booking.com/hotel/fr/grezan.html"
          ],
          [
           "Nimes",
           9.1,
           "Link: https://www.booking.com/hotel/fr/nimes-appartement-l-auguste-centre-ville.html"
          ],
          [
           "Nimes",
           10,
           "Link: https://www.booking.com/hotel/fr/ora.html"
          ],
          [
           "Nimes",
           9.3,
           "Link: https://www.booking.com/hotel/fr/bed-and-breakfast-nimes.html"
          ],
          [
           "Nimes",
           9.5,
           "Link: https://www.booking.com/hotel/fr/p2-au-rdc.html"
          ],
          [
           "Nimes",
           7.1,
           "Link: https://www.booking.com/hotel/fr/le-nid-douillet-coeur-de-ville-clim.html"
          ],
          [
           "Nimes",
           8.9,
           "Link: https://www.booking.com/hotel/fr/le-scarlett-nimois.html"
          ],
          [
           "Nimes",
           8,
           "Link: https://www.booking.com/hotel/fr/maison-dans-les-arbres-nimes1.html"
          ],
          [
           "Nimes",
           7.8,
           "Link: https://www.booking.com/hotel/fr/superbe-appartement-95m2-arenes-parking-gratuit.html"
          ],
          [
           "Nimes",
           9.4,
           "Link: https://www.booking.com/hotel/fr/le-cosy-nimes2.html"
          ],
          [
           "Nimes",
           9.5,
           "Link: https://www.booking.com/hotel/fr/une-vue-unique-sur-nimes.html"
          ],
          [
           "Nimes",
           7.6,
           "Link: https://www.booking.com/hotel/fr/c-suites.html"
          ],
          [
           "Nimes",
           9.3,
           "Link: https://www.booking.com/hotel/fr/appartement-cosy-nimes-centre-2.html"
          ],
          [
           "Nimes",
           7.8,
           "Link: https://www.booking.com/hotel/fr/eden-joli-studio-en-centre-ville.html"
          ],
          [
           "Nimes",
           9.1,
           "Link: https://www.booking.com/hotel/fr/les-copains-d-abord-nimes.html"
          ],
          [
           "Nimes",
           8.3,
           "Link: https://www.booking.com/hotel/fr/hotel-des-tuileries.html"
          ],
          [
           "Nimes",
           8.3,
           "Link: https://www.booking.com/hotel/fr/ibis-styles-nimes-centre-gare.html"
          ],
          [
           "Nimes",
           9.2,
           "Link: https://www.booking.com/hotel/fr/apparemment-nimes-arenes.html"
          ],
          [
           "Nimes",
           9.2,
           "Link: https://www.booking.com/hotel/fr/appartement-au-calme-dans-un-ecrin-verdoyant.html"
          ],
          [
           "Nimes",
           9.2,
           "Link: https://www.booking.com/hotel/fr/feel-home-nemausus-le-42.html"
          ],
          [
           "Nimes",
           8.3,
           "Link: https://www.booking.com/hotel/fr/vatel.html"
          ],
          [
           "Nimes",
           8.8,
           "Link: https://www.booking.com/hotel/fr/lovely-suite-nimes-romaine.html"
          ],
          [
           "Nimes",
           7.7,
           "Link: https://www.booking.com/hotel/fr/allegria-nimes.html"
          ],
          [
           "Nimes",
           9.2,
           "Link: https://www.booking.com/hotel/fr/margaret-chouleur.html"
          ],
          [
           "Nimes",
           9.1,
           "Link: https://www.booking.com/hotel/fr/la-cigale-et-la-fourmi-nimes.html"
          ],
          [
           "Nimes",
           8,
           "Link: https://www.booking.com/hotel/fr/bestwestern-lorangerie.html"
          ],
          [
           "Nimes",
           8.3,
           "Link: https://www.booking.com/hotel/fr/vertigo-nimes-nimes.html"
          ],
          [
           "Nimes",
           10,
           "Link: https://www.booking.com/hotel/fr/le-zen-nimes.html"
          ],
          [
           "Nimes",
           8.1,
           "Link: https://www.booking.com/hotel/fr/une-nuit-a-nimes-cabane-camarguaise-dans-l-ecusson.html"
          ],
          [
           "Nimes",
           9.8,
           "Link: https://www.booking.com/hotel/fr/le-lumineux-p3-de-cristiano.html"
          ],
          [
           "Nimes",
           9.3,
           "Link: https://www.booking.com/hotel/fr/escapade-nimoise.html"
          ],
          [
           "Nimes",
           8.5,
           "Link: https://www.booking.com/hotel/fr/harmonie-nimes.html"
          ],
          [
           "Nimes",
           7.1,
           "Link: https://www.booking.com/hotel/fr/le-petit-ecusson-a-la-cathedrale.html"
          ],
          [
           "Nimes",
           8.9,
           "Link: https://www.booking.com/hotel/fr/maison-quai-de-la-fontaine.html"
          ],
          [
           "Nimes",
           8,
           "Link: https://www.booking.com/hotel/fr/auberge-de-jeunesse-hi-nimes.html"
          ],
          [
           "Nimes",
           9.4,
           "Link: https://www.booking.com/hotel/fr/les-trois-rois-nimes.html"
          ],
          [
           "Nimes",
           8.1,
           "Link: https://www.booking.com/hotel/fr/amoureux-de-nimes-p3-parking-prive.html"
          ],
          [
           "Nimes",
           9.3,
           "Link: https://www.booking.com/hotel/fr/atypique-des-arenes.html"
          ],
          [
           "Nimes",
           9.2,
           "Link: https://www.booking.com/hotel/fr/chez-frida-escapade-nimoise.html"
          ],
          [
           "Nimes",
           8.3,
           "Link: https://www.booking.com/hotel/fr/le-victor-hugo-coeur-de-ville.html"
          ],
          [
           "Nimes",
           9.3,
           "Link: https://www.booking.com/hotel/fr/nimes-les-pins.html"
          ],
          [
           "Nimes",
           8.3,
           "Link: https://www.booking.com/hotel/fr/nemausa-apartis.html"
          ],
          [
           "Nimes",
           10,
           "Link: https://www.booking.com/hotel/fr/tiny-house-au-coeur-de-la-petite-rome-francaise.html"
          ],
          [
           "Nimes",
           9.3,
           "Link: https://www.booking.com/hotel/fr/ni-douillet.html"
          ],
          [
           "Nimes",
           8.5,
           "Link: https://www.booking.com/hotel/fr/dolce-nimes-t2-standind-clim.html"
          ],
          [
           "Nimes",
           7.4,
           "Link: https://www.booking.com/hotel/fr/feuillade-ancien.html"
          ],
          [
           "Nimes",
           8.8,
           "Link: https://www.booking.com/hotel/fr/la-maison-de-sophie-na-r-mes.html"
          ],
          [
           "Nimes",
           10,
           "Link: https://www.booking.com/hotel/fr/le-136-baby-foot-6-personnes.html"
          ],
          [
           "Nimes",
           7.4,
           "Link: https://www.booking.com/hotel/fr/arcadia-4-lits-climatise-jeu-d-arcade-centre-historique-nimes.html"
          ],
          [
           "Nimes",
           7.4,
           "Link: https://www.booking.com/hotel/fr/duplex-avec-clim-centre-de-nimes.html"
          ],
          [
           "Nimes",
           8.5,
           "Link: https://www.booking.com/hotel/fr/une-nuit-a-nimes.html"
          ],
          [
           "Nimes",
           9.1,
           "Link: https://www.booking.com/hotel/fr/le-67-centre-ville-climatisation-fibre.html"
          ],
          [
           "Nimes",
           7.9,
           "Link: https://www.booking.com/hotel/fr/ibis-na-r-mes-ouest.html"
          ],
          [
           "Nimes",
           9,
           "Link: https://www.booking.com/hotel/fr/joli-f2-proche-gare-arenes-avec-terrasse-privee.html"
          ],
          [
           "Nimes",
           8.3,
           "Link: https://www.booking.com/hotel/fr/antoninplein-centre-maison-carree-p1-bis.html"
          ],
          [
           "Nimes",
           9,
           "Link: https://www.booking.com/hotel/fr/le-green-clim-et-emplacement.html"
          ],
          [
           "Nimes",
           9.5,
           "Link: https://www.booking.com/hotel/fr/la-cathedrale-de-bois.html"
          ],
          [
           "Nimes",
           7.9,
           "Link: https://www.booking.com/hotel/fr/un-pied-a-terre-avec-terrasse-a-la-cathedrale.html"
          ],
          [
           "Nimes",
           10,
           "Link: https://www.booking.com/hotel/fr/appart-de-70m2-en-rdc-a-6-mn-a-pied-des-monuments.html"
          ],
          [
           "Nimes",
           7.1,
           "Link: https://www.booking.com/hotel/fr/campanile-nimes-centre-mas-carbonnel.html"
          ],
          [
           "Nimes",
           10,
           "Link: https://www.booking.com/hotel/fr/le-duplex-du-marin-nimois-une-nuit-a-nimes.html"
          ],
          [
           "Nimes",
           6.3,
           "Link: https://www.booking.com/hotel/fr/studio-le-nimois-nimes2.html"
          ],
          [
           "Nimes",
           9,
           "Link: https://www.booking.com/hotel/fr/appartement-1-chambre-au-calme.html"
          ],
          [
           "Nimes",
           9.2,
           "Link: https://www.booking.com/hotel/fr/feel-home-nemausus-le-11.html"
          ],
          [
           "Nimes",
           8.5,
           "Link: https://www.booking.com/hotel/fr/oh-activ-nimes.html"
          ],
          [
           "Nimes",
           8.2,
           "Link: https://www.booking.com/hotel/fr/appartement-des-carmes.html"
          ],
          [
           "Nimes",
           8.8,
           "Link: https://www.booking.com/hotel/fr/superbe-appartement-avec-parking-sur-place.html"
          ],
          [
           "Nimes",
           8.7,
           "Link: https://www.booking.com/hotel/fr/la-terra-nostra-townhouse-swimming-pool-nimes.html"
          ],
          [
           "Nimes",
           7.5,
           "Link: https://www.booking.com/hotel/fr/central-nimes.html"
          ],
          [
           "Nimes",
           8.2,
           "Link: https://www.booking.com/hotel/fr/studio-neuf-amp-moderne-dernier-etage-balcon.html"
          ],
          [
           "Nimes",
           9,
           "Link: https://www.booking.com/hotel/fr/un-joyau-occitan-nimes4.html"
          ],
          [
           "Nimes",
           8.2,
           "Link: https://www.booking.com/hotel/fr/ha-tel-la-baume.html"
          ],
          [
           "Nimes",
           9.1,
           "Link: https://www.booking.com/hotel/fr/appart-charme-arenes-nimes.html"
          ],
          [
           "Nimes",
           8.5,
           "Link: https://www.booking.com/hotel/fr/le-plaisant-nimes-plein-centre.html"
          ],
          [
           "Nimes",
           8.3,
           "Link: https://www.booking.com/hotel/fr/enclos-rey.html"
          ],
          [
           "Nimes",
           8.9,
           "Link: https://www.booking.com/hotel/fr/appartement-denim.html"
          ],
          [
           "Nimes",
           8.3,
           "Link: https://www.booking.com/hotel/fr/studio-orange-plein-centre.html"
          ],
          [
           "Nimes",
           7.6,
           "Link: https://www.booking.com/hotel/fr/oasis-bleue-au-coeur-de-l-effervescence-nimoise.html"
          ],
          [
           "Nimes",
           7.3,
           "Link: https://www.booking.com/hotel/fr/atlas-superbe-logement-terasse.html"
          ],
          [
           "Nimes",
           9.7,
           "Link: https://www.booking.com/hotel/fr/mas-d-39-escattes.html"
          ],
          [
           "Nimes",
           9.1,
           "Link: https://www.booking.com/hotel/fr/emeraude-havre-de-paix-en-ville.html"
          ],
          [
           "Nimes",
           9,
           "Link: https://www.booking.com/hotel/fr/douceur-nimoise-en-centre-ville-rdc-et-exterieur.html"
          ],
          [
           "Nimes",
           9.7,
           "Link: https://www.booking.com/hotel/fr/le-pool-house-nimes1.html"
          ],
          [
           "Nimes",
           9.2,
           "Link: https://www.booking.com/hotel/fr/mezza-nimes.html"
          ],
          [
           "Nimes",
           9.4,
           "Link: https://www.booking.com/hotel/fr/appartement-jungle-climatise-centre-ville.html"
          ],
          [
           "Nimes",
           9.6,
           "Link: https://www.booking.com/hotel/fr/villa-pierre-blanche.html"
          ],
          [
           "Nimes",
           8.5,
           "Link: https://www.booking.com/hotel/fr/93m2-centre-billard-clim-prime-video-wifi-fibre.html"
          ],
          [
           "Nimes",
           7.3,
           "Link: https://www.booking.com/hotel/fr/appart-city-nimes.html"
          ],
          [
           "Nimes",
           9.6,
           "Link: https://www.booking.com/hotel/fr/le-lutz.html"
          ],
          [
           "Nimes",
           9.5,
           "Link: https://www.booking.com/hotel/fr/appartement-a-nimes-nimes2.html"
          ],
          [
           "Nimes",
           7.4,
           "Link: https://www.booking.com/hotel/fr/studio-triangle-arene-gare-maison-carree-placette.html"
          ],
          [
           "Nimes",
           8.6,
           "Link: https://www.booking.com/hotel/fr/odalys-city-nimes-arenes.html"
          ],
          [
           "Nimes",
           8.1,
           "Link: https://www.booking.com/hotel/fr/le-petit-cocon-nimois.html"
          ],
          [
           "Nimes",
           8.8,
           "Link: https://www.booking.com/hotel/fr/villa-caremeau-2.html"
          ],
          [
           "Nimes",
           9.4,
           "Link: https://www.booking.com/hotel/fr/roma-reva-design-et-home-cinema.html"
          ],
          [
           "Nimes",
           9.1,
           "Link: https://www.booking.com/hotel/fr/chez-sonou-nimes-centre.html"
          ],
          [
           "Nimes",
           8.7,
           "Link: https://www.booking.com/hotel/fr/la-suite-2-pieces-lit-queen-size-entree-privee-nimes.html"
          ],
          [
           "Nimes",
           9.4,
           "Link: https://www.booking.com/hotel/fr/appartement-le-flocon-2-chambres-climatise-maison-carree.html"
          ],
          [
           "Nimes",
           8,
           "Link: https://www.booking.com/hotel/fr/appartement-terrasse-et-parking-le-cocon-d-emie.html"
          ],
          [
           "Nimes",
           8.2,
           "Link: https://www.booking.com/hotel/fr/mas-feuillade-a.html"
          ],
          [
           "Nimes",
           7.6,
           "Link: https://www.booking.com/hotel/fr/mas-de-galoffre.html"
          ],
          [
           "Nimes",
           10,
           "Link: https://www.booking.com/hotel/fr/le-soleil-bleu.html"
          ],
          [
           "Nimes",
           9.6,
           "Link: https://www.booking.com/hotel/fr/le-plaisir-de-la-campagne-a-la-ville-nimes.html"
          ],
          [
           "Nimes",
           9.3,
           "Link: https://www.booking.com/hotel/fr/proche-maison-carree.html"
          ],
          [
           "Nimes",
           7.4,
           "Link: https://www.booking.com/hotel/fr/empire-nimes.html"
          ],
          [
           "Nimes",
           9.3,
           "Link: https://www.booking.com/hotel/fr/inn-4-bears.html"
          ],
          [
           "Nimes",
           9.2,
           "Link: https://www.booking.com/hotel/fr/patrick-amp-pierre-bnb-nimes.html"
          ],
          [
           "Nimes",
           8.1,
           "Link: https://www.booking.com/hotel/fr/studio-23m2-moderne-hypercentre-arenes-a-2-min.html"
          ],
          [
           "Nimes",
           8.4,
           "Link: https://www.booking.com/hotel/fr/petit-patio-en-centre-ville.html"
          ],
          [
           "Nimes",
           9,
           "Link: https://www.booking.com/hotel/fr/demeure-amp-confort.html"
          ],
          [
           "Nimes",
           8.6,
           "Link: https://www.booking.com/hotel/fr/beau-f3-renove-calme-en-plein-centre-de-nimes.html"
          ],
          [
           "Nimes",
           9.2,
           "Link: https://www.booking.com/hotel/fr/le-questel-in-the-heart-of-the-roman-city-with-nimes.html"
          ],
          [
           "Nimes",
           9.2,
           "Link: https://www.booking.com/hotel/fr/la-maison-rousseau.html"
          ],
          [
           "Nimes",
           9,
           "Link: https://www.booking.com/hotel/fr/le-studio-d-39-auguste-coeur-de-nimes-chaleureux-emplacement-ideal.html"
          ],
          [
           "Nimes",
           7.3,
           "Link: https://www.booking.com/hotel/fr/b-amp-b-nimes-villes-active.html"
          ],
          [
           "Nimes",
           8,
           "Link: https://www.booking.com/hotel/fr/godin.html"
          ],
          [
           "Nimes",
           8,
           "Link: https://www.booking.com/hotel/fr/studio-balcon-parking-dhuoda.html"
          ],
          [
           "Nimes",
           8.7,
           "Link: https://www.booking.com/hotel/fr/le-bleu-jean-denim-arenes.html"
          ],
          [
           "Nimes",
           8.7,
           "Link: https://www.booking.com/hotel/fr/appartement-au-centre-historique-de-nimes.html"
          ],
          [
           "Nimes",
           10,
           "Link: https://www.booking.com/hotel/fr/che-eve.html"
          ],
          [
           "Nimes",
           7.7,
           "Link: https://www.booking.com/hotel/fr/azul-aparte.html"
          ],
          [
           "Nimes",
           8.1,
           "Link: https://www.booking.com/hotel/fr/superbe-appartement-avec-patio-nimes.html"
          ],
          [
           "Nimes",
           8.7,
           "Link: https://www.booking.com/hotel/fr/appart-39-city-nimes.html"
          ],
          [
           "Nimes",
           7.5,
           "Link: https://www.booking.com/hotel/fr/studio-meuble-ensoleille-sfr-box.html"
          ],
          [
           "Nimes",
           7.1,
           "Link: https://www.booking.com/hotel/fr/la-patio-coeur-de-ville-clim.html"
          ],
          [
           "Nimes",
           8.9,
           "Link: https://www.booking.com/hotel/fr/jolie-annexe-du-mazet.html"
          ],
          [
           "Nimes",
           8.8,
           "Link: https://www.booking.com/hotel/fr/les-esclafidous.html"
          ],
          [
           "Nimes",
           8.2,
           "Link: https://www.booking.com/hotel/fr/mas-la-farelle.html"
          ],
          [
           "Nimes",
           9.1,
           "Link: https://www.booking.com/hotel/fr/maison-chaleureuse-avec-grande-terrasse.html"
          ],
          [
           "Nimes",
           7.4,
           "Link: https://www.booking.com/hotel/fr/domus-arena.html"
          ],
          [
           "Nimes",
           9.4,
           "Link: https://www.booking.com/hotel/fr/appartement-garance-nimes.html"
          ],
          [
           "Nimes",
           9.5,
           "Link: https://www.booking.com/hotel/fr/la-cabane-nimoise-avec-clim.html"
          ],
          [
           "Nimes",
           8.9,
           "Link: https://www.booking.com/hotel/fr/le-yellow-central-climatise.html"
          ],
          [
           "Nimes",
           9.2,
           "Link: https://www.booking.com/hotel/fr/studio-centre-ville-ecusson.html"
          ],
          [
           "Nimes",
           8.7,
           "Link: https://www.booking.com/hotel/fr/6-rue-saint-antoine.html"
          ],
          [
           "Nimes",
           9.2,
           "Link: https://www.booking.com/hotel/fr/nimes-roussy.html"
          ],
          [
           "Nimes",
           8.9,
           "Link: https://www.booking.com/hotel/fr/joli-appartement-t2.html"
          ],
          [
           "Nimes",
           8.4,
           "Link: https://www.booking.com/hotel/fr/logement-tout-confort-avec-grand-garage-gratuit.html"
          ],
          [
           "Nimes",
           8.3,
           "Link: https://www.booking.com/hotel/fr/superbe-villa-85-m2-nimes-caremeau.html"
          ],
          [
           "Nimes",
           8.3,
           "Link: https://www.booking.com/hotel/fr/charming-apartment-p2.html"
          ],
          [
           "Nimes",
           10,
           "Link: https://www.booking.com/hotel/fr/ecrin-nimois.html"
          ],
          [
           "Nimes",
           8.8,
           "Link: https://www.booking.com/hotel/fr/le-mas-emeraude-jardin-parking-climatisation.html"
          ],
          [
           "Nimes",
           8.7,
           "Link: https://www.booking.com/hotel/fr/quiet-accommodation-very-close-to-the-center.html"
          ],
          [
           "Nimes",
           7.6,
           "Link: https://www.booking.com/hotel/fr/les-arenes-1-a-6-personnes-en-centre-ville.html"
          ],
          [
           "Nimes",
           8.2,
           "Link: https://www.booking.com/hotel/fr/ecrin-nimes-le-cocoon-doree.html"
          ],
          [
           "Nimes",
           9.4,
           "Link: https://www.booking.com/hotel/fr/bienvenue-au-cerisier.html"
          ],
          [
           "Nimes",
           7,
           "Link: https://www.booking.com/hotel/fr/balladinssuperiornimes.html"
          ],
          [
           "Nimes",
           7.4,
           "Link: https://www.booking.com/hotel/fr/le-nimois.html"
          ],
          [
           "Nimes",
           9.1,
           "Link: https://www.booking.com/hotel/fr/les-villas-du-triangle-chambres-d-39-hotes.html"
          ],
          [
           "Nimes",
           9.4,
           "Link: https://www.booking.com/hotel/fr/charmant-studio-avec-cour-en-centre-ville.html"
          ],
          [
           "Nimes",
           8.7,
           "Link: https://www.booking.com/hotel/fr/arena-nimes.html"
          ],
          [
           "Nimes",
           7.2,
           "Link: https://www.booking.com/hotel/fr/kyriadnimescentre.html"
          ],
          [
           "Nimes",
           9.4,
           "Link: https://www.booking.com/hotel/fr/feel-home-nemausus-le-21.html"
          ],
          [
           "Saintes Maries de la mer",
           7.8,
           "Link: https://www.booking.com/hotel/fr/oh-campings.html"
          ],
          [
           "Saintes Maries de la mer",
           8.9,
           "Link: https://www.booking.com/hotel/fr/casa-marina-saintes-maries-de-la-mer.html"
          ],
          [
           "Saintes Maries de la mer",
           8.1,
           "Link: https://www.booking.com/hotel/fr/alvica-triana.html"
          ],
          [
           "Saintes Maries de la mer",
           8.9,
           "Link: https://www.booking.com/hotel/fr/le-mas-de-lauriane.html"
          ],
          [
           "Saintes Maries de la mer",
           9.6,
           "Link: https://www.booking.com/hotel/fr/maison-au-bord-de-mer-saintes-maries-de-la-mer.html"
          ],
          [
           "Saintes Maries de la mer",
           6.7,
           "Link: https://www.booking.com/hotel/fr/apartment-un-appartement-pour-7-personnes-situe-21-rue-marcel-carriere.html"
          ],
          [
           "Saintes Maries de la mer",
           7,
           "Link: https://www.booking.com/hotel/fr/villa-ndeg1-la-saladelle.html"
          ],
          [
           "Saintes Maries de la mer",
           9.3,
           "Link: https://www.booking.com/hotel/fr/le-cocon-de-sissy.html"
          ],
          [
           "Saintes Maries de la mer",
           9.7,
           "Link: https://www.booking.com/hotel/fr/mas-des-cabidoules.html"
          ],
          [
           "Saintes Maries de la mer",
           8.4,
           "Link: https://www.booking.com/hotel/fr/le-dauphin-bleu.html"
          ],
          [
           "Saintes Maries de la mer",
           5,
           "Link: https://www.booking.com/hotel/fr/apartment-appartement-pour-4-personnes-dans-residence-avec-piscine-le-mas-des-ma.html"
          ],
          [
           "Saintes Maries de la mer",
           9,
           "Link: https://www.booking.com/hotel/fr/appartement-le-bois-flotte.html"
          ],
          [
           "Saintes Maries de la mer",
           9,
           "Link: https://www.booking.com/hotel/fr/appartement-les-saintes.html"
          ],
          [
           "Saintes Maries de la mer",
           8.4,
           "Link: https://www.booking.com/hotel/fr/le-petit-mas-des-barres.html"
          ],
          [
           "Saintes Maries de la mer",
           8.7,
           "Link: https://www.booking.com/hotel/fr/appartement-le-trident.html"
          ],
          [
           "Saintes Maries de la mer",
           8.8,
           "Link: https://www.booking.com/hotel/fr/le-mas-des-mourguettes.html"
          ],
          [
           "Saintes Maries de la mer",
           4.5,
           "Link: https://www.booking.com/hotel/fr/apartment-appartement-pour-6-personnes-dans-residence-avec-piscine-le-mas-des-ma.html"
          ],
          [
           "Saintes Maries de la mer",
           8,
           "Link: https://www.booking.com/hotel/fr/apartment-un-appartements-pour-5-personnes-dans-residence-avec-piscine.html"
          ],
          [
           "Saintes Maries de la mer",
           9.2,
           "Link: https://www.booking.com/hotel/fr/jolie-appartement-refait-a-neuf.html"
          ],
          [
           "Saintes Maries de la mer",
           8.5,
           "Link: https://www.booking.com/hotel/fr/holiday-home-mas-de-fielouse-saintes-maries-de-la-mer.html"
          ],
          [
           "Saintes Maries de la mer",
           8.8,
           "Link: https://www.booking.com/hotel/fr/la-tramontane.html"
          ],
          [
           "Saintes Maries de la mer",
           7,
           "Link: https://www.booking.com/hotel/fr/studio-saintes-maries-de-la-mer-1-piece-4-personnes-fr-1-475-120.html"
          ],
          [
           "Saintes Maries de la mer",
           6.3,
           "Link: https://www.booking.com/hotel/fr/maison-saintes-maries-de-la-mer-2-pieces-4-personnes-fr-1-475-102.html"
          ],
          [
           "Saintes Maries de la mer",
           8.4,
           "Link: https://www.booking.com/hotel/fr/mas-de-pioch.html"
          ],
          [
           "Saintes Maries de la mer",
           9.2,
           "Link: https://www.booking.com/hotel/fr/gites-equestres-les-cabanes-de-cambon-saintes-maries-de-la-mer.html"
          ],
          [
           "Saintes Maries de la mer",
           10,
           "Link: https://www.booking.com/hotel/fr/roulotte-lou-gregau.html"
          ],
          [
           "Saintes Maries de la mer",
           8.2,
           "Link: https://www.booking.com/hotel/fr/le-neptune-en-camargue.html"
          ],
          [
           "Saintes Maries de la mer",
           9.2,
           "Link: https://www.booking.com/hotel/fr/le-patio-saintes-maries-de-la-mer.html"
          ],
          [
           "Saintes Maries de la mer",
           8,
           "Link: https://www.booking.com/hotel/fr/appartement-saintes-maries-de-la-mer-3-pieces-4-personnes-fr-1-475-88.html"
          ],
          [
           "Saintes Maries de la mer",
           9.6,
           "Link: https://www.booking.com/hotel/fr/mas-du-couvin.html"
          ],
          [
           "Saintes Maries de la mer",
           8.9,
           "Link: https://www.booking.com/hotel/fr/mangio-fango.html"
          ],
          [
           "Saintes Maries de la mer",
           8,
           "Link: https://www.booking.com/hotel/fr/camargue-saintes-maries-de-la-mer.html"
          ],
          [
           "Saintes Maries de la mer",
           8.1,
           "Link: https://www.booking.com/hotel/fr/bastide-blanche-saintes-maries-de-la-mer.html"
          ],
          [
           "Saintes Maries de la mer",
           9.5,
           "Link: https://www.booking.com/hotel/fr/magnificent-apartment-typical-of-saintes-maries-de-lamer.html"
          ],
          [
           "Saintes Maries de la mer",
           9.2,
           "Link: https://www.booking.com/hotel/fr/appartement-saintes-maries-de-la-mer-2-pieces-3-personnes-fr-1-475-117.html"
          ],
          [
           "Saintes Maries de la mer",
           7.9,
           "Link: https://www.booking.com/hotel/fr/appartement-camargue.html"
          ],
          [
           "Saintes Maries de la mer",
           9.6,
           "Link: https://www.booking.com/hotel/fr/mas-fandelou.html"
          ],
          [
           "Saintes Maries de la mer",
           9,
           "Link: https://www.booking.com/hotel/fr/appartement-duplex-4pers-climatise.html"
          ],
          [
           "Saintes Maries de la mer",
           9.3,
           "Link: https://www.booking.com/hotel/fr/les-laurier-rose.html"
          ],
          [
           "Saintes Maries de la mer",
           8.7,
           "Link: https://www.booking.com/hotel/fr/lauberge-camarguaise.html"
          ],
          [
           "Saintes Maries de la mer",
           9,
           "Link: https://www.booking.com/hotel/fr/holiday-home-rue-des-penitents-blancs.html"
          ],
          [
           "Saintes Maries de la mer",
           7.9,
           "Link: https://www.booking.com/hotel/fr/la-cabane-d-ariane.html"
          ],
          [
           "Saintes Maries de la mer",
           9.4,
           "Link: https://www.booking.com/hotel/fr/maison-en-camargue.html"
          ],
          [
           "Saintes Maries de la mer",
           9.2,
           "Link: https://www.booking.com/hotel/fr/maison-saintes-maries-de-la-mer-3-pieces-4-personnes-fr-1-475-91.html"
          ],
          [
           "Saintes Maries de la mer",
           6.9,
           "Link: https://www.booking.com/hotel/fr/le-mediterranee-saintes-maries-de-la-mer.html"
          ],
          [
           "Saintes Maries de la mer",
           9.3,
           "Link: https://www.booking.com/hotel/fr/les-deux-pins-saintes-maries-de-la-mer.html"
          ],
          [
           "Saintes Maries de la mer",
           8.1,
           "Link: https://www.booking.com/hotel/fr/ra-c-sidence-palma.html"
          ],
          [
           "Saintes Maries de la mer",
           9.5,
           "Link: https://www.booking.com/hotel/fr/lolita-saintes-maries-de-la-mer.html"
          ],
          [
           "Saintes Maries de la mer",
           9,
           "Link: https://www.booking.com/hotel/fr/stunning-home-in-saintes-maries-de-la-with-wifi-and-2-bedrooms.html"
          ],
          [
           "Saintes Maries de la mer",
           8.6,
           "Link: https://www.booking.com/hotel/fr/appartement-calme-et-ensoleille-saintes-maries-de-la-mer.html"
          ],
          [
           "Saintes Maries de la mer",
           8.7,
           "Link: https://www.booking.com/hotel/fr/les-mourguettes.html"
          ],
          [
           "Saintes Maries de la mer",
           9.3,
           "Link: https://www.booking.com/hotel/fr/un-reve-a-la-mer-saintes-maries-de-la-mer.html"
          ],
          [
           "Saintes Maries de la mer",
           8.8,
           "Link: https://www.booking.com/hotel/fr/mas-des-rieges-amp-spa.html"
          ],
          [
           "Saintes Maries de la mer",
           9.2,
           "Link: https://www.booking.com/hotel/fr/la-cabane-du-boumian.html"
          ],
          [
           "Saintes Maries de la mer",
           8.9,
           "Link: https://www.booking.com/hotel/fr/appartement-plein-centre-des-saintes-maries-de-la-mer-vue-sur-le-clocher.html"
          ],
          [
           "Saintes Maries de la mer",
           9.4,
           "Link: https://www.booking.com/hotel/fr/appartement-domaine-du-soleil-couchant.html"
          ],
          [
           "Saintes Maries de la mer",
           8.5,
           "Link: https://www.booking.com/hotel/fr/maison-saintes-maries-de-la-mer-3-pieces-4-personnes-fr-1-475-115.html"
          ],
          [
           "Saintes Maries de la mer",
           9,
           "Link: https://www.booking.com/hotel/fr/l-estelle-en-camargue-les-saintes.html"
          ],
          [
           "Saintes Maries de la mer",
           9,
           "Link: https://www.booking.com/hotel/fr/apartment-un-studio-pour-2-personnes-7-avenue-gilbert-leroy-1.html"
          ],
          [
           "Saintes Maries de la mer",
           7.6,
           "Link: https://www.booking.com/hotel/fr/le-bleu-marine.html"
          ],
          [
           "Saintes Maries de la mer",
           8.4,
           "Link: https://www.booking.com/hotel/fr/appartement-calme-a-deux-pas-de-la-mer.html"
          ],
          [
           "Saintes Maries de la mer",
           8.2,
           "Link: https://www.booking.com/hotel/fr/lodge-de-la-fouque.html"
          ],
          [
           "Saintes Maries de la mer",
           9.6,
           "Link: https://www.booking.com/hotel/fr/appartement-avec-parking-saintes-maries-de-la-mer.html"
          ],
          [
           "Saintes Maries de la mer",
           5,
           "Link: https://www.booking.com/hotel/fr/house-une-maison-pour-10-personnes-7-impasse-de-la-sauvagine-1.html"
          ],
          [
           "Saintes Maries de la mer",
           9.7,
           "Link: https://www.booking.com/hotel/fr/appartement-avec-vue-sur-l-eglise-des-saintes.html"
          ],
          [
           "Saintes Maries de la mer",
           8.9,
           "Link: https://www.booking.com/hotel/fr/la-farigoulette-saintes-maries-de-la-mer.html"
          ],
          [
           "Saintes Maries de la mer",
           6,
           "Link: https://www.booking.com/hotel/fr/holiday-home-mas-de-fielouse-saintes-maries-de-la-mer1.html"
          ],
          [
           "Saintes Maries de la mer",
           8.2,
           "Link: https://www.booking.com/hotel/fr/maison-saintes-maries-de-la-mer-4-pieces-6-personnes-fr-1-475-114.html"
          ],
          [
           "Saintes Maries de la mer",
           7,
           "Link: https://www.booking.com/hotel/fr/apartment-un-appartement-pour-4-personnes-18-rue-louis-pasteur-le-geranium-1.html"
          ],
          [
           "Saintes Maries de la mer",
           8.9,
           "Link: https://www.booking.com/hotel/fr/loft-saintes-maries-de-la-mer.html"
          ],
          [
           "Saintes Maries de la mer",
           8,
           "Link: https://www.booking.com/hotel/fr/terraced-house-saintes-maries-de-la-mer.html"
          ],
          [
           "Saintes Maries de la mer",
           8.9,
           "Link: https://www.booking.com/hotel/fr/etincelle-de-camargue.html"
          ],
          [
           "Saintes Maries de la mer",
           8,
           "Link: https://www.booking.com/hotel/fr/apartment-un-studio-pour-3-personnes-residence-le-camargue-1.html"
          ],
          [
           "Saintes Maries de la mer",
           9.5,
           "Link: https://www.booking.com/hotel/fr/mas-des-cypres-gite-7.html"
          ],
          [
           "Saintes Maries de la mer",
           7,
           "Link: https://www.booking.com/hotel/fr/appartement-saintes-maries-de-la-mer-2-pieces-4-personnes-fr-1-475-111.html"
          ],
          [
           "Saintes Maries de la mer",
           9.3,
           "Link: https://www.booking.com/hotel/fr/villa-8-personnes-bord-de-mer-climatisee.html"
          ],
          [
           "Saintes Maries de la mer",
           8.4,
           "Link: https://www.booking.com/hotel/fr/auberge-de-la-fadaise.html"
          ],
          [
           "Saintes Maries de la mer",
           9,
           "Link: https://www.booking.com/hotel/fr/appartement-saintes-maries-de-la-mer-2-pieces-4-personnes-fr-1-475-100.html"
          ],
          [
           "Saintes Maries de la mer",
           7,
           "Link: https://www.booking.com/hotel/fr/maison-saintes-maries-de-la-mer-4-pieces-7-personnes-fr-1-475-128.html"
          ],
          [
           "Saintes Maries de la mer",
           8.5,
           "Link: https://www.booking.com/hotel/fr/appartement-saintes-maries-de-la-mer-2-pieces-4-personnes-fr-1-475-86.html"
          ],
          [
           "Saintes Maries de la mer",
           8.8,
           "Link: https://www.booking.com/hotel/fr/maison-neuve-clim-400m-plage.html"
          ],
          [
           "Saintes Maries de la mer",
           10,
           "Link: https://www.booking.com/hotel/fr/apartment-un-appartement-pour-4-personnes-8-rue-noune-judlin-1.html"
          ],
          [
           "Saintes Maries de la mer",
           8.3,
           "Link: https://www.booking.com/hotel/fr/la-maison-du-vent-du-soleil-situee-au-coeur-de-la-camargue.html"
          ],
          [
           "Saintes Maries de la mer",
           8.3,
           "Link: https://www.booking.com/hotel/fr/auberge-cavaliere-saintes-maries-de-la-mer.html"
          ],
          [
           "Saintes Maries de la mer",
           8.8,
           "Link: https://www.booking.com/hotel/fr/studio-avec-chambre-2-4-pers-climatise-locations-vld-camargue.html"
          ],
          [
           "Saintes Maries de la mer",
           8.8,
           "Link: https://www.booking.com/hotel/fr/mas-du-menage-en-camargue-manade-clauzel.html"
          ],
          [
           "Saintes Maries de la mer",
           5.8,
           "Link: https://www.booking.com/hotel/fr/hacienda-des-enfants-terribles.html"
          ],
          [
           "Saintes Maries de la mer",
           9.3,
           "Link: https://www.booking.com/hotel/fr/lotissement-les-launes-du-couchant.html"
          ],
          [
           "Saintes Maries de la mer",
           8.6,
           "Link: https://www.booking.com/hotel/fr/le-mas-de-mon-pere-sylvereal.html"
          ],
          [
           "Saintes Maries de la mer",
           8.5,
           "Link: https://www.booking.com/hotel/fr/appartement-bord-de-mer-avec-vue-et-acces-plage-saintes-maries-de-la-mer.html"
          ],
          [
           "Saintes Maries de la mer",
           8.9,
           "Link: https://www.booking.com/hotel/fr/le-gite-de-fanny.html"
          ],
          [
           "Saintes Maries de la mer",
           9.8,
           "Link: https://www.booking.com/hotel/fr/le-chene-vert-saintes-maries-de-la-mer.html"
          ],
          [
           "Saintes Maries de la mer",
           7.9,
           "Link: https://www.booking.com/hotel/fr/le-soleil-camarguais-2-150.html"
          ],
          [
           "Saintes Maries de la mer",
           8.6,
           "Link: https://www.booking.com/hotel/fr/de-l-eau-et-des-oiseaux.html"
          ],
          [
           "Saintes Maries de la mer",
           6.8,
           "Link: https://www.booking.com/hotel/fr/apartment-un-appartement-pour-4-personnes-residence-avec-piscine-1.html"
          ],
          [
           "Saintes Maries de la mer",
           6.8,
           "Link: https://www.booking.com/hotel/fr/apartment-un-appartement-pour-6-personnes-18-rue-louis-pasteur-le-figuier-1.html"
          ],
          [
           "Saintes Maries de la mer",
           9.8,
           "Link: https://www.booking.com/hotel/fr/residence-l-oiseau-des-sables.html"
          ],
          [
           "Saintes Maries de la mer",
           8,
           "Link: https://www.booking.com/hotel/fr/les-palmiers-en-camargue.html"
          ],
          [
           "Saintes Maries de la mer",
           8.4,
           "Link: https://www.booking.com/hotel/fr/le-mas-d-icard.html"
          ],
          [
           "Saintes Maries de la mer",
           8.8,
           "Link: https://www.booking.com/hotel/fr/maison-saintes-maries-de-la-mer-3-pieces-4-personnes-fr-1-475-112.html"
          ],
          [
           "Saintes Maries de la mer",
           8.7,
           "Link: https://www.booking.com/hotel/fr/appartement-des-penitents.html"
          ],
          [
           "Saintes Maries de la mer",
           8.5,
           "Link: https://www.booking.com/hotel/fr/la-palunette.html"
          ],
          [
           "Saintes Maries de la mer",
           8.7,
           "Link: https://www.booking.com/hotel/fr/clamador.html"
          ],
          [
           "Saintes Maries de la mer",
           8,
           "Link: https://www.booking.com/hotel/fr/appartement-saintes-maries-de-la-mer-2-pieces-3-personnes-fr-1-475-130.html"
          ],
          [
           "Saintes Maries de la mer",
           8.8,
           "Link: https://www.booking.com/hotel/fr/mazet-l-39-etrier.html"
          ],
          [
           "Saintes Maries de la mer",
           8.6,
           "Link: https://www.booking.com/hotel/fr/manade-des-baumelles.html"
          ],
          [
           "Saintes Maries de la mer",
           9.2,
           "Link: https://www.booking.com/hotel/fr/studio-des-saintes.html"
          ],
          [
           "Saintes Maries de la mer",
           10,
           "Link: https://www.booking.com/hotel/fr/nature-cabanes-de-cambon.html"
          ],
          [
           "Saintes Maries de la mer",
           9.1,
           "Link: https://www.booking.com/hotel/fr/un-cocon-au-coeur-du-village.html"
          ],
          [
           "Saintes Maries de la mer",
           9.1,
           "Link: https://www.booking.com/hotel/fr/mas-albert-espelly.html"
          ],
          [
           "Saintes Maries de la mer",
           8.9,
           "Link: https://www.booking.com/hotel/fr/arlesienne-saintes-maries-de-la-mer.html"
          ],
          [
           "Saintes Maries de la mer",
           8.2,
           "Link: https://www.booking.com/hotel/fr/appartement-saintes-maries-de-la-mer-2-pieces-4-personnes-fr-1-475-84.html"
          ],
          [
           "Saintes Maries de la mer",
           9.1,
           "Link: https://www.booking.com/hotel/fr/appartement-de-l-39-olivier.html"
          ],
          [
           "Saintes Maries de la mer",
           9.6,
           "Link: https://www.booking.com/hotel/fr/appartement-cosy-le-boheme-a-300m-des-plages.html"
          ],
          [
           "Saintes Maries de la mer",
           10,
           "Link: https://www.booking.com/hotel/fr/maison-saintes-maries-de-la-mer-2-pieces-2-personnes-fr-1-475-113.html"
          ],
          [
           "Saintes Maries de la mer",
           9.5,
           "Link: https://www.booking.com/hotel/fr/la-roulotte-du-mas.html"
          ],
          [
           "Saintes Maries de la mer",
           9.1,
           "Link: https://www.booking.com/hotel/fr/lodge-sainte-helene.html"
          ],
          [
           "Saintes Maries de la mer",
           9,
           "Link: https://www.booking.com/hotel/fr/lou-marques.html"
          ],
          [
           "Saintes Maries de la mer",
           8.5,
           "Link: https://www.booking.com/hotel/fr/les-geckos.html"
          ],
          [
           "Saintes Maries de la mer",
           9.6,
           "Link: https://www.booking.com/hotel/fr/la-villa-vaihere-en-camargue-l-hibiscus.html"
          ],
          [
           "Saintes Maries de la mer",
           9.1,
           "Link: https://www.booking.com/hotel/fr/mas-mls.html"
          ],
          [
           "Saintes Maries de la mer",
           9.4,
           "Link: https://www.booking.com/hotel/fr/chambre-d-hotes-saintes-maries-de-la-mer.html"
          ],
          [
           "Saintes Maries de la mer",
           7.1,
           "Link: https://www.booking.com/hotel/fr/le-soleil-camarguais-2-151.html"
          ],
          [
           "Saintes Maries de la mer",
           8.6,
           "Link: https://www.booking.com/hotel/fr/domaine-du-soleil-couchant.html"
          ],
          [
           "Saintes Maries de la mer",
           5,
           "Link: https://www.booking.com/hotel/fr/apartment-un-studio-pour-4-personnes-residence-magali.html"
          ],
          [
           "Saintes Maries de la mer",
           9.8,
           "Link: https://www.booking.com/hotel/fr/appartement-andie-camargue.html"
          ],
          [
           "Saintes Maries de la mer",
           8.6,
           "Link: https://www.booking.com/hotel/fr/les-arnelles.html"
          ],
          [
           "Saintes Maries de la mer",
           9.4,
           "Link: https://www.booking.com/hotel/fr/appartement-en-bord-de-mer.html"
          ],
          [
           "Saintes Maries de la mer",
           6.3,
           "Link: https://www.booking.com/hotel/fr/apartment-un-studio-pour-4-personnes-le-vaccares-iii-1.html"
          ],
          [
           "Saintes Maries de la mer",
           7,
           "Link: https://www.booking.com/hotel/fr/apartment-un-studio-pour-2-personnes-7-rue-gilbert-leroy-1.html"
          ],
          [
           "Saintes Maries de la mer",
           8.2,
           "Link: https://www.booking.com/hotel/fr/l-39-estrambord-de-camargue.html"
          ],
          [
           "Saintes Maries de la mer",
           7.6,
           "Link: https://www.booking.com/hotel/fr/oh-campings-la-brise.html"
          ],
          [
           "Saintes Maries de la mer",
           9.4,
           "Link: https://www.booking.com/hotel/fr/chambre-d-39-hote-face-a-la-piscine-en-camargue-mas-lou-caloun-les-saintes-marie.html"
          ],
          [
           "Saintes Maries de la mer",
           9.3,
           "Link: https://www.booking.com/hotel/fr/gite-armieux.html"
          ],
          [
           "Saintes Maries de la mer",
           8,
           "Link: https://www.booking.com/hotel/fr/camargue-saintes-maries-de-la-mer1.html"
          ],
          [
           "Saintes Maries de la mer",
           8,
           "Link: https://www.booking.com/hotel/fr/maison-climatise-terrasse.html"
          ],
          [
           "Saintes Maries de la mer",
           8.7,
           "Link: https://www.booking.com/hotel/fr/le-mas-de-cocagne-les-saintes-maries-de-la-mer.html"
          ],
          [
           "Saintes Maries de la mer",
           8.3,
           "Link: https://www.booking.com/hotel/fr/cacharel.html"
          ],
          [
           "Saintes Maries de la mer",
           8.7,
           "Link: https://www.booking.com/hotel/fr/ha-tel-les-arcades.html"
          ],
          [
           "Saintes Maries de la mer",
           8,
           "Link: https://www.booking.com/hotel/fr/appartement-saintes-maries-de-la-mer-2-pieces-3-personnes-fr-1-475-116.html"
          ],
          [
           "Saintes Maries de la mer",
           9.4,
           "Link: https://www.booking.com/hotel/fr/cabane-le-flamant-en-camargue.html"
          ],
          [
           "Saintes Maries de la mer",
           6.3,
           "Link: https://www.booking.com/hotel/fr/apartment-un-studio-pour-4-personnes-residence-le-vaccares-iii-2.html"
          ],
          [
           "Saintes Maries de la mer",
           8.7,
           "Link: https://www.booking.com/hotel/fr/les-aigrettes-saintes-maries-de-la-mer.html"
          ],
          [
           "Saintes Maries de la mer",
           8.6,
           "Link: https://www.booking.com/hotel/fr/spacieux-appartement-front-de-mer.html"
          ],
          [
           "Saintes Maries de la mer",
           7,
           "Link: https://www.booking.com/hotel/fr/apartment-un-appartement-en-rdc-pour-4-personnes-residence-le-vaccares-iii-1.html"
          ],
          [
           "Saintes Maries de la mer",
           7,
           "Link: https://www.booking.com/hotel/fr/appartement-saintes-maries-de-la-mer-3-pieces-4-personnes-fr-1-475-85.html"
          ],
          [
           "Saintes Maries de la mer",
           7.8,
           "Link: https://www.booking.com/hotel/fr/thalacap-camargue.html"
          ],
          [
           "Saintes Maries de la mer",
           8.9,
           "Link: https://www.booking.com/hotel/fr/la-roulotte-les-saintes.html"
          ],
          [
           "Saintes Maries de la mer",
           8.6,
           "Link: https://www.booking.com/hotel/fr/mazet-du-marechal-ferrant.html"
          ],
          [
           "Saintes Maries de la mer",
           8,
           "Link: https://www.booking.com/hotel/fr/maison-saintes-maries-de-la-mer-5-pieces-9-personnes-fr-1-475-95.html"
          ],
          [
           "Saintes Maries de la mer",
           6.7,
           "Link: https://www.booking.com/hotel/fr/le-castelet-les-saintes-maries-de-la-mer.html"
          ],
          [
           "Saintes Maries de la mer",
           10,
           "Link: https://www.booking.com/hotel/fr/apartment-un-appartement-pour-2-personnes-7-rue-gilbert-leroy-2.html"
          ],
          [
           "Saintes Maries de la mer",
           8,
           "Link: https://www.booking.com/hotel/fr/apartment-un-appartement-en-rdc-pour-4-personnes-residence-les-imperiaux-v-4-rue.html"
          ],
          [
           "Saintes Maries de la mer",
           7.7,
           "Link: https://www.booking.com/hotel/fr/appartement-saintes-maries-de-la-mer-3-pieces-4-personnes-fr-1-475-90.html"
          ],
          [
           "Saintes Maries de la mer",
           8.9,
           "Link: https://www.booking.com/hotel/fr/mazet-de-la-grenouilla-re.html"
          ],
          [
           "Saintes Maries de la mer",
           7.3,
           "Link: https://www.booking.com/hotel/fr/apartment-un-appartement-residence-les-ibis-rue-jean-jaures-pour-4-personnes-1.html"
          ],
          [
           "Saintes Maries de la mer",
           8.4,
           "Link: https://www.booking.com/hotel/fr/appartement-aux-stes-maries-de-la-mer.html"
          ],
          [
           "Saintes Maries de la mer",
           8.8,
           "Link: https://www.booking.com/hotel/fr/superbe-duplex-aux-saintes-terrasse-plein-sud-3.html"
          ],
          [
           "Saintes Maries de la mer",
           8,
           "Link: https://www.booking.com/hotel/fr/la-jungle-de-sissy.html"
          ],
          [
           "Saintes Maries de la mer",
           7.5,
           "Link: https://www.booking.com/hotel/fr/maison-saintes-maries-de-la-mer-3-pieces-4-personnes-fr-1-475-94.html"
          ],
          [
           "Saintes Maries de la mer",
           8.5,
           "Link: https://www.booking.com/hotel/fr/studio-saintes-maries-de-la-mer-1-piece-3-personnes-fr-1-475-99.html"
          ],
          [
           "Saintes Maries de la mer",
           8.1,
           "Link: https://www.booking.com/hotel/fr/le-mas-des-sagnes-i.html"
          ],
          [
           "Saintes Maries de la mer",
           4.7,
           "Link: https://www.booking.com/hotel/fr/appartement-saintes-maries-de-la-mer-2-pieces-4-personnes-fr-1-475-82.html"
          ],
          [
           "Saintes Maries de la mer",
           8.8,
           "Link: https://www.booking.com/hotel/fr/l-39-appartement-de-l-39-eglise.html"
          ],
          [
           "Saintes Maries de la mer",
           8.7,
           "Link: https://www.booking.com/hotel/fr/abrivado.html"
          ],
          [
           "Saintes Maries de la mer",
           9.3,
           "Link: https://www.booking.com/hotel/fr/les-cypres-saintes-maries-de-la-mer.html"
          ],
          [
           "Saintes Maries de la mer",
           8.7,
           "Link: https://www.booking.com/hotel/fr/apartment-petite-maison-pour-6-personnes-residence-les-hameaux-de-camargue-1.html"
          ],
          [
           "Saintes Maries de la mer",
           7.1,
           "Link: https://www.booking.com/hotel/fr/cmr.html"
          ],
          [
           "Saintes Maries de la mer",
           5.3,
           "Link: https://www.booking.com/hotel/fr/holiday-home-mas-de-fielouse.html"
          ],
          [
           "Saintes Maries de la mer",
           8.7,
           "Link: https://www.booking.com/hotel/fr/mas-des-cypres-gite-5.html"
          ],
          [
           "Saintes Maries de la mer",
           8.1,
           "Link: https://www.booking.com/hotel/fr/el-rocio-3-saintes-maries-de-la-mer.html"
          ],
          [
           "Saintes Maries de la mer",
           8.8,
           "Link: https://www.booking.com/hotel/fr/el-rocio-2.html"
          ],
          [
           "Saintes Maries de la mer",
           8.5,
           "Link: https://www.booking.com/hotel/fr/appartement-3-pieces-4-personne-centre-village-3-pieces-4-personnes-147788.html"
          ],
          [
           "Saintes Maries de la mer",
           8.4,
           "Link: https://www.booking.com/hotel/fr/ha-tel-mas-de-la-grenouilla-re.html"
          ],
          [
           "Saintes Maries de la mer",
           9.2,
           "Link: https://www.booking.com/hotel/fr/l-39-etrier.html"
          ],
          [
           "Saintes Maries de la mer",
           8.6,
           "Link: https://www.booking.com/hotel/fr/appartement-3-saintes-maries-de-la-mer.html"
          ],
          [
           "Saintes Maries de la mer",
           9,
           "Link: https://www.booking.com/hotel/fr/l-39-hostellerie-du-pont-de-gau.html"
          ],
          [
           "Saintes Maries de la mer",
           8.3,
           "Link: https://www.booking.com/hotel/fr/la-sauvagine-saintes-maries-de-la-mer.html"
          ],
          [
           "Saintes Maries de la mer",
           8.5,
           "Link: https://www.booking.com/hotel/fr/cabanon-de-camille.html"
          ],
          [
           "Saintes Maries de la mer",
           7,
           "Link: https://www.booking.com/hotel/fr/appartement-saintes-maries-de-la-mer-3-pieces-6-personnes-fr-1-475-98.html"
          ],
          [
           "Saintes Maries de la mer",
           8.7,
           "Link: https://www.booking.com/hotel/fr/le-mas-des-tremaie.html"
          ],
          [
           "Saintes Maries de la mer",
           7,
           "Link: https://www.booking.com/hotel/fr/apartment-un-studio-pour-4-personnes-residence-le-trident-1.html"
          ],
          [
           "Saintes Maries de la mer",
           8,
           "Link: https://www.booking.com/hotel/fr/maison-saintes-maries-de-la-mer-5-pieces-8-personnes-fr-1-475-96.html"
          ],
          [
           "Saintes Maries de la mer",
           7.8,
           "Link: https://www.booking.com/hotel/fr/camille.html"
          ],
          [
           "Saintes Maries de la mer",
           8.4,
           "Link: https://www.booking.com/hotel/fr/mas-de-calabrun.html"
          ],
          [
           "Saintes Maries de la mer",
           7,
           "Link: https://www.booking.com/hotel/fr/apartment-un-appartement-pour-4-personnes-18-rue-louis-pasteur-l-olivier-1.html"
          ],
          [
           "Saintes Maries de la mer",
           7.7,
           "Link: https://www.booking.com/hotel/fr/refurbished-apartment-4-people-300m-from-the-sea.html"
          ],
          [
           "Saintes Maries de la mer",
           7,
           "Link: https://www.booking.com/hotel/fr/apartment-4-personnes-appartement-4-pers-vue-mer-rue-camille-pelletan.html"
          ],
          [
           "Saintes Maries de la mer",
           5,
           "Link: https://www.booking.com/hotel/fr/appartement-saintes-maries-de-la-mer-2-pieces-4-personnes-fr-1-475-79.html"
          ],
          [
           "Saintes Maries de la mer",
           8.7,
           "Link: https://www.booking.com/hotel/fr/appartement-de-standing-avec-terrasse-saintes-maries-de-la-mer.html"
          ],
          [
           "Saintes Maries de la mer",
           9.7,
           "Link: https://www.booking.com/hotel/fr/la-roulotte-de-mouchou.html"
          ],
          [
           "Collioure",
           8.8,
           "Link: https://www.booking.com/hotel/fr/collioure-centre-historique-appartement-de-charme.html"
          ],
          [
           "Collioure",
           9,
           "Link: https://www.booking.com/hotel/fr/appartement-dans-le-quartier-recherche-du-moure-collioure.html"
          ],
          [
           "Collioure",
           9.1,
           "Link: https://www.booking.com/hotel/fr/o-saphir-de-collioure-proche-plage-garage.html"
          ],
          [
           "Collioure",
           8.8,
           "Link: https://www.booking.com/hotel/fr/le-relais-des-trois-mas.html"
          ],
          [
           "Collioure",
           8.5,
           "Link: https://www.booking.com/hotel/fr/appartement-faubourg-t2-proche-plage-vue-degagee-5vse-lam4.html"
          ],
          [
           "Collioure",
           9,
           "Link: https://www.booking.com/hotel/fr/appartement-farniente.html"
          ],
          [
           "Collioure",
           8.6,
           "Link: https://www.booking.com/hotel/fr/maison-collioure-3-pieces-4-personnes-fr-1-309-464.html"
          ],
          [
           "Collioure",
           7.9,
           "Link: https://www.booking.com/hotel/fr/petite-maison-quartier-hist.html"
          ],
          [
           "Collioure",
           8.4,
           "Link: https://www.booking.com/hotel/fr/a-deux-pas-de-la-plage-collioure.html"
          ],
          [
           "Collioure",
           4,
           "Link: https://www.booking.com/hotel/fr/appartement-collioure-3-pieces-3-personnes-fr-1-309-284.html"
          ],
          [
           "Collioure",
           7.6,
           "Link: https://www.booking.com/hotel/fr/chambres-rue-de-la-republique.html"
          ],
          [
           "Collioure",
           8.8,
           "Link: https://www.booking.com/hotel/fr/appartement-residence-de-l-oli.html"
          ],
          [
           "Collioure",
           9.4,
           "Link: https://www.booking.com/hotel/fr/michelet-collioure.html"
          ],
          [
           "Collioure",
           8.8,
           "Link: https://www.booking.com/hotel/fr/saphir-collioure.html"
          ],
          [
           "Collioure",
           9.4,
           "Link: https://www.booking.com/hotel/fr/bel-appartement-4pers-rdc-parking-terrasse-jardin.html"
          ],
          [
           "Collioure",
           8.1,
           "Link: https://www.booking.com/hotel/fr/residence-du-soleil-collioure.html"
          ],
          [
           "Collioure",
           8.9,
           "Link: https://www.booking.com/hotel/fr/3-rue-marceau.html"
          ],
          [
           "Collioure",
           8.9,
           "Link: https://www.booking.com/hotel/fr/appartement-typique-avec-patio.html"
          ],
          [
           "Collioure",
           9.4,
           "Link: https://www.booking.com/hotel/fr/t3-neuf-garage-clim-wifi-plages-a-3min-a-pied.html"
          ],
          [
           "Collioure",
           9.5,
           "Link: https://www.booking.com/hotel/fr/t2-bord-de-mer-avec-garage.html"
          ],
          [
           "Collioure",
           7,
           "Link: https://www.booking.com/hotel/fr/appartement-type-t2-cabine-dans-residence-bord-de-mer-a-collioure.html"
          ],
          [
           "Collioure",
           3,
           "Link: https://www.booking.com/hotel/fr/apartment-appartement-type-studio-cabine-pour-4-personnes.html"
          ],
          [
           "Collioure",
           4,
           "Link: https://www.booking.com/hotel/fr/studio-equipe-pour-3-personnes-au-2eme-etage-parking-3vse-alz210.html"
          ],
          [
           "Collioure",
           9.1,
           "Link: https://www.booking.com/hotel/fr/collioure-collioure12.html"
          ],
          [
           "Collioure",
           8.3,
           "Link: https://www.booking.com/hotel/fr/la-fra-c-gate-collioure.html"
          ],
          [
           "Collioure",
           7,
           "Link: https://www.booking.com/hotel/fr/rue-de-la-democratie-4demo2.html"
          ],
          [
           "Collioure",
           5,
           "Link: https://www.booking.com/hotel/fr/rue-coma-cheric-6coma6.html"
          ],
          [
           "Collioure",
           8,
           "Link: https://www.booking.com/hotel/fr/appartement-hauts-de-collioure.html"
          ],
          [
           "Collioure",
           7,
           "Link: https://www.booking.com/hotel/fr/4rb71-appartement-f2-mezzanine-avec-vue-mer.html"
          ],
          [
           "Collioure",
           8.9,
           "Link: https://www.booking.com/hotel/fr/collioure-tres-bel-appart-a-150-metres-des-belles-plages-avec-jardin.html"
          ],
          [
           "Collioure",
           9,
           "Link: https://www.booking.com/hotel/fr/madeloc.html"
          ],
          [
           "Collioure",
           7.8,
           "Link: https://www.booking.com/hotel/fr/maeva-particuliers-residence-les-balcons-de-collioure.html"
          ],
          [
           "Collioure",
           7.7,
           "Link: https://www.booking.com/hotel/fr/appartement-residence-soleil-marin-4som23.html"
          ],
          [
           "Collioure",
           7.7,
           "Link: https://www.booking.com/hotel/fr/6qui10-1-appartement-de-standing-avec-garage-et-ascenseur-pour-6-personnes.html"
          ],
          [
           "Collioure",
           9.3,
           "Link: https://www.booking.com/hotel/fr/les-suites-de-collioure.html"
          ],
          [
           "Collioure",
           8.9,
           "Link: https://www.booking.com/hotel/fr/le-petit-colliourenc.html"
          ],
          [
           "Collioure",
           7.2,
           "Link: https://www.booking.com/hotel/fr/apartment-centre-de-collioure-avec-parking-appartement-type-t3-avec-terrasse.html"
          ],
          [
           "Collioure",
           7.6,
           "Link: https://www.booking.com/hotel/fr/maison-collioure-3-pieces-4-personnes-fr-1-309-368.html"
          ],
          [
           "Collioure",
           7.7,
           "Link: https://www.booking.com/hotel/fr/les-pieds-dans-l-39-eau-collioure.html"
          ],
          [
           "Collioure",
           8,
           "Link: https://www.booking.com/hotel/fr/appartement-pour-6-personnes-au-coeur-du-faubourg-6volt21.html"
          ],
          [
           "Collioure",
           8.8,
           "Link: https://www.booking.com/hotel/fr/holiday-home-faubourg-collioure.html"
          ],
          [
           "Collioure",
           6.3,
           "Link: https://www.booking.com/hotel/fr/appartement-collioure-4-pieces-8-personnes-fr-1-309-355.html"
          ],
          [
           "Collioure",
           8.8,
           "Link: https://www.booking.com/hotel/fr/2terimp204-t2-neuf-avec-terrasse-climatisation-et-parking-collioure.html"
          ],
          [
           "Collioure",
           7.8,
           "Link: https://www.booking.com/hotel/fr/apartment-studio-3-personnes-studio-avec-piscine-collective-parking-prive.html"
          ],
          [
           "Collioure",
           9.2,
           "Link: https://www.booking.com/hotel/fr/residence-collioure-plage-appart.html"
          ],
          [
           "Collioure",
           8.9,
           "Link: https://www.booking.com/hotel/fr/t3-4-pers-2-chambres-tout-confort-100-m-plage-parking-piscine-calme.html"
          ],
          [
           "Collioure",
           10,
           "Link: https://www.booking.com/hotel/fr/le-rooftop-collioure.html"
          ],
          [
           "Collioure",
           6.3,
           "Link: https://www.booking.com/hotel/fr/apartment-6-personnes-charmant-appartement-typique-de-type-4-au-coeur-de-colliou.html"
          ],
          [
           "Collioure",
           9.4,
           "Link: https://www.booking.com/hotel/fr/le-glacis.html"
          ],
          [
           "Collioure",
           5.5,
           "Link: https://www.booking.com/hotel/fr/intra-murros-2fan363.html"
          ],
          [
           "Collioure",
           3,
           "Link: https://www.booking.com/hotel/fr/appartement-collioure-3-pieces-6-personnes-fr-1-225-705.html"
          ],
          [
           "Collioure",
           7,
           "Link: https://www.booking.com/hotel/fr/4ver4-tres-bel-appartement-idealement-situe-avec-parking-prive.html"
          ],
          [
           "Collioure",
           9.5,
           "Link: https://www.booking.com/hotel/fr/boramar.html"
          ],
          [
           "Collioure",
           8.2,
           "Link: https://www.booking.com/hotel/fr/6qui10-3-appartement-style-loft-pour-6-personnes-sous-les-toits.html"
          ],
          [
           "Collioure",
           8.5,
           "Link: https://www.booking.com/hotel/fr/elsa-amp-david.html"
          ],
          [
           "Collioure",
           8,
           "Link: https://www.booking.com/hotel/fr/centre-de-collioure-appart-tout-confort-2-4-pers.html"
          ],
          [
           "Collioure",
           9.6,
           "Link: https://www.booking.com/hotel/fr/gorgeous-apartment-superbly-located-in-old-town.html"
          ],
          [
           "Collioure",
           4.7,
           "Link: https://www.booking.com/hotel/fr/appartement-2-pieces-50-m2-environ-jusqu-a-4-personnes.html"
          ],
          [
           "Collioure",
           7,
           "Link: https://www.booking.com/hotel/fr/roches-bleues-2rb525.html"
          ],
          [
           "Collioure",
           8.7,
           "Link: https://www.booking.com/hotel/fr/chenes-lieges.html"
          ],
          [
           "Collioure",
           5.7,
           "Link: https://www.booking.com/hotel/fr/appartement-collioure-2-pieces-3-personnes-fr-1-309-285.html"
          ],
          [
           "Collioure",
           9.3,
           "Link: https://www.booking.com/hotel/fr/studio-canta-la-mar-vue-exceptionnelle.html"
          ],
          [
           "Collioure",
           7.7,
           "Link: https://www.booking.com/hotel/fr/appartement-collioure-2-pieces-4-personnes-fr-1-309-418.html"
          ],
          [
           "Collioure",
           9,
           "Link: https://www.booking.com/hotel/fr/apartment-4-personnes-charmant-t2-duplex-avec-terrasse-dans-le-quartier-recherch.html"
          ],
          [
           "Collioure",
           9.7,
           "Link: https://www.booking.com/hotel/fr/la-casa-machado-2.html"
          ],
          [
           "Collioure",
           8.9,
           "Link: https://www.booking.com/hotel/fr/app-art-centre-plage-parking-gratuit.html"
          ],
          [
           "Collioure",
           7.3,
           "Link: https://www.booking.com/hotel/fr/triton.html"
          ],
          [
           "Collioure",
           9.1,
           "Link: https://www.booking.com/hotel/fr/lumieres-a-collioure.html"
          ],
          [
           "Collioure",
           8,
           "Link: https://www.booking.com/hotel/fr/val-st-elme-4cobla697.html"
          ],
          [
           "Collioure",
           8,
           "Link: https://www.booking.com/hotel/fr/appartement-la-verangela.html"
          ],
          [
           "Collioure",
           6.3,
           "Link: https://www.booking.com/hotel/fr/apartment-route-imperiale.html"
          ],
          [
           "Collioure",
           9.5,
           "Link: https://www.booking.com/hotel/fr/location-coma-cheric.html"
          ],
          [
           "Collioure",
           7.5,
           "Link: https://www.booking.com/hotel/fr/mas-de-la-croette-collioure.html"
          ],
          [
           "Collioure",
           8,
           "Link: https://www.booking.com/hotel/fr/2duf11-maisonnette-hauts-de-collioure-climatisee.html"
          ],
          [
           "Collioure",
           6.7,
           "Link: https://www.booking.com/hotel/fr/4coma2-appartement-plein-pied-pour-4-personnes-proche-plage.html"
          ],
          [
           "Collioure",
           9,
           "Link: https://www.booking.com/hotel/fr/appart-central-collioure.html"
          ],
          [
           "Collioure",
           9.6,
           "Link: https://www.booking.com/hotel/fr/3-pieces-avec-piscine-privative.html"
          ],
          [
           "Collioure",
           7.1,
           "Link: https://www.booking.com/hotel/fr/appartement-le-val-saint-elme-collioure.html"
          ],
          [
           "Collioure",
           7.5,
           "Link: https://www.booking.com/hotel/fr/holiday-home-faubourg.html"
          ],
          [
           "Collioure",
           8.5,
           "Link: https://www.booking.com/hotel/fr/appartement-a-2min-a-pied-du-centre-et-des-plages.html"
          ],
          [
           "Collioure",
           9.4,
           "Link: https://www.booking.com/hotel/fr/splendide-appartement-avec-vue-sur-mer-et-clocher.html"
          ],
          [
           "Collioure",
           9,
           "Link: https://www.booking.com/hotel/fr/collioure-centre-ville-calme-clim.html"
          ],
          [
           "Collioure",
           10,
           "Link: https://www.booking.com/hotel/fr/t3-de-grand-standing-65m2-les-hauts-de-collioure.html"
          ],
          [
           "Collioure",
           7.8,
           "Link: https://www.booking.com/hotel/fr/bel-appartement-sur-les-hauts-de-collioure.html"
          ],
          [
           "Collioure",
           7.8,
           "Link: https://www.booking.com/hotel/fr/roches-bleues-3.html"
          ],
          [
           "Collioure",
           9,
           "Link: https://www.booking.com/hotel/fr/appartement-collioure-centre-amp-garage-privatif.html"
          ],
          [
           "Collioure",
           9.1,
           "Link: https://www.booking.com/hotel/fr/escale-de-collioure-climatise-parking-prive-securise-vue-mer.html"
          ],
          [
           "Collioure",
           9.1,
           "Link: https://www.booking.com/hotel/fr/les-roches-brunes-collioure.html"
          ],
          [
           "Collioure",
           8.2,
           "Link: https://www.booking.com/hotel/fr/loft-entierement-renove.html"
          ],
          [
           "Collioure",
           8.9,
           "Link: https://www.booking.com/hotel/fr/appartement-de-charme-a-50m-de-la-plage-de-sable.html"
          ],
          [
           "Collioure",
           9.1,
           "Link: https://www.booking.com/hotel/fr/espace-et-confort-quartier-calme-ideal-tout-a-pieds.html"
          ],
          [
           "Collioure",
           9.8,
           "Link: https://www.booking.com/hotel/fr/les-batteries-1.html"
          ],
          [
           "Collioure",
           8.3,
           "Link: https://www.booking.com/hotel/fr/superbe-appartement-de-94m2-avec-place-de-parking.html"
          ],
          [
           "Collioure",
           7.9,
           "Link: https://www.booking.com/hotel/fr/23-rue-romain-rolland-appartement.html"
          ],
          [
           "Collioure",
           10,
           "Link: https://www.booking.com/hotel/fr/appartement-collioure-2-pieces-4-personnes-fr-1-309-420.html"
          ],
          [
           "Collioure",
           3.7,
           "Link: https://www.booking.com/hotel/fr/studio-collioure-1-piece-2-personnes-fr-1-309-384.html"
          ],
          [
           "Collioure",
           6.3,
           "Link: https://www.booking.com/hotel/fr/3pa45-tres-confortable-t2-avec-terrasses-dans-residence-avec-piscine-et-parking.html"
          ],
          [
           "Collioure",
           8.7,
           "Link: https://www.booking.com/hotel/fr/4mir11jaune-t2-en-mezzanine-idealement-situe-pour-4-personnes.html"
          ],
          [
           "Collioure",
           8.7,
           "Link: https://www.booking.com/hotel/fr/collioure-appartement-37-m2-tout-equipe.html"
          ],
          [
           "Collioure",
           8.3,
           "Link: https://www.booking.com/hotel/fr/roches-bleues-collioure1.html"
          ],
          [
           "Collioure",
           9.1,
           "Link: https://www.booking.com/hotel/fr/le-mouret.html"
          ],
          [
           "Collioure",
           8.8,
           "Link: https://www.booking.com/hotel/fr/3terimp204-confortable-t2-dans-residence-neuve-collioure.html"
          ],
          [
           "Collioure",
           8,
           "Link: https://www.booking.com/hotel/fr/5demo54-appartement-tres-proche-plage-et-toutes-commodites.html"
          ],
          [
           "Collioure",
           7,
           "Link: https://www.booking.com/hotel/fr/appartement-le-val-saint-elme-collioure2.html"
          ],
          [
           "Collioure",
           6,
           "Link: https://www.booking.com/hotel/fr/maison-collioure-3-pieces-5-personnes-fr-1-309-264.html"
          ],
          [
           "Collioure",
           8.2,
           "Link: https://www.booking.com/hotel/fr/duplex-quartier-pieton.html"
          ],
          [
           "Collioure",
           9.1,
           "Link: https://www.booking.com/hotel/fr/le-15-appartments-collioure.html"
          ],
          [
           "Collioure",
           8.4,
           "Link: https://www.booking.com/hotel/fr/el-mayul-2-centre-plage-wifi-au-calme-clim-parking.html"
          ],
          [
           "Collioure",
           7,
           "Link: https://www.booking.com/hotel/fr/3conv48-charmant-t2-avec-vue-imprenable-en-face-plage-collioure.html"
          ],
          [
           "Collioure",
           9.2,
           "Link: https://www.booking.com/hotel/fr/appartement-centre-collioure-patio-wifi-clim.html"
          ],
          [
           "Collioure",
           8,
           "Link: https://www.booking.com/hotel/fr/charmant-studio-residence-st-elme-pkg-wif-50m-plage.html"
          ],
          [
           "Collioure",
           8.8,
           "Link: https://www.booking.com/hotel/fr/appartement-les-roches-bleues-collioure.html"
          ],
          [
           "Collioure",
           8.5,
           "Link: https://www.booking.com/hotel/fr/studio-cosy-a-2-pas-de-la-plage-collioure.html"
          ],
          [
           "Collioure",
           8.6,
           "Link: https://www.booking.com/hotel/fr/joli-t2-vue-mer-au-calme.html"
          ],
          [
           "Collioure",
           8.8,
           "Link: https://www.booking.com/hotel/fr/appartement-type-t2-bord-de-mer-acces-plage-direct-4rb4.html"
          ],
          [
           "Collioure",
           8.2,
           "Link: https://www.booking.com/hotel/fr/appartement-le-val-saint-elme-collioure1.html"
          ],
          [
           "Collioure",
           8.4,
           "Link: https://www.booking.com/hotel/fr/ibanova.html"
          ],
          [
           "Collioure",
           8,
           "Link: https://www.booking.com/hotel/fr/vallee-douy-2valdo232.html"
          ],
          [
           "Collioure",
           8.3,
           "Link: https://www.booking.com/hotel/fr/le-bon-port.html"
          ],
          [
           "Collioure",
           8.5,
           "Link: https://www.booking.com/hotel/fr/appartement-collioure-3-pieces-5-personnes-fr-1-732-76.html"
          ],
          [
           "Collioure",
           9.2,
           "Link: https://www.booking.com/hotel/fr/appartement-spacieux-vue-sur-mer.html"
          ],
          [
           "Collioure",
           4.2,
           "Link: https://www.booking.com/hotel/fr/appartement-collioure-2-pieces-2-personnes-fr-1-309-407.html"
          ],
          [
           "Collioure",
           8.5,
           "Link: https://www.booking.com/hotel/fr/chambre-d-39-hotes-les-jasmins.html"
          ],
          [
           "Collioure",
           10,
           "Link: https://www.booking.com/hotel/fr/appt-unique-au-centre-historique-2-bedroom-w-patio.html"
          ],
          [
           "Collioure",
           7.8,
           "Link: https://www.booking.com/hotel/fr/collioure-entre-mer-piscine-et-montagne.html"
          ],
          [
           "Collioure",
           5.8,
           "Link: https://www.booking.com/hotel/fr/appartement-collioure-3-pieces-4-personnes-fr-1-309-349.html"
          ],
          [
           "Collioure",
           8.1,
           "Link: https://www.booking.com/hotel/fr/studio-collioure-collioure1.html"
          ],
          [
           "Collioure",
           8.1,
           "Link: https://www.booking.com/hotel/fr/6mir17-chaleureuse-maison-de-pecheurs-idealement-situee.html"
          ],
          [
           "Collioure",
           8.7,
           "Link: https://www.booking.com/hotel/fr/la-chambre-de-salome.html"
          ],
          [
           "Collioure",
           8.9,
           "Link: https://www.booking.com/hotel/fr/jetez-l-39-ancre-dans-notre-maison-de-pecheur.html"
          ],
          [
           "Collioure",
           3.5,
           "Link: https://www.booking.com/hotel/fr/5amb3-appartement-duplex-dans-une-residence-avec-piscine-et-parking.html"
          ],
          [
           "Collioure",
           9,
           "Link: https://www.booking.com/hotel/fr/3amb31-studio-pour-3-personnes-avec-magnifique-vue-sur-la-baie.html"
          ],
          [
           "Collioure",
           9.1,
           "Link: https://www.booking.com/hotel/fr/appartement-sous-le-soleil.html"
          ],
          [
           "Collioure",
           8.8,
           "Link: https://www.booking.com/hotel/fr/apartment-les-pieds-dans-l-39-eau.html"
          ],
          [
           "Collioure",
           9.3,
           "Link: https://www.booking.com/hotel/fr/collioure-modern-beachside-apartment-joey.html"
          ],
          [
           "Collioure",
           7,
           "Link: https://www.booking.com/hotel/fr/le-nid-de-gilles.html"
          ],
          [
           "Collioure",
           9,
           "Link: https://www.booking.com/hotel/fr/4terimp-a02-t3-neuf-avec-terrasse-climatisation-parking-collioure.html"
          ],
          [
           "Collioure",
           9.7,
           "Link: https://www.booking.com/hotel/fr/la-calade-villa-les-glycines.html"
          ],
          [
           "Collioure",
           9.5,
           "Link: https://www.booking.com/hotel/fr/collioure-fishermans-house-with-sea-views.html"
          ],
          [
           "Collioure",
           7.8,
           "Link: https://www.booking.com/hotel/fr/studio-collioure-1-piece-2-personnes-fr-1-309-372.html"
          ],
          [
           "Collioure",
           7.8,
           "Link: https://www.booking.com/hotel/fr/appartement-collioure-3-pieces-6-personnes-fr-1-309-265.html"
          ],
          [
           "Collioure",
           9.3,
           "Link: https://www.booking.com/hotel/fr/au-coeur-de-collioure-collioure.html"
          ],
          [
           "Collioure",
           9.2,
           "Link: https://www.booking.com/hotel/fr/rue-du-soleil-6sol16.html"
          ],
          [
           "Collioure",
           8.9,
           "Link: https://www.booking.com/hotel/fr/merveilleux-appartement-style-nature-proche-centre-ville.html"
          ],
          [
           "Collioure",
           8.3,
           "Link: https://www.booking.com/hotel/fr/ma-cabane-collioure.html"
          ],
          [
           "Collioure",
           9,
           "Link: https://www.booking.com/hotel/fr/appartement-3-pieces-75-m2-environ-jusqu-a-6-personnes.html"
          ],
          [
           "Collioure",
           8.1,
           "Link: https://www.booking.com/hotel/fr/pieds-dans-l-eau-a-collioure.html"
          ],
          [
           "Collioure",
           2,
           "Link: https://www.booking.com/hotel/fr/residence-val-saint-elme-4vse10.html"
          ],
          [
           "Collioure",
           8.5,
           "Link: https://www.booking.com/hotel/fr/le-conflent-wifi-terrace.html"
          ],
          [
           "Collioure",
           8,
           "Link: https://www.booking.com/hotel/fr/maison-collioure-3-pieces-6-personnes-fr-1-309-454.html"
          ],
          [
           "Collioure",
           8,
           "Link: https://www.booking.com/hotel/fr/val-st-elme-2cobla567.html"
          ],
          [
           "Collioure",
           8.8,
           "Link: https://www.booking.com/hotel/fr/appartement-vue-mer-les-pieds-dans-l-eau.html"
          ],
          [
           "Collioure",
           7.2,
           "Link: https://www.booking.com/hotel/fr/appartement-collioure-2-pieces-4-personnes-fr-1-309-269.html"
          ],
          [
           "Collioure",
           7.7,
           "Link: https://www.booking.com/hotel/fr/cosy-house-collioure.html"
          ],
          [
           "Collioure",
           7.8,
           "Link: https://www.booking.com/hotel/fr/appartement-fonctionnel-a-collioure.html"
          ],
          [
           "Collioure",
           8.9,
           "Link: https://www.booking.com/hotel/fr/collioure-1-et-etage.html"
          ],
          [
           "Collioure",
           8,
           "Link: https://www.booking.com/hotel/fr/5rbut1-maison-familiale-sur-deux-niveaux-en-plein-coeur-du-centre-ville.html"
          ],
          [
           "Collioure",
           8.5,
           "Link: https://www.booking.com/hotel/fr/le-miradou-appart-neuf-3.html"
          ],
          [
           "Collioure",
           8.3,
           "Link: https://www.booking.com/hotel/fr/appartement-collioure-2-pieces-4-personnes-fr-1-309-385.html"
          ],
          [
           "Collioure",
           7,
           "Link: https://www.booking.com/hotel/fr/4mir11bleu-appartement-pour-4-personnes-tout-confort-bien-situe.html"
          ],
          [
           "Collioure",
           6.7,
           "Link: https://www.booking.com/hotel/fr/villa-ambeille.html"
          ],
          [
           "Collioure",
           9.1,
           "Link: https://www.booking.com/hotel/fr/studio-centre-plage-collioure.html"
          ],
          [
           "Collioure",
           7.8,
           "Link: https://www.booking.com/hotel/fr/rue-de-la-tour-d-39-auvergne-2toau8.html"
          ],
          [
           "Collioure",
           6,
           "Link: https://www.booking.com/hotel/fr/appartement-saphir-collioure.html"
          ],
          [
           "Collioure",
           9.4,
           "Link: https://www.booking.com/hotel/fr/la-casa-machado-1.html"
          ],
          [
           "Collioure",
           9.1,
           "Link: https://www.booking.com/hotel/fr/villa-6-personnes-dans-residence-6chk4.html"
          ],
          [
           "Collioure",
           8.5,
           "Link: https://www.booking.com/hotel/fr/studio-vue-mer-garage.html"
          ],
          [
           "Collioure",
           9.1,
           "Link: https://www.booking.com/hotel/fr/les-appartements-de-collioure.html"
          ],
          [
           "Collioure",
           8.8,
           "Link: https://www.booking.com/hotel/fr/appartement-vue-mer-a-1-min-a-pied-des-plages-avec-parking-prive.html"
          ],
          [
           "Collioure",
           8.8,
           "Link: https://www.booking.com/hotel/fr/4-rue-nungesser-et-coli.html"
          ],
          [
           "Collioure",
           9.2,
           "Link: https://www.booking.com/hotel/fr/chambre-privee-collioure-centre.html"
          ],
          [
           "Collioure",
           9,
           "Link: https://www.booking.com/hotel/fr/ambeille-collioure-collioure.html"
          ],
          [
           "Collioure",
           9.5,
           "Link: https://www.booking.com/hotel/fr/casa-collioura.html"
          ],
          [
           "Collioure",
           10,
           "Link: https://www.booking.com/hotel/fr/logement-plein-pied-confort.html"
          ],
          [
           "Collioure",
           10,
           "Link: https://www.booking.com/hotel/fr/la-terrasse-bleue-collioure.html"
          ],
          [
           "Collioure",
           6.8,
           "Link: https://www.booking.com/hotel/fr/3fan4-charmant-appartement-vue-sur-la-mer-et-clocher-de-collioure.html"
          ],
          [
           "Collioure",
           7.6,
           "Link: https://www.booking.com/hotel/fr/les-lauriers-roses-collioure.html"
          ],
          [
           "Collioure",
           7.5,
           "Link: https://www.booking.com/hotel/fr/appartement-collioure-2-pieces-4-personnes-fr-1-309-442.html"
          ],
          [
           "Collioure",
           7.3,
           "Link: https://www.booking.com/hotel/fr/appartement-collioure-3-pieces-4-personnes-fr-1-309-261.html"
          ],
          [
           "Collioure",
           9.4,
           "Link: https://www.booking.com/hotel/fr/appartement-collioure-3-pieces-6-personnes-fr-1-309-376.html"
          ],
          [
           "Collioure",
           9.8,
           "Link: https://www.booking.com/hotel/fr/residence-des-batteries-6bat3.html"
          ],
          [
           "Collioure",
           8.8,
           "Link: https://www.booking.com/hotel/fr/apartment-route-imperiale-collioure.html"
          ],
          [
           "Collioure",
           8.2,
           "Link: https://www.booking.com/hotel/fr/residence-saint-vincent.html"
          ],
          [
           "Collioure",
           7.5,
           "Link: https://www.booking.com/hotel/fr/comme-sur-un-bateau-collioure1.html"
          ],
          [
           "Collioure",
           9,
           "Link: https://www.booking.com/hotel/fr/collioure-fishermans-house-apartment-with-garden.html"
          ],
          [
           "Collioure",
           7.6,
           "Link: https://www.booking.com/hotel/fr/le-charme-de-collioure.html"
          ],
          [
           "Collioure",
           7,
           "Link: https://www.booking.com/hotel/fr/studio-collioure-1-piece-3-personnes-fr-1-309-463.html"
          ],
          [
           "Collioure",
           3,
           "Link: https://www.booking.com/hotel/fr/les-vermeyades-collioure.html"
          ],
          [
           "Collioure",
           9.1,
           "Link: https://www.booking.com/hotel/fr/saphir-collioure1.html"
          ],
          [
           "Collioure",
           8.1,
           "Link: https://www.booking.com/hotel/fr/ha-tel-des-templiers.html"
          ],
          [
           "Collioure",
           9,
           "Link: https://www.booking.com/hotel/fr/le-machado.html"
          ],
          [
           "Collioure",
           8.1,
           "Link: https://www.booking.com/hotel/fr/appartement-collioure-le-haut-collioure.html"
          ],
          [
           "Collioure",
           8.5,
           "Link: https://www.booking.com/hotel/fr/maisonnette-a-deux-pas-de-la-plage.html"
          ],
          [
           "Collioure",
           9.1,
           "Link: https://www.booking.com/hotel/fr/residence-port-d-39-avall.html"
          ],
          [
           "Collioure",
           8.7,
           "Link: https://www.booking.com/hotel/fr/le-clos-des-orangers.html"
          ],
          [
           "Collioure",
           9.6,
           "Link: https://www.booking.com/hotel/fr/fenetre-sur-collioure.html"
          ],
          [
           "Collioure",
           8.9,
           "Link: https://www.booking.com/hotel/fr/les-mimosas-collioure.html"
          ],
          [
           "Collioure",
           8.8,
           "Link: https://www.booking.com/hotel/fr/appartement-les-batteries-face-a-la-mer.html"
          ],
          [
           "Collioure",
           8.5,
           "Link: https://www.booking.com/hotel/fr/appartement-t2-et-terrasse-30m2.html"
          ],
          [
           "Collioure",
           9.6,
           "Link: https://www.booking.com/hotel/fr/l-39-equinoxe.html"
          ],
          [
           "Collioure",
           7.2,
           "Link: https://www.booking.com/hotel/fr/studio-route-imperiale.html"
          ],
          [
           "Collioure",
           9.2,
           "Link: https://www.booking.com/hotel/fr/collioure-vue-imprenable-t3-garage-prive.html"
          ],
          [
           "Collioure",
           8,
           "Link: https://www.booking.com/hotel/fr/superbe-maison-familiale-6-personnes-6ega14.html"
          ],
          [
           "Collioure",
           8.4,
           "Link: https://www.booking.com/hotel/fr/lesmasdescitronniers.html"
          ],
          [
           "Collioure",
           8.1,
           "Link: https://www.booking.com/hotel/fr/magnifique-appartement-proche-centre-collioure.html"
          ],
          [
           "Collioure",
           3,
           "Link: https://www.booking.com/hotel/fr/appartement-1-chambre-avec-vue-mer-4rb67.html"
          ],
          [
           "Collioure",
           8.8,
           "Link: https://www.booking.com/hotel/fr/residence-val-st-elme-collioure1.html"
          ],
          [
           "Collioure",
           8.3,
           "Link: https://www.booking.com/hotel/fr/les-imperiales.html"
          ],
          [
           "Collioure",
           8.5,
           "Link: https://www.booking.com/hotel/fr/appartement-collioure-3-pieces-4-personnes-fr-1-309-246.html"
          ],
          [
           "Collioure",
           7.9,
           "Link: https://www.booking.com/hotel/fr/la-roussette-collioure.html"
          ],
          [
           "Collioure",
           9,
           "Link: https://www.booking.com/hotel/fr/hotelcasapairal.html"
          ],
          [
           "Collioure",
           9.2,
           "Link: https://www.booking.com/hotel/fr/boutique-maison-nova.html"
          ],
          [
           "Collioure",
           8.2,
           "Link: https://www.booking.com/hotel/fr/t3-piscine-clim-wifi-garage.html"
          ],
          [
           "Collioure",
           8.5,
           "Link: https://www.booking.com/hotel/fr/la-bona-casa.html"
          ],
          [
           "Collioure",
           8.1,
           "Link: https://www.booking.com/hotel/fr/charmant-appartement-residence-calme-wifi.html"
          ],
          [
           "Collioure",
           8.1,
           "Link: https://www.booking.com/hotel/fr/princes-de-catalogne.html"
          ],
          [
           "Collioure",
           7.2,
           "Link: https://www.booking.com/hotel/fr/appartement-pla-de-las-fourques.html"
          ],
          [
           "Collioure",
           9,
           "Link: https://www.booking.com/hotel/fr/reve-de-mer-a-collioure.html"
          ],
          [
           "Collioure",
           8.7,
           "Link: https://www.booking.com/hotel/fr/aux-vents-du-sud.html"
          ],
          [
           "Collioure",
           6.3,
           "Link: https://www.booking.com/hotel/fr/appartement-collioure-3-pieces-4-personnes-fr-1-309-443.html"
          ],
          [
           "Collioure",
           8.9,
           "Link: https://www.booking.com/hotel/fr/bel-appartement-a-800-m-de-la-mer-parking-prive.html"
          ],
          [
           "Collioure",
           8,
           "Link: https://www.booking.com/hotel/fr/joli-t2-a-10min-a-pied-du-village-parking-vue-degagee-residence-au-calme.html"
          ],
          [
           "Collioure",
           8.7,
           "Link: https://www.booking.com/hotel/fr/saphir-de-collioure.html"
          ],
          [
           "Collioure",
           10,
           "Link: https://www.booking.com/hotel/fr/appartement-collioure-3-pieces-6-personnes-fr-1-309-431.html"
          ],
          [
           "Collioure",
           6,
           "Link: https://www.booking.com/hotel/fr/idealement-situe-centre-historique-exceptionnel.html"
          ],
          [
           "Collioure",
           9.3,
           "Link: https://www.booking.com/hotel/fr/appartement-f2-residence-avec-piscine-parking-et-cours-de-tennis-4pa109.html"
          ],
          [
           "Collioure",
           8,
           "Link: https://www.booking.com/hotel/fr/apartment-appartement-au-coeur-du-centre-ville-collioure-erreur-to-rebuild.html"
          ],
          [
           "Collioure",
           10,
           "Link: https://www.booking.com/hotel/fr/4batt44-appartement-proche-mer.html"
          ],
          [
           "Collioure",
           8,
           "Link: https://www.booking.com/hotel/fr/maevabalconsdecollioure.html"
          ],
          [
           "Collioure",
           10,
           "Link: https://www.booking.com/hotel/fr/sur-les-hauteurs-de-collioure.html"
          ],
          [
           "Collioure",
           8,
           "Link: https://www.booking.com/hotel/fr/6conv20-charmante-maison-de-village-au-coeur-du-faubourg.html"
          ],
          [
           "Collioure",
           7,
           "Link: https://www.booking.com/hotel/fr/apartment-saphir.html"
          ],
          [
           "Collioure",
           7.7,
           "Link: https://www.booking.com/hotel/fr/4pa72-magnifique-appartement-pour-4-dans-residence-avec-piscine-et-parking.html"
          ],
          [
           "Collioure",
           9.3,
           "Link: https://www.booking.com/hotel/fr/au-coeur-de-collioure.html"
          ]
         ],
         "hovertemplate": "<b>%{hovertext}</b><br><br>Hotel Rating=%{marker.color}<br>latitude=%{lat}<br>longitude=%{lon}<br>city=%{customdata[0]}<br>url_text=%{customdata[2]}<extra></extra>",
         "hovertext": [
          "LE PETIT PECHEUR DE CASSIS",
          "Lou Parpaiou by K6Conciergerie",
          "FACE A LA MER",
          "CASSIS CENTRE Magnifique Appartement à 2 mn de la plage et du Port",
          "Le grand clocher de Cassis",
          "Mistral gagnant - parking privé",
          "Le Vallat vue mer cassis terrasse privative spa jacuzzi barbecue calanques",
          "Le Nadadou par Dodo à Cassis",
          "appartement du pêcheur à Cassis à 10 mètres du port",
          "Eden Cassis - Centre Ville 2 chambres - Wifi - Cosy",
          "Best Western Plus Hôtel la Rade",
          "LA PLAGE - Hyper centre - vue port & mer - Climatisation",
          "Lou K-sea den",
          "Cassis - Le Capucine",
          "T3 vue mer exceptionnelle",
          "MARIUS - Hyper centre - 2 chambres - Wifi",
          "La Maison de Rose",
          "CARANCO by K6 Conciergerie",
          "Chez Mamouska",
          "Le Best à Cassis",
          "appartement cosy à 10 mètres du port de Cassis",
          "le Camelia",
          "L'ECHO DES FLOTS vue mer",
          "La Viguerie par Dodo-a-Cassis",
          "Rêves de vie Studio Morgiou avec terrasse et parking privé",
          "STUDIO LA PINTA CASSIS",
          "HôTEL LES VOLETS ROUGES - CASSIS",
          "Cassis Presqu'Ile Calanques 2 pièces neuf",
          "Cassis Calanques",
          "L'AUTHENTIQUE - Sur le Port - Parking - Wifi",
          "Panoramic vue cassis",
          "The Originals Boutique",
          "Villavos- Le Bocage",
          "Calanque",
          "Leï Tapenié par Dodo-a-Cassis",
          "AU BORD DE L'EAU Studio climatisé avec Terrasse et vue mer à 40m de la plage",
          "charmant studio",
          "HOTEL DES CALANQUES",
          "CALADO by K6 Conciergerie",
          "BOUTIQUE HOSTEL BY Cassis",
          "VISTABELLA by K6 Conciergerie",
          "Click! OMG Views! 2-4-6-8pers The Secret Provence Gem Jusqu'à-20 Vos Vacances de la Toussaint Profitez des dernières disponibilités",
          "Studio port pin vue mer",
          "Cassis et ses trésors",
          "Home Cassis - Maison Mediterranée - Piscine chauffée",
          "Le Mountadou 2 par Dodo à Cassis",
          "Chambre double cassis",
          "Azur Cassis",
          "\"Côté Gibaou\" Centre-ville Garage Piscine Terrasse",
          "Le Bel Ecrin par Dodo-a-Cassis",
          "L’Aiguade",
          "Indigo",
          "AQUARIUS IN CASSIS",
          "Le CapCanaille par Dodo-a-Cassis",
          "Appartement le Mehari",
          "B&B Le Clos des Cigales",
          "Le Panoramic par Dodo-a-Cassis",
          "Studio cocooning à 50 m du port",
          "MISTRAL Gagnant",
          "Appartement Centre ville Cassis",
          "Le mimosa",
          "Le Petit Canaille",
          "Le Super Bestouan par Dodo à Cassis",
          "SEA HOME vue mer",
          "LA FAVORITE - Centre de Cassis - Climatisation",
          "LA RADE - Centre Ville - Balcon - Clim - Neuf",
          "Le Fonvert à Cassis",
          "Giovannina N5",
          "Entre Ciel et Mer Appartement Cassis",
          "BY Cassis chambre privée dans maison familiale",
          "SunRise Cassis",
          "Le Pin Parasol à Cassis - Studio 3 personnes by K6",
          "CASSIS RDC Climatisé - Parking gratuit",
          "La Maryse de Cassis",
          "Rêves de vie Studio avec terrasse le Figuerolles",
          "LA MAISON SUR LE PORT 4 pers vue mer",
          "Les Voiles Blanches par Dodo-a-Cassis",
          "Charmant studio au cœur de Cassis",
          "HORIZON BLEU Vue Mer",
          "Studio Calme aux terrasses de Cassis",
          "Appartement Cassis vue mer d'exception",
          "Le Clocher de Cassis",
          "Le Cézanne",
          "LE CLOS DES ARÔMES",
          "BLEU CASSIS-VINTAGE -3 Ch- Magnifique vue mer- Parking gratuit et Jardin",
          "Osmoz Port-Pin par Dodo à Cassis",
          "CHEZ FIFI - studio 28m2 - hyper centre - wifi",
          "Super Cassis Paradis 8p piscine vue mer",
          "Plein centre avec \"PARKING PRIVE\" Voitures électriques bienvenues",
          "Cassis et ses merveilleuses Calanques",
          "LA MAISON DE DOMS avec JACUZZI et vue mer",
          "Cassis Ma Vie Là",
          "L'atelier du bonheur",
          "Le Monticule par Dodo-a-Cassis",
          "COCOON IN CASSIS",
          "Au cœur de Cassis",
          "Le Grand Large par Dodo à Cassis",
          "Rêves de vie",
          "La dépendance du Clos de la tour Cassis",
          "L'aiglon",
          "Villa le sud appartements",
          "Les Trois Oliviers à Cassis",
          "EVA - Charmant - Centre Cassis - Wifi",
          "Villa Floriane",
          "Astoria Villa maison d hôtes Appartement vue mer avec piscine",
          "STUDIO CASSIS",
          "La petite bohême K6conciergerie",
          "Le Palmyre",
          "Les pieds dans l'eau par Dodo-a-Cassis",
          "l’Horizon",
          "TERRE MARINE - Bel appartement avec terrasse vue mer",
          "Le Bosquet 1 par Dodo-a-Cassis",
          "L'ATELIER - Piscine - Dans les vignes - Cassis",
          "Click! Casa Lamartine Fabulous Ideal Location",
          "Le Club par Dodo-a-Cassis",
          "Les Barques",
          "Villa W",
          "HPC Suites - Parking Gratuit & Piscine Chauffée",
          "Best Western Hotel & SPA Coeur De Cassis",
          "La Perle de Cassis - Terrace with sea view",
          "Puerto Cabana - Grand Studio avec Parking et Terrasse vue Port",
          "Le petit cassis",
          "CALANQUE DE PORT MIOU",
          "appartement avec jardin vue sur mer 2 étoiles",
          "*Blue Éden* Au cœur du village",
          "La Romarine",
          "Face au Cap 1",
          "Chez Jacques par Dodo-a-Cassis",
          "Au son des Cigales",
          "Giovannina-N4",
          "La Cassy - Sleep in Cassis",
          "Le Panoramic 2 par Dodo-a-Cassis",
          "Les Jardins de Cassis",
          "Giovannina N3",
          "Le Rooftop par Dodo-a-Cassis",
          "Cassis centre",
          "L'Original par Dodo-a-Cassis",
          "Chambre hôte chez l'habitant Residence sous les pins",
          "GALETS BLEUS by K6 Conciergerie Prestige",
          "Coste Location Cassis",
          "Cassis centre",
          "Hotel de La Plage - Mahogany",
          "Zina",
          "LE DAUPHIN by K6 Conciergerie Prestige",
          "CASSIS 4PERS VUE MER WIFI TENNIS PARKING PISCINE",
          "Le Levantés par Dodo-a-Cassis",
          "La Cigale - Centre Ville - Wifi",
          "Au Coeur de Cassis",
          "Just in Cap Canaille",
          "Magnifique appartement Cassis",
          "cassis studio 50m de la grande plage",
          "CALANQUE D'EN VAU",
          "Superbestouan 6 personnes clim",
          "LE POSEIDON VUE MER",
          "Vue de rêve",
          "CALANQUE DE MORGIOU",
          "SunSet Cassis",
          "La forlane",
          "Royal Cottage",
          "Le petit cassis vue mer appartement 70m2 piscine",
          "Magnifique Pied à terre Cassis 5min coeur village",
          "Le Phare par Dodo-a-Cassis",
          "Droit au port par Dodo-a-Cassis",
          "CAP6 Bel appartement vue magnifique mer",
          "Le Kallisté par Dodo à Cassis",
          "Un écrin à Cassis",
          "LA MOUNINE - Hyper centre - 37m2 - 4 pers",
          "Cassis centre",
          "UNE TERRASSE SUR LA MER 3 pers 2 chambres VUE MER",
          "Hôtel Les Roches Blanches Cassis",
          "La Rade vue mer parking K6&you",
          "La Piscine K6&You",
          "Immersione - Clim - Terrasse Jardin - Centre ville",
          "Le repaire de la Vierge bohème vue mer",
          "Brises Marines par Dodo-à-Cassis",
          "LE GRAND PECHEUR DE CASSIS",
          "CALANQUE DE PORT PIN",
          "La suite du clos de la tour Cassis",
          "Villa Cassis",
          "L'ODYSSÉE BLEUE VUE MER",
          "Leï Tapenié 2 par Dodo-a-Cassis",
          "Hotel Le Golfe",
          "Cassis centre 100 m du port place parking",
          "Au calme",
          "Le Clocher par Dodo-a-Cassis",
          "Le Grand Large 2 par Dodo-a-Cassis",
          "Jardin Privé ds le Centre de Cassis - Parking - Plage à 500m",
          "Studio rénové avec vue magique",
          "Hotel Liautaud",
          "\"Côté Soubeyran\" Centre-ville",
          "Le Val d'Ore par Dodo-a-Cassis",
          "Pleine vue",
          "Appartements avec jardin dans Villa Rocaille",
          "Appart Port Cassis Village Parking",
          "Appartement Ganteaume - Welkeys",
          "LE PECHEUR DE CASSIS",
          "L'atypique par Dodo-a-Cassis",
          "Vu Mer by K6&You",
          "80m2 à 200m de la calanque de Port Miou - 2 chambres et parking",
          "L'Anglet par Dodo-a-Cassis",
          "Grand Studio - Proche Gare",
          "Appartement Cassis Plage",
          "STUDIO Petite canaille",
          "Le Duplex tropézienne par Dodo-a-Cassis",
          "Exceptionnel",
          "LOU PETANCA by K6 Conciergerie",
          "Home Cassis - Maison Les Calanques - Piscine chauffée",
          "Giovannina N2",
          "Cassis",
          "Villa Bobnell",
          "Le Galet de Cassis by K6&you",
          "Guest House Olivades",
          "Le Bosquet 2 par Dodo-a-Cassis",
          "Super Bestouan",
          "L'arbousier",
          "Cassis grande terrasse emplacement au top à 1 minute de la plage à pieds",
          "La Rade",
          "Le Canaio Upper Club par Dodo-a-Cassis",
          "Cassis",
          "Le Cassidain - Port et plage - Luxious appartement",
          "Mon petit Paradis",
          "Mas du Perthus",
          "Le Petit Paradis",
          "Le Cap",
          "Rêves de vie",
          "CALYPSO",
          "Magnifique Studio Cassis",
          "Appartement Villa Cassis",
          "Cassiopée",
          "Cassis Lodges",
          "Rose d'Eden par Dodo-a-Cassis",
          "Le Corton - 45m2 - Parking - Jardin - Wifi",
          "Petit Patio - 2 chambres - Centre ville - Climatisation",
          "Suites 23",
          "Le Verdesco par Dodo-a-Cassis",
          "Chant des cigales",
          "BALCON SUR MER vue mer",
          "Le Saint Clair par Dodo-a-Cassis",
          "Le Canaillou par Dodo-a-Cassis",
          "Le POP FLAT by Winkyhouse Cassis",
          "La petite cigale by K6conciergerie",
          "Face à la mer",
          "Le Solemar",
          "Seaview.Cassis",
          "Serenes par Dodo à Cassis",
          "Le Marignan par Dodo à Cassis",
          "Le Perchoir de Cassis Cocoon",
          "Le Pagnol - Hyper centre - Clim",
          "Les Terrasses de Cassis",
          "Entre terre et mer à cassis",
          "STUDIO Canaille",
          "LE SEPT charmant studio aux portes des calanques",
          "Le Grand Canaille",
          "FANNY - Hyper centre - Wifi - 4 personnes",
          "Home Cassis - Maison Julou - Piscine chauffée",
          "Le Zòu par Dodo-a-Cassis",
          "La Cigale du Port",
          "Au coeur de CASSIS",
          "LOCAPPART CASSIS en Provence",
          "studio Cassis Rastit",
          "Magnifique Appartement à Cassis",
          "Le 13",
          "Lou Jas",
          "Appart Bianca T2 - Terrasse - Parking - Calme - 1mn de la mer",
          "Le petit clocher de Cassis",
          "LA FALAISE PARADIS Vue mer 180°",
          "LE REVE BLEU",
          "LE SON DES VAGUES VUE MER",
          "LA CIGALE by K6 Conciergerie Prestige",
          "Vue Mer Dans Belle Résidence",
          "Giovannina-N1",
          "Cassis Appartement bord de mer",
          "T2 à Cassis vue mer de rêve",
          "L'Excursion - Charmant T2 Rénové proche de la mer",
          "Appartement bord de plage",
          "LOU CIGALOU",
          "Appartement avec jardin et parking",
          "So'Conciergerie -Studio situé dans le centre ville",
          "LE COSY Appartement à CASSIS avec vue exceptionnelle sur mer",
          "Appartement centre du village",
          "Appartement le Quai du Port Cassis parking clim",
          "AZUR - Vue mer - Parking - Climatisation",
          "SUNRISE LOVER by K6Conciergerie",
          "LE PROVENCAL - Hyper centre - Clim - Terrasse",
          "Studio 29 Cassis",
          "Vigie - Clim - 4 pers",
          "CASSIS VILLAGE Options Parking and Baby",
          "Le Nani Raou par Dodo à Cassis",
          "LE SEA SIDE - Ultra centre - Terrasse vue Mer - 4 personnes",
          "THE ADDRESS CASSIS",
          "Azur Appart 4 pers - Parking - Terrasse - 10min du centre",
          "Le Bosquet 3 par Dodo-a-Cassis",
          "Large private garden",
          "Puerta Del Sol",
          "LE RAVISSANT - 50m du Port - très calme",
          "Lou Bèu par Dodo-a-Cassis",
          "Le Pitchou par Dodo à Cassis",
          "Le Couvent du Vieux Port",
          "T2 ** VIEUX PORT ** LUMINEUX",
          "InterContinental Marseille - Hotel Dieu",
          "L'Octopus - Petit patio estival",
          "Vieux-port",
          "Appartement Gare et Vieux port",
          "Hostel Vertigo Vieux-Port",
          "® Le Breteuil - Superbe T2 - Plein centre",
          "Montempô Marseille Centre Dôme",
          "Le Balcon du Vieux-Port-Amazing Sea View",
          "République / La Joliette",
          "Superbe appartement tout équipé avec parking.",
          "Grand Hôtel Beauvau Marseille Vieux Port - MGallery",
          "LaFrenchCasa Canebière",
          "Les Bords De Mer",
          "JULIEN - Gare St Charles - Cours Julien",
          "Studio Toit terrasse Vieux Port",
          "APPARTEMENT HAUSSMANNIEN TYPE LOFT",
          "Les Appartements du Vieux Port",
          "Le Paul - Appart de standing avec 2 ch et clim",
          "La Piboule - Au Coeur du Panier T2 -39m2",
          "La Maison Vague",
          "Superbe T2 avec box garage proche Vélodrome et Prado",
          "Suite privée du balcon du vieux port Marseille",
          "Les Cabanons de Fonfon",
          "19",
          "Studio Travel 24M2",
          "nhow Marseille",
          "Appartement Architecte Catalans- Bord de mer",
          "Petit nid douillet vieux port 4 personnes",
          "Aparthotel Adagio Access Marseille Prado Périer",
          "Ô51",
          "Magnifique duplex de 2 chambres quartier Opéra Marseille",
          "Rivages Saint Ferréol",
          "Beautiful flat in Vieux port",
          "Jungle Republic",
          "The Babel Community Hôtel - Vieux Port",
          "Appartement Vieux-Port de Marseille - Opéra",
          "Marseille City Chambres&Appartements",
          "Studio Calanques près du Vieux Port",
          "La Loge Vieux-Port",
          "\" Le Barthélémy \" Appartements neufs climatisés tout équipés au coeur de Marseille",
          "Les Floralies Canebière",
          "Panier - Vieux Port",
          "La Palmeraie - Splendide coeur du Centre-Ville",
          "STUDIO VIEUX-PORT VUE BASILIQUE NOTRE-DAME",
          "Sublime Pépite Vieux Port 2p Vue Imprenable",
          "B&B HOTEL Marseille La Valentine Porte d'Aubagne",
          "Toyoko INN Marseille Saint Charles",
          "Boutique Hôtel Azur",
          "Mercure Marseille Canebière Vieux-Port",
          "Cozy flat fully renovated by interior designer",
          "plein coeur du quartier du Panier . Chaleureux T2.",
          "Le Pescadou by Cocoönr - Terrasse vue mer",
          "Chez l'habitant",
          "La jolie escale du Panier Mucem Vieux Port",
          "Magnifique 2 pièces au coeur du Panier",
          "Élegant Appartement - Hyper Centre & Climatisation - Les Frères de la Loc'",
          "Le Borély: Appartement climatisé avec 2 chambres",
          "Studio Bleu 29M2",
          "Le Lacydon",
          "LOFT climatisé 50m2 cœur du Cours Julien",
          "Studio au calme à 2 pas de tout",
          "Le cosy",
          "Le Balcon du Panier - Central - Climatisation - Les Frères de la Loc'",
          "La Sardine du Panier®",
          "Coeur Vieux Port tout équipé",
          "Studio hypercentre Marseille",
          "La LUNA of MARSEILLE - VILLA D'ARCHITECTE B&B",
          "AC Hotel by Marriott Marseille Prado Vélodrome",
          "B&B HOTEL Marseille Euromed",
          "Proche gare",
          "Terrasse vue mer & quartier historique Vieux Port",
          "Au cœur de la Plaine : La Vie Locale",
          "Superbe Appart Marseille/Vieux Port/grande Loggia",
          "Bel appartement moderne et cosy pour 6 à Marseille by Weekome",
          "Maison ÛMA - Wifi",
          "AMICAL-Marseille-Coeur de ville Balcon",
          "Au cœur du Panier avec terrasse 2 à 4 personnes climatisation",
          "Studio Cosy Vieux-Port",
          "Appart'City Confort Marseille Centre Prado Vélodrome",
          "Sofitel Marseille Vieux-Port",
          "B&B HOTEL Marseille Centre La Timone",
          "Mama Shelter Marseille",
          "Hotel Le M",
          "Maisons du Monde Hôtel & Suites - Marseille Vieux Port",
          "B&B HOTEL Marseille Prado Vélodrome",
          "Hôtel Le Mistral",
          "Charmant T2 au cœur du Panier",
          "le 5e ciel : un nid au dessus de Marseille",
          "STUDIO ** VIEUX PORT",
          "PARADISE Earth & Sea",
          "appartement renové ",
          "ibis Styles Marseille Gare Saint-Charles",
          "Vieux Port République Cannebiére",
          "La Navette",
          "Pepite Coeur 7ème Tout Confort - Clim - Parking",
          "Vieux-Port view - Ultra center - Air conditioning - Les Frères de la Loc'",
          "Appartement près de la gare St Charles",
          "Appartement Vieux-Port/ 2 min du métro Estrangin",
          "Cosy Apartments - Marseille Estiennes d'Orves - Hyper central students apartment close to metro and Vieux-Port",
          "MISIRLOU -Superbe Studio dans la Vieille Ville",
          "Petit Boucan 47m2 Dans le coeur du Panier",
          "Studio hyper centre ( 1-2 )",
          "Confort & Calme - Proche de la mer",
          "L'Olivier - bel appartement au calme à 2 pas du Vieux Port",
          "Le Loft du Panier Design Central Vue imprenable",
          "Apartment L'Atelier by Interhome",
          "Appart Centre ville",
          "Maisons Détente Jardin",
          "Résidence Kley",
          "Vieux-port - Rue du Chevalier Roze",
          "Appartement T3 72m2 Rénové Vieux port Marseille",
          "Hôtel Hermès",
          "Studio Cathédrale Vieux-Port - Mucem - Vieille Charité",
          "Le St Victor",
          "Zenitude Hôtel Résidences Marseille Saint-Charles",
          "Best Western Plus Hôtel La Joliette",
          "*Exceptionnal Appartment * CENTRAL*",
          "Chambre d'hôte Zen Chez Philippe Parking gratuit",
          "Magnifique Studio - Hyper Central & Climatisation - Les Frères de la Loc'",
          "Cosy Apartments - Marseille Opera Vieux-Port - Luminous city center apartment",
          "Dadla",
          "Little Good time",
          "5 Sens",
          "Hôtel Ligo by HappyCulture",
          "Nau",
          "Loft au cœur de Marseille - Spacieux & Unique - Les Frères de la Loc'",
          "Charras Cosy",
          "NH Collection Marseille",
          "Jolie chambre dans appartement cosy en plein centre",
          "Chic et Bohème à Endoume",
          "Superbe appart 3 p",
          "The People - Marseille",
          "Duplex Vieux Port - Hyper Central & Climatisation - Les Frères de la Loc'",
          "Appartement Design sur Vauban - Clim et Wifi",
          "• Le soleil du Panier • Coeur historique",
          "Maison Olea",
          "Odalys City Marseille Centre Euromed",
          "Venture",
          "Appart'City Classic Marseille Euromed",
          "Charmant Appartement - Avec Balcon & Climatisation - Les Frères de la Loc'",
          "Hôtel Maison Montgrand - Vieux Port",
          "Le Lulli - un T2 moderne et épuré",
          "The Babel Community - République - Joliette",
          "Design Suite Vieux Port Appartement tout équipé climatisé",
          "T2 - Quartier mythique du panier",
          "Home Opéra",
          "- Maison ÛMA - Wifi",
          "Grand Appart Rétro Vieux-Port Panier Mucem",
          "LES TOITS DU VIEUX-PORT",
          "Residhome Marseille",
          "ibis Styles Marseille Vieux Port",
          "Le Rooftop Saint Charles parking privé",
          "Le Saint Jean - Appt avec vue sur lentrée du Vieux Port",
          "Appart design",
          "Sunny Stylish Spacious Loft in Old-Port",
          "Appartement T2 40m2 Rénové Au Coeur du Panier Vieux Port",
          "Mercure Marseille Centre Bompard La Corniche",
          "Appartement Panier Caylus - Welkeys",
          "Grand appartement 2 chambres avec vue Vieux-Port",
          "Sous le Clocher",
          "Studio calme et très lumineux",
          "#LaFrenchCasa Belsunce",
          "T3 ** BALCON ** VIEUX PORT ** CENTRE",
          "B&B HOTEL Marseille Prado Parc des Expositions",
          "Crowne Plaza - Marseille Le Dôme",
          "Escale Oceania Marseille Vieux Port",
          "Maison Juste",
          "Studio 1 Vieux Port Opéra",
          "Les appartements chics du Vieux-Port",
          "Hotel Marsiho by Happyculture",
          "Appartement vieux port",
          "Comfort Aparthotel Marseille Prado",
          "Lumineux 2 pièces - centre-ville climatisé - netflix prime canal - bien placé",
          "Studio Shell 26M2",
          "Cosy Place Near Vieux Port",
          "GuestReady - Comfortable stay in Vieux-Port",
          "La Sardine au coeur du Panier",
          "Les Floralies Capucines",
          "Aparthotel Adagio Marseille Timone",
          "Le Duplex - Terrasse au cœur de Marseille Panier",
          "Grand studio avec vue sur notre Dame de la garde",
          "Magnifique studio avec Balcon-Vieux Port-Panier",
          "La Maison de Valentino",
          "Appartement deux chambres sur le Vieux Port avec clim",
          "La Pitcholine : Superbe studio au Vieux-Port",
          "T3 Spacieux - Proche gare - Entièrement rénové",
          "Nice Place Near Vieux Port",
          "La Major- Bel appartement dans le centre",
          "Staycity Aparthotels Marseille Centre Vieux Port",
          "Un Balcon en ville",
          "La Porte Bleue - Charmant appt",
          "Marseillement votre",
          "Come&Sleep",
          "LaFrenchCasa Noailles",
          "Saint Ferréol",
          "Superbe T2 de Standing au Pharo - Air Rental",
          "Appart T3 Duplex 60m2 Le PANIER Vieux Port",
          "ibis Marseille Centre Gare Saint Charles",
          "B&B HOTEL Marseille Centre Vieux Port",
          "Novotel Suites Marseille Centre Euromed",
          "PREMIERE LIGNE - Bel appartement en 1ère ligne du Vieux e",
          "Standing - Central - Quartier des Artistes - Les Frères de la Loc'",
          "15 minutes du Vieux Port",
          "Studio Saint Ferreol hyper centre 3-1",
          "DINA Great BIG appartment - 6 pers with overhead projector",
          "Les Petits Pavillons Appartements Standing 1 chambre 4 pers Clim Vieux-Port",
          "~{Le Pan’yay}~",
          "Studio Mars ( climatisé) 10 mn du vieux port ",
          "easyHotel Marseille Euromed",
          "La Residence Du Vieux Port",
          "Résidence Carpe Diem",
          "Charming apartment with Cosy Balcony Old Port",
          "Au cœur du Vieux Port - Le quai bourgeois",
          "Le Pythéas - Vue Vieux-Port avec terrasse et clim",
          "Appartements hyper-centre de Marseille",
          "Roucas - Sud Passion - Calme - Fibre",
          "Studio vieux port chez Fanette",
          "Charming studio with Patio in the heart of Marseille",
          "Hotel Belle-Vue Vieux-Port",
          "Le Perchoir du Panier",
          "Elana - Bel appartement dans la quartier du Camas",
          "Panier - Vieux-Port - Terrasse",
          "T3 Joliette près des terrasses du port",
          "Standing Vieux port 110 m2",
          "Le Mazenod - Appartement avec balcon à la Joliette",
          "La payotte du Vieux Port",
          "Appartement entre la gare St Charles et Vieux port",
          "Maison Dormoy",
          "Superbe T2 Vieux Port",
          "Hôtel Life Marseille VP - Vieux Port",
          "Résidence Meublée Services",
          "Jardin Secret Studio Terrasse Panier Vieux-Port Marseille",
          "Les 3 Cigales - Bel appartement proche vieux port",
          "Citadines Prado Chanot Marseille",
          "Residhotel Vieux Port",
          "T2 - Rue de la République - Cosy",
          "Chez Nous - 7 Appartements sur le Vieux Port",
          "Le République - Beau duplex avec 2 ch hypercentre",
          "Le Couvent Marseille",
          "Chaleureux T3 Vieux Port - 2 salles de bains",
          "Les Cocons - 8 appartements à 100m du Vieux Port",
          "B&B HOTEL Marseille Parc Chanot",
          "Le St Fée - Nid douillet à 100m du vieux port",
          "Cours Estienne D'Orves",
          "SUD PASSION - Fada Vieux Port - Calme - Linge de qualité - Lit king size - Fibre",
          "Appartement près du Vieux-Port",
          "LaFrenchCasa Clandestina",
          "Massilia hôtel",
          "STUDIO ** ROOFTOP ** LULLI",
          "Bel appart 2 ch clim à Vauban proche Vieux-Port",
          "T2 Chic",
          "Appart splendide Au Soleil à 2 pas Vieux-Port",
          "T2 Spacieux en plein coeur de Marseille 4 pers",
          "*Massilia Home* Cœur de Marseille",
          "Sainte Apartments",
          "Appartement Vue sur le Vieux Port",
          "Studio Dragon avec gardien",
          "B&B Casa Ortega",
          "Mini Loft au coeur du Panier - Marseille",
          "ibis budget Marseille Vieux Port",
          "Villages Clubs du Soleil - MARSEILLE",
          "Un Mas en Ville",
          "Maison Pépouze",
          "SUD PASSION - Sakakini - calme - 3 chambres - lumineux - fibre",
          "Hotel le Corbusier",
          "New Hotel of Marseille - Vieux Port",
          "Best Western Hotel du Mucem",
          "Le Franklin Roosevelt",
          "Ô république",
          "Holiday Inn Express Marseille Saint Charles",
          "Mouchki",
          "Sublime appartement avec Terrasse & Climatisation",
          "T4 Marseille Vue imprenable sur Vieux Port",
          "Les Maisons d Anthony Marseille",
          "Nuit insolite à bord d'un Yacht",
          "La Bonne Mère - Superbe appartement vue Notre Dame",
          "L'Authentique Panier - Central & Calme - Les Frères de la Loc'",
          "Vieux Port Studio Chic",
          "Hyper Centre Vieux Port - Loft - Les Frères de la Loc'",
          "Mercure Marseille Centre Vieux Port",
          "Le Cocon de Grignan",
          "Le Rhul",
          "App-ART Coeur du Panier Vieux-Port Vieille Charité",
          "Le Chave - Appart 1 ch terrasse et climatisation",
          "Vieux-Port",
          "Studio neuf et cosy sur la Canebière Vieux-Port",
          "Mercure Marseille Centre Prado Vélodrome",
          "Élégant appartement à deux pas du Vélodrome - Emplacement idéal à Marseille",
          "Le Caylus - Au coeur du Panier proche Vieux-Port",
          "Cocon super bien situé",
          "Cosy",
          "Magnifique T2-Climatisé avec terrasse-Catalans",
          "Marseille bord de mer",
          "Hôtel Carré Vieux Port",
          "Hôtel Villa Massalia",
          "Appart Cosy Terrasse gare de Nîmes",
          "Maison Carrée/Coeur historique de Nîmes - Superbe Appt 55m²",
          "Le patio",
          "Chambres d'Hôtes Lovely Planette",
          "Hotel Cote Patio",
          "B&B HOTEL Nîmes Centre Arènes",
          "Antichambre",
          "Magnifique T2 centre ville 5 min à pieds des Arènes de Nîmes",
          "Charmante maison de ville avec parking privé",
          "Suite Privée Bed and Breakfast",
          "Au cœur de l'Effervescence Terracotta - Une Nuit à Nîmes",
          "Comfort Aparthotel Nimes Centre",
          "Le 26",
          "Duplex 5",
          "Mas des Esclots",
          "LE CALME AU COEUR DE LA VILLE",
          "Entre tendance et authenticité - LA VOÛTE",
          "Le Duplex studio centre de Nîmes avec Clim",
          "Duplex Denim",
          "Chambre indépendante avec SDB-Terrasse privative. Centre ville",
          "L'Ilot Littré-coeur de ville avec balcon",
          "Maison Albar Hotels L’Imperator",
          "L'Amazonien - Baby-foot et filet de détente !",
          "Le Magdalena - Confort 4* en plein écusson",
          "Maison \"COSY\" avec Parking Privé et Climatisation",
          "Studio + parking proche du centre",
          "Duplex 120m2 terrasse vue sur Nîmes",
          "Le Rêve Bleu Majorelle - Duplex sur les toits - Une Nuit à Nîmes",
          "Logis NIMOTEL Hôtel Cosy",
          "Hotel Concorde",
          "Appartement centre ville - PARKING PRIVE - WIFI",
          "Studio centre Historique",
          "Hôtel Le Pré Galoffre",
          "Le bohème -coeur de ville - clim",
          "Nîmes arènes - T2 calme climatisé",
          "Royal Hôtel",
          "Superbe T2 avec grande terrasse en centre ville à 5 min à pieds des Arènes de Nîmes",
          "L'idéal - Centre - Climatisation - Confort garanti",
          "La Suite des Patins - Arènes",
          "La Coccinelle",
          "Hotel Majestic",
          "Appartement le Grand Couvent",
          "AppartCosy Emplacement Idéal avec Terrasse & Parking Privé",
          "Nîmes Centre - A 5 minutes des Arènes",
          "L'historien - avec balcon coeur de Nîmes",
          "La Balade Nîmoise Center Car Park AC",
          "Appartement au calme",
          "L'élégance de la pierre au pied de la Maison Carrée - Une Nuit à Nîmes",
          "Atlas - Ovalia",
          "Orteils au soleil jardin parking",
          "Centre Ville - 50m des Arènes - Terrasse",
          "La place Zen - Free Wifi - City Center",
          "Kyriad Nîmes Ouest A9",
          "Studio « le Bohème chic »",
          "hotelF1 Nîmes Ouest",
          "Centre ville proche arènes avec garage",
          "Citotel Hôtel Cesar",
          "Villa Carémeau 1",
          "Grand studio confort",
          "studio indépendant près du centre ville",
          "L'écrin vert luxuriant - Halles & Cathédrale - Une Nuit à Nîmes",
          "CASA AZUL - jardin",
          "Studio indépendant calme pas loin du centre",
          "La Terrasse des Arènes",
          "Studio Nîmes Centre",
          "Grand confort au cœur de Nîmes",
          "Le Carmen - terrace - garage",
          "maison Rulman",
          "Chez Eve 2",
          "Résidence Du Golf",
          "Chambre privée avec parking",
          "L'Ostium - Porte de France - Central",
          "Tiny Flat - Coeur de ville studio sous les toits",
          "Feel@Home Nemausus « Le 4 »",
          "Le COSY",
          "AfroBoHome",
          "Appartement nimes centre",
          "Domitys Sophia",
          "maison MARTEL nimes centre climatisé",
          "Pause Nîmoise en centre ville - Toit terrasse & Clim",
          "L’arène des plaisirs - love room",
          "Loft calme à la Maison Carrée - Une Nuit à Nîmes",
          "entre arènes et maison carrée",
          "L'Escapade forestière - coeur de ville avec terrasse",
          "2 pièces centre-ville tout équipé",
          "Hôtel Abalone - Centre Gare",
          "Le Pari Nîmois",
          "Appartement T2 Nîmes arènes",
          "Au cœur du centre historique - Immeuble classé - Terrasse - climatisé",
          "Charmant T2 de 42m carré calme tout équipé",
          "Appartement 4 à 8 personnes",
          "Cocon chaleureux proche écusson",
          "Le Mas des Oliviers Nîmes",
          "SQUARE HOTEL",
          "Studio sur les toits du vieux Nîmes...",
          "Grand appartement",
          "Terrasse tropézienne centre Nimes",
          "Coin Chaleureux en Centre-Ville",
          "Cosy Tiny centre-ville de Nîmes",
          "Studio Terrasse & Parking gratuit en residence",
          "T3 Cosy et lumineux avec garage à 2 pas du centre !",
          "Duplex raffiné",
          "Ingrid Mary",
          "CASA AMARILLA Avec Exterieur",
          "Atlas - Arya",
          "ibis budget Nimes Centre Gare",
          "Le MOKA Charmant Appartement au coeur de ville",
          "La Terrasse suspendue des Arènes - Une Nuit à Nîmes",
          "L'artiste-coeur de ville-clim",
          "Novotel Atria Nimes Centre",
          "Le Pastel - centre ville - clim",
          "Roche blanche - Terrasse et parking",
          "Le Sunshine - Terrasse et clim",
          "Le Loft - Bain jacuzzi et Sauna",
          "Le Genova - T3 élégant proche gare",
          "Chambre agréable dans une maison avec un grand lit",
          "l'élégant T3Nîmes Parking-centre ville",
          "Roma Divine home cinéma et jardin",
          "Appartement T3 parking gratuit",
          "le contemporain-2 chambres-vue Eglise saint paul",
          "L'Etoile - Duplex cosy de 50m2 en centre-ville",
          "La Maquette - à 2 pas des Arènes",
          "Maison 3chambres ",
          "L'Ecluse - Clim - Parking - Central",
          "Un petit PARADIS",
          "Hôtel De L'Amphithéâtre",
          "Chez Pepito & Zaza hypercentre rooftop garage",
          "Nimes ",
          "Uncourtsejour - Nîmes la Rome française",
          "La Dolce Vita Nîmoise Terrasse 100 m des Arènes",
          "Au cœur de l'Effervescence Verte - Une Nuit à Nîmes",
          "La Halte Tendance - terrasse - clim",
          "Appartement Cosy en centre centre-ville . . .",
          "Authentique studio hypercentre - clim - wifi",
          "Appartement avec terrasse panoramique au coeur de Nîmes",
          "Charmant studio rénové - Proche centre ville",
          "Nimes: Appartement l'Auguste Centre-Ville.",
          "L'Ora P2 avec Clim",
          "Bed and Breakfast P&P Nîmes-Centre",
          "P2 au RDC",
          "Le nid douillet - coeur de ville - clim",
          "Le Scarlett Nîmois",
          "Maison dans les Arbres",
          "Superbe appartement 95m2 proche Arènes- parking coupole de Nimes gratuit",
          "LE COSY Joli F2 proche gare",
          "Sur les toits de Nîmes",
          "HÔTEL C SUITES chambres spacieuses",
          "Appartement Cosy Nîmes-Centre 2",
          "L'Eden - Joli studio en centre ville",
          "Les Copains d'Abord",
          "Hotel Des Tuileries",
          "ibis Styles Nimes Gare Centre",
          "Appartemment Nimes Arènes",
          "Quiet apartment in a green setting",
          "Feel@Home Nemausus « Le 42 »",
          "Hôtel & Spa Vatel",
          "Lovely Suite Nimes Romaine",
          "Allegria Nîmes",
          "Margaret - Hôtel Chouleur",
          "La cigale et la fourmi",
          "Best Western L'Orangerie",
          "Hostel Vertigo Nîmes Gare Centre",
          "LE Zen",
          "La Cabane Camarguaise en centre ville - Une Nuit à Nîmes",
          "Le lumineux P3 de Cristiano",
          "L'escapade Nîmoise",
          "Harmonie",
          "Le Petit Ecusson à la Cathédrale",
          "appartement quai de la Fontaine",
          "Auberge de Jeunesse HI Nîmes",
          "Les Trois Rois",
          "L'AMOUREUX DE NIMES : P3 + parking privé",
          "L'atypique des arènes",
          "Chez Frida",
          "Le victor hugo - coeur de ville",
          "Nîmes les pins parking privé extérieur gratuit lit king size 180",
          "NEMAUSA APARTIS",
          "Tiny house au cœur de la petite Rome Française",
          "Nî'douillet-P3 Terrasse et climatisé-coeur de ville",
          "*DOLCE NIMES - T2 STANDING - CLIM *",
          "feuillade ancien",
          "La Maison de Sophie",
          "Le 136 - Baby Foot - 6 Personnes",
          "L'ARCADIA 4 lits Climatisé Jeu d'Arcade centre historique Nîmes",
          "Charmant Duplex centre de nimes",
          "L'envoutement provençal au cœur de l'écusson - Une Nuit à Nîmes",
          "Appartement Cosy Nîmes-Centre",
          "ibis Nîmes Ouest - A9",
          "LE JAD Joli F2 proche Gare",
          "L'ANTONINPlein centre-maison carrée/P1 Bis",
          "Le Green - Clim et Emplacement",
          "La Cathédrale de Bois",
          "Un pied à terre avec terrasse à la Cathédrale - Une Nuit à Nîmes",
          "Appart de 70m2 en RDC à 6 mn à pied des monuments",
          "Campanile Nîmes Centre Mas-Carbonnel",
          "Le Duplex du marin nîmois - Une Nuit à Nîmes",
          "Studio/ Le Nîmois",
          "location d'une chambre au calme dans un appartement",
          "Feel@Home Nemausus « Le 11 »",
          "Oh Activ Nîmes",
          "Appartement des Carmes",
          "Superbe appartement avec parking sur place",
          "Terra Nostra - Townhouse - Swimming pool",
          "Central Hotel",
          "La Palm Room ~ Climatisation ~ Balcon ~ Parking",
          "Un Joyau Occitan",
          "Best Western Marquis de la Baume",
          "Appart charme Arenes Nimes",
          "Le Plaisant - Nîmes plein centre",
          "Dolce NÎMES CENTRE",
          "Appartement Denim",
          "Studio Orange - Plein Centre",
          "Au cœur de l'Effervescence Bleu - Une Nuit à Nîmes",
          "Atlas - Superbe logement plein centre - Terrasse",
          "Mas d'Escattes",
          "La Halte des Arènes de Nîmes Emeraude",
          "Douceur Nîmoise en centre ville - RDC et extérieur",
          "le pool house",
          "Mezza'Nîmes",
          "Appartement Jungle climatisé Centre Ville",
          "Villa Pierre Blanche le calme a 5mn du centre ville",
          "Le Salsero T4 de 93m2 en centre avec billard clim Prime vidéo Wifi fibre",
          "Appart'City Classic Nîmes",
          "Le LUTZ",
          "Appartement A Nimes",
          "Studio Triangle Arêne Gare Maison Carrée Placette",
          "Odalys City Nîmes Arènes",
          "Le petit cocon Nîmois",
          "VILLA CAREMEAU 2",
          "Roma Reva: design et home cinema",
          "Chez Sonou ",
          "La suite 2 pièces lit queen size entrée privée",
          "Appartement Le Flocon 2 chambres Maison Carrée Centre historique",
          "Le Cocon d'Emie - Clim - Parking",
          "mas feuillade logement partagé",
          "Hotel Mas De Galoffre",
          "Le Soleil Bleu",
          "Le bonheur de la campagne à la ville - Grand studio en plein coeur de la ville",
          "proche maison carrée",
          "Empire Hôtel",
          "Inn 4 Bears",
          "Patrick&Pierre Bed and Breakfast Nîmes",
          "Studio 23m2 moderne hypercentre - Arènes à 2 min",
          "Petit patio en centre ville",
          "Demeure & Confort",
          "Beau F3",
          "Le Questel In the heart of the Roman city with",
          "La Maison Rousseau Chambre d'hôtes",
          "Le studio D'auguste- Cœur de Nîmes-chaleureux-emplacement idéal",
          "B&B HOTEL Nîmes Ville Active",
          "GODIN",
          "Studio clim parking dhuoda",
          "Le bleu Jean Denim Arènes - Une Nuit à Nîmes",
          "Appartement au centre historique de Nîmes",
          "Chez Eve",
          "AZUL Aparté",
          "Superbe appartement avec Patio",
          "Appart'City Collection Nîmes Arènes",
          "studio meublé ensoleillé fibre Bouygues",
          "La patio - coeur de ville - clim",
          "Jolie annexe du mas dans le cœur de la garrigue nîmoise",
          "Les Esclafidous",
          "Mas La Farelle Chambre d'hote",
          "Maison chaleureuse avec grande terrasse",
          "Domus Arena",
          "Appartement Garance",
          "La Cabane nîmoise avec Clim",
          "Le Yellow - Central - Climatisé",
          "Studio centre-ville (Ecusson)",
          "Appart sympa dans le vieux Nimes",
          "Roussy Nîmes Romaine",
          "Joli T2 Climatisé Nimes proche Gare et centre ville",
          "à 10mn des arènes f2 au calme avec garage gratuit",
          "SUPERBE VILLA 85 m2 NIMES CAREMEAU",
          "Appartement P2 de charme - Centre-ville",
          "L'écrin Nimois",
          "Le Mas Emeraude ~ Jardin ~ Parking ~ Climatisation",
          "très confortable P2 avec garage gratuit",
          "Les Arènes",
          "L’Écrin Nîmes - Le Cocoon Dorée",
          "Le temps des cerises",
          "The Originals City",
          "Le Nimois",
          "Les villas du triangle - chambres d'hôtes",
          "Charmant studio avec cour en centre-ville",
          "Aréna - 2 chambres - vue sur les arènes",
          "Kyriad Nimes Centre",
          "Feel@Home Nemausus « Le 21 »",
          "Oh! Campings - Le Clos du Rhône",
          "Hôtel Casa Marina",
          "Les Saintes au bord de mer",
          "Appartements calmes LE MAS DE LAURIANE",
          "Maison au bord de mer",
          "Appartement 7 pers",
          "Manade BEC",
          "Le cocon de sissy",
          "Mas des Cabidoules",
          "Le Dauphin Bleu",
          "Appartement T2 avec Piscine",
          "Appartement LE BOIS FLOTTE",
          "Appartement Les Saintes",
          "Hotel Mas Des Barres",
          "Appartement Duplex Climatisé Le Trident",
          "Le mas des mourguettes",
          "Réf Appa ls253: APPARTEMENT POUR 6 PERSONNES DANS RÉSIDENCE AVEC PISCINE LE MAS DES MANADIERS - FR-1-475-16",
          "Appartement spacieux pour 8 pers",
          "Jolie appartement refait à neuf",
          "Charmante maison en Camargue avec piscine partagee",
          "La Tramontane",
          "Studio Cosy avec Terrasse et Parking Privé",
          "Réf ls80: Maison l'Étrier en Camargue - FR-1-475-102",
          "Manade Cavallini - Mas de Pioch",
          "Gîtes Equestres Lou Caloun - Les Saintes Maries de la Mer",
          "Roulotte Lou Gregau",
          "Hôtel Le Neptune en Camargue",
          "Le Patio",
          "Appartement pour 4 pers avec Parking",
          "Mas du Couvin",
          "Mangio Fango Hotel et Spa",
          "Mas de la pie",
          "Vila De La Mar & Spa",
          "Magnificent apartment typical of Saintes-Maries-de-laMer",
          "Charmant Duplex Climatisé - Terrasse",
          "Appartement Camargue",
          "Mas Fandelou",
          "Appartement Duplex 4pers Climatisé - Locations VLD Camargue",
          "Les Laurier rose",
          "L'auberge Camarguaise",
          "Maison accueillante a Saintes Maries de la Mer 110 m² climatisee",
          "La cabane d'Ariane",
          "maison en Camargue",
          "Maison 4 pers avec piscine et clim aux Saintes-Maries-de-la-Mer - FR-1-475-91",
          "Hotel Le Méditérranée",
          "les deux pins",
          "Résidence La Palma",
          "LOLITA",
          "Cozy Home In Saintes Maries De La Mer With Wifi",
          "Appt calme ensoleillé fonctionnel",
          "Les Mourguettes",
          "un rêve à la mer",
          "Mas des Rièges & Spa",
          "La Cabane du Boumian",
          "Bellevue",
          "Appartement Domaine du soleil couchant",
          "Maison de Village 4 pers. au Coeur de Saintes-Maries-de-la-Mer",
          "Hôtel L' Estelle en Camargue",
          "Réf ls94803: UN STUDIO POUR 2 PERSONNES 7 AVENUE GILBERT LEROY - FR-1-475-56",
          "Hotel Le Bleu Marine",
          "Appartement calme à deux pas de la mer",
          "Mas de la Fouque - Hôtel & Spa",
          "Appartement \"La Rose des Vents\"",
          "Maison spacieuse pour 10",
          "Appartement avec vue sur l église des Saintes",
          "la farigoulette",
          "Spacieuse maison avec piscine a Saintes Maries de la Mer 150 m²",
          "Maison neuve de charme",
          "Charmant appartement 4 pers avec terrasse",
          "Appartement le loft",
          "Holiday home with shared pool",
          "Plage",
          "Studio rénové pour 3",
          "Mas des Cypres - Mazet 7",
          "Appart 4 pers avec piscine",
          "Villa 8 personnes bord de mer climatisée",
          "Auberge de la Fadaise",
          "Appartement 4 pers à Saintes-Maries-de-la-Mer",
          "Maison 3 chambres avec grand jardin",
          "Charmant appart climatisé",
          "Maison neuve clim 400m plage",
          "Appartement T2 avec Cour Privative",
          "La Maison du Vent du Soleil - située au cœur de la Camargue",
          "Les Bains Gardians",
          "Appartement climatisé avec chambre et Parking privatif Locations VLD Camargue",
          "Mas du Menage en Camargue Manade Clauzel",
          "Hôtel restaurant le delta",
          "Dolce Notte",
          "Le Mas de Mon Pere",
          "Appartement front de mer avec vue et accès plage",
          "Le Gite de Fanny",
          "Le chêne vert",
          "Apartment Le Soleil Camarguais - SMM150 by Interhome",
          "De l'eau et des oiseaux !",
          "Réf Appa ls213: UN APPARTEMENT POUR 4 PERSONNES RESIDENCE AVEC PISCINE - FR-1-475-15",
          "Réf Appa ls421: UN APPARTEMENT POUR 6 PERSONNES 18 RUE LOUIS PASTEUR \" LE FIGUIER\" - FR-1-475-23",
          "Résidence L’Oiseau des Sables",
          "Hotel Les Palmiers En Camargue",
          "Le Mas d'Icard",
          "Maison de village climatisée 4 pers avec cour privative au cœur des Saintes-Maries-de-la-Mer - FR-1-475-112",
          "Appartement des Penitents",
          "Hôtel La Palunette",
          "Clamador",
          "Charmant Duplex avec Balcon et Parking Privé à Saintes-Maries-de-la-Mer - FR-1-475-130",
          "Mazet L'étrier",
          "Manade des Baumelles",
          "Studio des Saintes",
          "Nature Cabanes de Cambon",
          "Un cocon au cœur du village",
          "Mas Albert Espelly",
          "Mas de la pie 2",
          "Appartement avec terrasse",
          "Appartement de l'olivier",
          "Appartement cosy Le Bohème",
          "Maison neuve 4 pers",
          "La Roulotte du Mas",
          "Lodge Sainte Helene Adult only",
          "Hotel Lou Marquès",
          "Les Geckos",
          "La Villa Vaihéré en Camargue",
          "MAS MLS",
          "Chambre d’hôtes",
          "Apartment Le Soleil Camarguais - SMM151 by Interhome",
          "Domaine du Soleil Couchant",
          "Studio Climat. Proche Plage",
          "Appartement Le Méditerranéen à 300m de la plage et au centre des Saintes Maries de la Mer",
          "Hôtel Restaurant Les Arnelles",
          "Appartement en bord de Mer",
          "Studio pour 4 avec cour privée",
          "Studio en RDC face à la mer avec jardin et terrasse - 2 pers",
          "L'Estrambord de Camargue",
          "Oh! Campings La Brise",
          "Mas Lou Caloun - Chambre d'Hôte face à la piscine en Camargue - Les Saintes Maries de la Mer",
          "Gite Armieux",
          "Camargue",
          "Maison avec terrasse climatisation",
          "Le Mas de Cocagne",
          "Cacharel",
          "Hôtel Les Arcades",
          "Appartement Charmant avec Cour Privative",
          "Cabane le Flamant avec jardin",
          "Studio Climatisé 4 Pers avec Cour Privée et Parking",
          "Les Aigrettes 6",
          "SPACIEUX APPARTEMENT FRONT DE MER",
          "Appartement RDC pour 4 pers avec cour et BBQ",
          "Appartement Climatisé 4 Pers avec Balcon et Stationnement Privé à 800m de la Mer - FR-1-475-85",
          "Thalacap Camargue",
          "La roulotte \"Les Saintes\"",
          "Mazet du Maréchal Ferrant",
          "Maison au cœur du village",
          "Le Castelet",
          "Appartement T2 en front de mer aux Saintes-Maries-de-la-Mer avec jardin et proche des commerces - FR-1-475-33",
          "Appartement RDC moderne 4 pers",
          "Appartement RDC pour 4 pers avec cour privative",
          "Le Maset en Camargue",
          "Appartement Cozy à 200m de la Mer avec Parking",
          "Appartement aux Stes Maries de la Mer",
          "Superbe Duplex aux Saintes terrasse plein sud 3***",
          "La Jungle de Sissy",
          "Petite Maison 4-6 Pers avec Piscine et Parking",
          "Studio pour 3 pers",
          "Le Mas des Sagnes",
          "Appartement climatisé avec balcon",
          "L'appartement de l'église",
          "Abrivado",
          "Les Cyprés",
          "Maison Climatisée avec Piscine",
          "Cmr",
          "Maison confortable a Saintes Maries de la Mer avec jardin",
          "Mas des Cypres - Mazet 5",
          "EL ROCIO 3",
          "EL ROCIO 2",
          "Appartement pièces centre village - Pièces 88",
          "Mas de la Grenouillère Hôtel et Centre équestre en pleine nature",
          "Maison l'Etrier",
          "L Abri-côtier Appartements",
          "Logis Le Nid du Pont de Gau",
          "La sauvagine",
          "Cabanon de Camille",
          "Réf Appa ls76: APPARTEMENT POUR 6 PERSONNES DANS RÉSIDENCE AVEC PISCINE LE MAS DES MANADIERS - FR-1-475-98",
          "Le Mas des Trémaïé",
          "Studio pour 4 personnes - 300m de la mer",
          "Maison climatisée 8 pers",
          "Hotel Camille",
          "Mas De Calabrun",
          "Appartement 4 pers",
          "Refurbished Apartment 4 People 300m From The Sea",
          "Appartement 4 pers avec vue mer et climatisation - FR-1-475-76",
          "Appartement 4 pers proche commodités",
          "Appartement de standing avec terrasse",
          "LA ROULOTTE DE MOUCHOU",
          "Collioure Centre historique : Appartement de charme",
          "Appartement dans le quartier recherché du mouré",
          "Ô Saphir de Collioure - Proche plage - Garage - WIFI",
          "Le Relais Des Trois Mas",
          "5VSE-LAM4 appartement Faubourg T2 proche plage vue dégagée",
          "Appartement Farniente",
          "Maison de village à 200m de la plage à Collioure - FR-1-309-464",
          "Petite maison quartier hist",
          "À deux pas de la plage",
          "Appartement F3 charmant au cœur de Collioure",
          "Chambres Rue de la République",
          "4OL137 Appartement avec vue mer",
          "Michelet",
          "AZUR-Les pieds dans l'eau-Vue sur Mer et Clocher de Collioure en toile de fond - WIFI FIBRE- PARKING Couvert",
          "BEL APPARTEMENT 4Pers RDC/parking/terrasse/ jardin",
          "Résidence du Soleil",
          "3 Rue Marceau",
          "Appartement typique 2 étoiles avec clim",
          "T3 Neuf Garage",
          "T2 bord de mer avec garage",
          "4RB86 Appartement type T2 cabine dans résidence bord de mer à Collioure",
          "Studio Cabine à Collioure",
          "3VSE-ALZ210 Studio équipé pour 3 personnes au 2ème étage parking",
          "Appartement Les Pieds dans l'eau",
          "La Frégate",
          "4DEMO2 Appartement vue mer",
          "6COMA6 Appartement avec terrasse vue mer",
          "4HC65 Appartement avec vue sur la baie",
          "4RB71 - APPARTEMENT F2 mezzanine avec vue mer",
          "COLLIOURE tres bel appart a 150 metres des plages avec jardin prive et parking dans residence securisee",
          "Le Madeloc Hôtel & Spa",
          "Residence Les Balcons de Collioure - maeva Home",
          "4SOM23 Appartement proche centre-ville",
          "6QUI10-1 - Appartement de standing avec garage et ascenseur pour 6 personnes",
          "Les Suites de Collioure",
          "Le Petit Colliourenc",
          "Appartement rénové au centre de Collioure avec terrasse",
          "Maison charmante à Collioure",
          "Appartement rénové à 50 m de COLLIOURE Plage",
          "6VOLT21 Appartement pour 6 personnes au cœur du Faubourg",
          "6LAM16 Maison typique avec toit-terrasse",
          "Appartement moderne climatisé avec Wi-Fi à 300m du centre-ville et de la plage à Collioure - FR-1-309-355",
          "2TERIMP204 T2 neuf avec terrasse climatisation et parking Collioure",
          "Studio avec parking",
          "Résidence Collioure Plage",
          "Résidence Port d'Avall - Piscine Parking Clim - 200 m plage - 4 pers - 2 chambres",
          "Le Rooftop Collioure",
          "Appartement typique à Collioure",
          "Le Glacis",
          "2FAN4 Studio Intra-murros proche plage",
          "Appartement en centre-ville avec balcon",
          "4VSE-VER4 - Très bel appartement idéalement situé avec parking privé",
          "Boramar",
          "6QUI10-3 - Appartement style loft pour 6 personnes sous les toits",
          "Elsa & David",
          "Centre de Collioure Appartement tout confort 2-4 pers avec climatisation et wifi classé 2 étoiles",
          "Gorgeous apartment superbly located in old town",
          "Appartement 2 pièces - jusqu'à 4 personnes - AR000-C09",
          "2RB38A Appartement vue sur mer et proche plage",
          "Les Chênes-lièges d'Ambeille",
          "Appartement T2 avec balcon au cœur de Collioure",
          "Canta la Mar - Vue exceptionnelle",
          "Charmant T2 à 300m de la plage avec parking à Collioure - FR-1-309-418",
          "Charmant T2 duplex climatisé avec terrasse",
          "La Casa Machado 2",
          "APP' ART CENTRE PLAGE + PARKING GRATUIT",
          "Hôtel Triton",
          "Lumières à Collioure",
          "4VSE-COB279 Appartement proche plage avec parking privé",
          "4VSE-VER34 Appartement proche plage avec parking",
          "Appartement lumineux a Collioure avec terrasse et vue sur mer",
          "location Coma Chéric et parking",
          "Mas de la Croette Collioure",
          "2DUF11 - Maisonnette hauts de Collioure climatisée",
          "4COMA2 - Appartement plein pied pour 4 personnes proche plage",
          "appart central et son parking privatif gratuit",
          "3 pièces avec piscine privative",
          "4VSE-COB284 Appartement proche plage",
          "6CONV21 Maison de pêcheur au Faubourg",
          "Appartement à 300m du centre et des plages",
          "Splendide appartement climatisé avec vue sur mer et clocher - Parking et WIFI",
          "Collioure Centre Ville",
          "T3 Grand Standing 65m2",
          "Bel appartement sur les hauts de Collioure",
          "Apartment Les Roches Bleues-2 by Interhome",
          "Appartement Collioure centre & GARAGE PRIVATIF",
          "L'Escale de Collioure - Climatisé",
          "Les Roches Brunes",
          "Loft entièrement rénové",
          "Appartement de charme à 50m de la plage de sable",
          "Appart T3",
          "Les Batteries 1",
          "Superbe appartement de 94m2 avec vue sur le Fort St Elme",
          "23 Rue Romain Rolland Appartement",
          "T2 avec Terrasse",
          "Studio rénové à Collioure",
          "3PA45 - Très confortable T2 avec terrasses dans résidence avec piscine et parking",
          "4MIR11JAUNE- T2 en DUPLEX idéalement situé pour 4 personnes",
          "Collioure",
          "Apartment Les Roches Bleues-5 by Interhome",
          "Le Mouret",
          "2TERIMP204B confortable T2 dans résidence neuve Collioure",
          "5DEMO54 - Appartement très proche plage et toutes commodités",
          "5VSE-LAM56 Appartement avec vue sur la baie",
          "Maison de village avec charme à 100m de la plage au cœur de Collioure - FR-1-309-264",
          "Duplex quartier piéton",
          "Le 15-Appartments Collioure",
          "El Mayul 2' centre",
          "3CONV48- Charmant T2 avec vue imprenable en face plage Collioure",
          "Appartement Centre COLLIOURE CLIM PATIO WIFI",
          "Studio cosy Résidence St Elme avec parking et WIFI à 5min de la plage",
          "5RB14 Appartement vue mer et proche plage",
          "studio cosy à 2 pas de la plage",
          "Joli T2 vue mer au calme.",
          "4RB4 Appartement type T2 bord de mer ACCES PLAGE DIRECT",
          "4VSE-ESCA5 Appartement proche plage",
          "Ibanova Appartements",
          "2VAD13 Studio proche centre-ville",
          "Hotel Le Bon Port",
          "**Charmant Appt 2 Chambres à Collioure",
          "Appartement spacieux vue sur mer",
          "Appartement T2 à 50m de la plage à Collioure - FR-1-309-407",
          "Les Jasmins",
          "Appartement Unique! Au centre historique with 2 bedrooms and terrace",
          "Collioure",
          "Appartement T3 avec vue sur mer",
          "studio avec wifi à 50 m de la plage dans une rue piétonne",
          "6MIR17 - Chaleureuse maison de pêcheurs idéalement située",
          "La Chambre De Salome",
          "Jetez l'ancre dans notre maison de pêcheur !",
          "5AMB3- Appartement duplex dans une résidence avec piscine et parking",
          "3AMB31 - Studio pour 3 personnes avec magnifique vue sur la baie",
          "Appartement Sous le Soleil",
          "Appartement les pieds dans l'eau !",
          "Collioure - Modern Beachside Apartment Joey",
          "Le Nid de Gilles",
          "4TERIMP-A02 T3 neuf avec terrasse climatisation parking Collioure",
          "«La Calade » Villa les Glycines",
          "Collioure Fisherman’s House with sea views",
          "Studio avec Terrasse et Parking à 300m de la Plage - Résidence Privée à Collioure - FR-1-309-372",
          "Appartement T3 climatisé avec garage et terrasse à Collioure - FR-1-309-265",
          "Au Coeur de Collioure",
          "6SOL16 Appartement duplex proche mer",
          "Merveilleux appartement style nature proche centre ville",
          "Ma Cabane",
          "Appartement 3 pièces - jusqu'à 6 personnes - AR000-C03",
          "Pieds dans l’eau à Collioure",
          "4VSE-ALZ10 Résidence Val Saint-Elme",
          "Le Conflent WIFI Terrace",
          "Charmante maison sécurisée avec piscine à Collioure - FR-1-309-454",
          "2VSE-COB270 Studio proche plage",
          "Appartement vue mer les pieds dans l'eau",
          "Appartement typique au cœur de Collioure",
          "Cosy House Collioure",
          "Appartement fonctionnel hauteurs de Collioure",
          "Collioure",
          "5RBUT1 - Maison familiale sur deux niveaux en plein coeur du centre ville",
          "Appartement central avec parking",
          "Appartement T2 à Collioure avec Terrasse et Parking Privé",
          "4MIR11BLEU - Appartement pour 4 personnes T2 en duplex tout confort",
          "4AMB2 Villa de caractère avec piscine collective",
          "Studio Centre Plage parking gratuit",
          "2TOAU8 Charmant studio proche plage",
          "4SAP7 Appartement avec belle terrasse",
          "La Casa Machado 1",
          "6CHK4 Villa 6 personnes dans résidence",
          "studio vue mer garage",
          "Les Appartements de Collioure",
          "Appartement vue mer à 1 min à pied des plages avec parking privé",
          "CHARME a 20 m de la plage centre village",
          "Chambre_privée_Collioure_centre",
          "Ambeille Collioure",
          "Casa Collioura & Spa",
          "Logement plein pied / Confort",
          "La Terrasse Bleue",
          "3FAN4-Charmant appartement-Vue sur la mer et clocher de Collioure",
          "Le Clos Saint Elme",
          "Appartement T2 Neuf à Collioure avec Terrasse",
          "Grand appart. avec terrasse à 300m de la plage à Collioure - FR-1-309-261",
          "Collioure: Superbe T3 avec terrasse",
          "6BAT3 Appartement vue mer",
          "Studio Vue Mer a Collioure 27 m² Parking Inclus",
          "Résidence St Vincent",
          "la crique",
          "Collioure Fisherman's House Apartment with Garden",
          "Le charme de Collioure",
          "Studio avec terrasse",
          "Les Vermeyades",
          "SAPHIR - Vue Mer et Montagne - WIFI FIBRE- PISCINE et GARAGE Privé",
          "Hôtel des Templiers",
          "Le Machado",
          "Appartement Collioure le haut",
          "Maisonnette à deux pas de la plage.",
          "Apartment Olive & Kin",
          "Le Clos Des Orangers",
          "Fenêtre sur Collioure",
          "Les mimosas",
          "Appartement Les Batteries face à la mer",
          "Appartement T2 et terrasse 30m2",
          "L'équinoxe",
          "Studio charmant avec vue sur la mer a Collioure 55 m² Terrasse",
          "Collioure vue imprenable T3 Garage privé",
          "6EGA14 Superbe maison Familiale 6 personnes",
          "Le Mas des Citronniers",
          "Magnifique appartement proche centre Collioure",
          "4RB67 Appartement 1 chambre avec vue mer",
          "Appartement Charmant à Collioure",
          "41 Les Imperiales",
          "Appartement T3 avec WIFI et terrasse",
          "La roussette",
          "Hôtel La Casa Pairal",
          "Maison Nova - Boutique Hôtel & Spa",
          "Appartement T3 avec piscine",
          "Hôtel la Bona Casa",
          "Cosy - appartement 4 personnes - Calme - WIFI - Terrasse",
          "Hôtel Princes de Catalogne",
          "3CPF29 Appartement avec jardinet et parking",
          "F2 à Collioure avec piscine et tennis",
          "Aux Vents du Sud",
          "Appartement T3 avec Stationnement et Terrasse",
          "66B - Beautiful flat 800m from the sea with private parking",
          "Joli T2 à 10min à pied du village",
          "Saphir de Collioure",
          "Appartement Collioure",
          "Résidence St Vincent",
          "4PA109 Appartement F2 résidence avec piscine parking et cours de tennis",
          "Appartement avec Wi-Fi et balcon au cœur de Collioure",
          "4BATT44 - Appartement proche mer",
          "Residence Pierre & Vacances Les Balcons de Collioure",
          "Sur les hauteurs de Collioure",
          "6CONV20 charmante maison de village au cœur du faubourg",
          "Amazing Apartment In Collioure",
          "4PA72 - Magnifique appartement pour 4 dans résidence avec piscine et parking",
          "Au coeur de Collioure"
         ],
         "lat": [
          43.215003633291,
          43.2150024,
          43.214261255188,
          43.21372233223613,
          43.215602,
          43.2160986,
          43.220166,
          43.21331673450409,
          43.21534046474368,
          43.2140797,
          43.21522996680949,
          43.2128992,
          43.2137849,
          43.217248174932,
          43.22604973779821,
          43.2151752,
          43.21464814077,
          43.2135692,
          43.210575,
          43.21544455774376,
          43.215335066598456,
          43.218387246966834,
          43.211915898805,
          43.21719357638,
          43.227348233175,
          43.22091115627785,
          43.23482929900096,
          43.212817358139,
          43.212880706992,
          43.2142921,
          43.216704762315,
          43.21370621383696,
          43.23009558607547,
          43.220826585258,
          43.216041,
          43.21270691626079,
          43.2152729,
          43.213611,
          43.21473,
          43.217645,
          43.2133471,
          43.2208278,
          43.227363868129,
          43.214800838177,
          43.219776350851,
          43.2153755,
          43.223344717788,
          43.220585083967,
          43.218038519883,
          43.214186950925,
          43.2141154,
          43.2168842,
          43.2223547,
          43.2208271,
          43.2144098,
          43.2304277,
          43.216085,
          43.214846152781,
          43.21537,
          43.2153841,
          43.21557,
          43.2201785,
          43.2146042,
          43.21729233753854,
          43.213055,
          43.215008063197,
          43.21365491930074,
          43.221287,
          43.21440700000001,
          43.2176699,
          43.215219077059,
          43.228298468439,
          43.2178808,
          43.21684213944843,
          43.2273212,
          43.21494337597,
          43.211507272572334,
          43.215634,
          43.21499336754322,
          43.2265539,
          43.21875605077386,
          43.215602,
          43.214389798484,
          43.216217352829,
          43.2196703,
          43.2206354,
          43.2149587,
          43.217581846953,
          43.215051,
          43.215793,
          43.2155388,
          43.216905,
          43.2112675,
          43.215805499218,
          43.220697,
          43.2149587,
          43.2108146767614,
          43.227550241509,
          43.2164879,
          43.2152931377637,
          43.233049,
          43.2109664,
          43.2151399,
          43.2113236,
          43.211728,
          43.2135692,
          43.2132923,
          43.214545,
          43.213477,
          43.2161893,
          43.2169655,
          43.217807499714,
          43.2211281,
          43.2150974,
          43.21792772392,
          43.214250019830985,
          43.21884420741801,
          43.216440236856805,
          43.21457326278473,
          43.214442911851,
          43.21463069291,
          43.2187069,
          43.214597374831,
          43.2170015,
          43.2140824,
          43.2270823,
          43.2164387,
          43.2154586,
          43.215086781027,
          43.221287,
          43.21351434634,
          43.216377170021,
          43.221840494518375,
          43.221287,
          43.214457888696,
          43.2173725883848,
          43.2141362698472,
          43.223871115470544,
          43.2197989,
          43.2149631,
          43.2152067,
          43.21334946052709,
          43.2201785,
          43.211021017235,
          43.2175119,
          43.2137224,
          43.2145312,
          43.2152361,
          43.217623,
          43.2162109,
          43.2131868,
          43.214598569272,
          43.213947869708,
          43.218429610739626,
          43.2142373,
          43.214618289428,
          43.215456,
          43.220084750271,
          43.21622493056339,
          43.23303312969787,
          43.2185916,
          43.214608262489,
          43.214914180928,
          43.21690641583507,
          43.2153123,
          43.2152497,
          43.215254,
          43.215028,
          43.214071974847386,
          43.211337,
          43.215578355972,
          43.218285950326,
          43.2172023,
          43.2148195,
          43.21837152576269,
          43.215107972631,
          43.214590533106,
          43.216605806379,
          43.21150506150109,
          43.211783719015,
          43.216217404659,
          43.21443437507463,
          43.215258,
          43.21624027779891,
          43.2160172,
          43.2116831,
          43.216085,
          43.219025355371,
          43.21403,
          43.21791847540318,
          43.216554094611,
          43.2144487,
          43.2157958,
          43.214626130929545,
          43.2149567432809,
          43.215028447566,
          43.21528,
          43.21820778527,
          43.2115707,
          43.210603547237,
          43.233807132812,
          43.21212597630435,
          43.2148466,
          43.215317,
          43.210847461119,
          43.2140503,
          43.21183242551023,
          43.221287,
          43.2132081,
          43.22045190000001,
          43.213413785907,
          43.233049,
          43.2178808,
          43.214121738351,
          43.232596681127,
          43.2150811,
          43.21534787329778,
          43.217757537419,
          43.22080450196153,
          43.213529,
          43.214804718117,
          43.225176,
          43.218541533243,
          43.214538421739,
          43.227285693315,
          43.21703056164293,
          43.227668875235,
          43.2117792,
          43.21325247754095,
          43.210412049315,
          43.214930867592,
          43.211712,
          43.214817,
          43.2204363,
          43.215435048873,
          43.2116735,
          43.21552901269275,
          43.214944301354,
          43.211715575402,
          43.2177957,
          43.214696804509,
          43.2116735,
          43.217713,
          43.2144315,
          43.2153326,
          43.2140797,
          43.2146895,
          43.2135817,
          43.228493635278,
          43.2163799,
          43.214781290455,
          43.2175997,
          43.2201785,
          43.2151399,
          43.222079689063,
          43.21329489877,
          43.2177957,
          43.2150087,
          43.2149899,
          43.214905231927,
          43.216323,
          43.2151861,
          43.2194242,
          43.207747,
          43.215602,
          43.215295016453,
          43.2206243,
          43.214377261719,
          43.2146531,
          43.2169229,
          43.221317,
          43.2120574,
          43.2169191,
          43.2092788,
          43.2133255,
          43.214926,
          43.212567,
          43.213898,
          43.2159280399956,
          43.2136781,
          43.2148357,
          43.2194543,
          43.215488352713,
          43.2135229,
          43.2278498,
          43.213129713983,
          43.214623017996,
          43.214017886263,
          43.2128992,
          43.220408,
          43.2180838,
          43.21734027753,
          43.2145719,
          43.228507,
          43.2145264,
          43.211151039807,
          43.2135817,
          43.297746857902254,
          43.2943872,
          43.29858166724716,
          43.2813274,
          43.296998925211,
          43.2970305,
          43.29139737784013,
          43.2835198,
          43.31371048967844,
          43.295915808587,
          43.303765038242,
          43.3019284,
          43.29507835603476,
          43.2974566,
          43.28959,
          43.2944082,
          43.2935744,
          43.3010885,
          43.2951169,
          43.2914537,
          43.300122,
          43.292422536519,
          43.2821205,
          43.291837,
          43.28544424655721,
          43.296676965531,
          43.2934774,
          43.26873556781857,
          43.2907467,
          43.2935378,
          43.278692338557065,
          43.2994029,
          43.293005,
          43.2934092,
          43.2925382511127,
          43.30150105207449,
          43.2937579,
          43.2933393,
          43.30195653192128,
          43.3003879,
          43.293073883922,
          43.2976253846654,
          43.2973887092099,
          43.2970972,
          43.2946165,
          43.2974162,
          43.2928805,
          43.2896835,
          43.304229,
          43.2989299180569,
          43.296986,
          43.291472,
          43.2995377,
          43.236942,
          43.2921343,
          43.2997154,
          43.2985658,
          43.2993436,
          43.2552348,
          43.293450085815,
          43.2900578,
          43.2933693,
          43.29375197262,
          43.2981083,
          43.3016673,
          43.299681309444,
          43.2935779,
          43.2919198,
          43.27857844717706,
          43.269202,
          43.3113494,
          43.3082513,
          43.2979423,
          43.29389508943581,
          43.2922842,
          43.2953045,
          43.2914753,
          43.3013927,
          43.2979548,
          43.293028,
          43.2798554,
          43.29242721518883,
          43.2915219354041,
          43.29065980155582,
          43.288782,
          43.29412372437712,
          43.26842246475331,
          43.2478207538221,
          43.300156,
          43.2977204,
          43.295051,
          43.2933693,
          43.2995042728417,
          43.301021780980896,
          43.295949714257,
          43.292867,
          43.2848724,
          43.2936353,
          43.3023847,
          43.291504539685,
          43.2921892,
          43.2954927,
          43.2981083,
          43.2955354,
          43.2783467,
          43.2952081,
          43.297376,
          43.2963499,
          43.292873429729,
          43.3049309,
          43.308979,
          43.29823,
          43.291038,
          43.29655283229883,
          43.2999924,
          43.2910256,
          43.30230886253856,
          43.30365628872256,
          43.2902374,
          43.31730084488149,
          43.2993436,
          43.2933989,
          43.288923,
          43.2962694,
          43.293486,
          43.301265,
          43.2928522,
          43.2941043,
          43.2856131,
          43.3024211,
          43.2967096,
          43.2875039,
          43.2505303,
          43.301105,
          43.2907982,
          43.2851064,
          43.299648373838,
          43.298143,
          43.312771,
          43.2927298,
          43.3148132,
          43.2993436,
          43.2909627,
          43.2923699,
          43.301501651773,
          43.2932756,
          43.29958210977,
          43.293918,
          43.2914753,
          43.2968366,
          43.296695,
          43.302737,
          43.29586093016327,
          43.3021459,
          43.29626257342997,
          43.29156579194989,
          43.2926913,
          43.2981582,
          43.28118493790976,
          43.2983331,
          43.2918819,
          43.29813459373596,
          43.2863751,
          43.298896407937,
          43.294267,
          43.279513886819366,
          43.31327,
          43.29554688142727,
          43.2923316,
          43.2936163,
          43.293146507168,
          43.29732158640983,
          43.297258742836,
          43.26446358539696,
          43.3078968,
          43.293473512797,
          43.296975630751,
          43.2934153,
          43.2990715,
          43.298929,
          43.29105669794978,
          43.29937,
          43.3008084,
          43.300308050043,
          43.2976721962112,
          43.29178747117,
          43.2921892,
          43.3058248,
          43.296758185759,
          43.299004,
          43.30046625144968,
          43.2871194,
          43.312771,
          43.300201045042,
          43.300883515175,
          43.2964729,
          43.294147151100255,
          43.291911,
          43.2997182,
          43.302943517277306,
          43.299406222004926,
          43.30796539255421,
          43.2964335924209,
          43.2949337,
          43.3026266,
          43.2955354,
          43.3020388,
          43.2953257,
          43.297749124048,
          43.299550828597,
          43.3101149,
          43.29653858160117,
          43.30983566156,
          43.297242037683,
          43.296336113799,
          43.2941474,
          43.298566179974,
          43.3075071,
          43.295051,
          43.2964488,
          43.29641559604076,
          43.29691299749096,
          43.2971674,
          43.2975743,
          43.3050609,
          43.29409397403688,
          43.3024026,
          43.294952041057,
          43.3005928,
          43.300563,
          43.293578,
          43.29443607994325,
          43.28989895775723,
          43.2979715,
          43.297482233919744,
          43.276471076045965,
          43.29681825063989,
          43.297804,
          43.2921282168917,
          43.3003499,
          43.29722248036285,
          43.2978012,
          43.29475390009096,
          43.27456537014636,
          43.2953057,
          43.2927558,
          43.292788640997,
          43.2935229,
          43.3029349,
          43.3006912879024,
          43.2923699,
          43.286175,
          43.2934774,
          43.29308,
          43.2992886,
          43.3019835,
          43.29144140835704,
          43.2963221366093,
          43.2872463,
          43.30181903396203,
          43.298461766599,
          43.29220855923841,
          43.31284784421344,
          43.2911875036348,
          43.3039046,
          43.299162,
          43.261708,
          43.292048471347655,
          43.30244940382174,
          43.2991564,
          43.298528132925,
          43.30272423917592,
          43.2999265,
          43.2814456,
          43.293449487746,
          43.289887,
          43.2963526,
          43.283112,
          43.2986599,
          43.2949857,
          43.2929148,
          43.29868005219868,
          43.2917279,
          43.28031405307165,
          43.2985385,
          43.2950168,
          43.2925822,
          43.2945988,
          43.26947576628133,
          43.2826465,
          43.298366,
          43.2938392,
          43.2975792,
          43.289512,
          43.2844199,
          43.295024670603055,
          43.25480976136343,
          43.8302457,
          43.8372582,
          43.764647637826,
          43.857101,
          43.83887216845921,
          43.8281614,
          43.834472,
          43.830681608788,
          43.816811601397,
          43.83498456306126,
          43.8366979,
          43.83249328044521,
          43.8439216,
          43.8337176,
          43.77504,
          43.8353448,
          43.843062205851446,
          43.8410691,
          43.8307192,
          43.836775,
          43.8392614,
          43.83866612768399,
          43.8402154336462,
          43.837190171151,
          43.833558037421,
          43.8249518,
          43.8293475,
          43.8397992,
          43.8155763492052,
          43.83612815477216,
          43.8405851854602,
          43.83672747850507,
          43.78858215364223,
          43.8329823,
          43.83659172039393,
          43.83881509620307,
          43.830685478623,
          43.8364739,
          43.8365974,
          43.81877458821647,
          43.8343632920283,
          43.838991445926,
          43.834642,
          43.833059723729,
          43.8400032,
          43.840143177897,
          43.844501611743,
          43.83764693778527,
          43.8317644,
          43.855067,
          43.8359063,
          43.837147,
          43.81470734512981,
          43.833091767712,
          43.815334,
          43.833950102681,
          43.83322658736693,
          43.817748252913,
          43.8190886,
          43.8466769,
          43.8397992,
          43.763919,
          43.8413941,
          43.8358512,
          43.839762796252266,
          43.836649147239,
          43.8373841,
          43.84172130242399,
          43.8024552,
          43.85125652392709,
          43.841220181926,
          43.8326921,
          43.8367919,
          43.8388152000169,
          43.832979823108,
          43.8277958,
          43.8390948,
          43.845396,
          43.8305257,
          43.8313337,
          43.8360846879,
          43.8375758,
          43.836289849947,
          43.8344496,
          43.8400221,
          43.8330272990424,
          43.835587884123,
          43.8373322,
          43.8369992,
          43.8484999,
          43.8388343,
          43.8435788,
          43.8587306,
          43.837032,
          43.8356863,
          43.8282019,
          43.8418084,
          43.8401448,
          43.844355886341,
          43.8224671,
          43.829167376758,
          43.8430669,
          43.819014,
          43.837101385709,
          43.8402033676236,
          43.832055902146784,
          43.8386227,
          43.83299,
          43.835300929702,
          43.8354206497776,
          43.8344075,
          43.8446605,
          43.836121,
          43.83338849416828,
          43.83067046541439,
          43.8283062,
          43.8386315,
          43.83535342873098,
          43.8376687,
          43.8361979,
          43.836465711387,
          43.8368299,
          43.8386211,
          43.837507,
          43.8363164,
          43.83581534027453,
          43.841024,
          43.8400042,
          43.837373261583,
          43.8334438,
          43.8366979,
          43.8344496,
          43.8360256,
          43.8391566,
          43.836776,
          43.8386349,
          43.8376544,
          43.8334605,
          43.83500851700751,
          43.833669,
          43.8436004,
          43.834845,
          43.764496,
          43.8373218,
          43.828005,
          43.8370362,
          43.815377,
          43.8403329,
          43.8436209,
          43.83172268679,
          43.83642381634261,
          43.83175754591007,
          43.835114313692856,
          43.8242915,
          43.829368245185,
          43.820576747716174,
          43.8367908,
          43.824581,
          43.837117,
          43.84345325137813,
          43.82476592223733,
          43.833162,
          43.8364516,
          43.8397992,
          43.8394412,
          43.8311178,
          43.8376481,
          43.83839743038,
          43.8387302,
          43.8430619235136,
          43.829170655751,
          43.8363901,
          43.836314663341,
          43.8364496,
          43.8371976,
          43.8409876,
          43.837506359237,
          43.838987,
          43.8369992,
          43.8403071,
          43.8462939,
          43.83433186355036,
          43.8529982,
          43.8396,
          43.8423099,
          43.8391021,
          43.8403329,
          43.81389058589602,
          43.8279568,
          43.8400152,
          43.842895770105,
          43.8315282,
          43.838424140489,
          43.835665,
          43.82273112028273,
          43.8397992,
          43.8377379,
          43.8441678,
          43.8309446498752,
          43.838773872288,
          43.8394483,
          43.8379994,
          43.8432109,
          43.83899501872372,
          43.8185976,
          43.836818485482,
          43.83959475654075,
          43.831676,
          43.835033,
          43.8420013,
          43.8397616,
          43.8391465,
          43.8366979,
          43.83231619225275,
          43.870469,
          43.8359086,
          43.8314461,
          43.863235,
          43.8389888,
          43.8366202,
          43.8338128,
          43.8399424,
          43.821585485623,
          43.831888,
          43.8715591,
          43.83504,
          43.834061872209,
          43.8348089,
          43.817641206833,
          43.8340536,
          43.83910746534,
          43.8293741,
          43.8396,
          43.82720148087,
          43.8462939,
          43.7884518923488,
          43.8340525375905,
          43.8374665580467,
          43.8375714,
          43.840300891726834,
          43.858978290344304,
          43.83503622761188,
          43.836455932831,
          43.8303058,
          43.8357080841776,
          43.837850766982,
          43.8333998,
          43.84050306879504,
          43.8341668829,
          43.8157834,
          43.8366431,
          43.8271491,
          43.8350985,
          43.8394098,
          43.811083,
          43.8371907,
          43.8306183,
          43.8338735348897,
          43.853429614664726,
          43.8370571,
          43.878316,
          43.83924609708261,
          43.813455,
          43.8380024,
          43.83601401001346,
          43.8396639,
          43.8389359,
          43.8377075,
          43.8388178,
          43.83546975589,
          43.8358929,
          43.8389623,
          43.8283812,
          43.8219111,
          43.8393537,
          43.8371679,
          43.8618509,
          43.8283812,
          43.836397133369,
          43.837246912283,
          43.8351646,
          43.81465315292002,
          43.84311376639754,
          43.84096628899219,
          43.8364534,
          43.834602176138,
          43.83775973328918,
          43.829366750289,
          43.44888,
          43.451133,
          43.4511962,
          43.530588541531,
          43.450156085986,
          43.4554278,
          43.509412036695,
          43.4513558,
          43.46610858465653,
          43.45233085980016,
          43.456062,
          43.4506469,
          43.4548405,
          43.519283199713776,
          43.455079047447,
          43.51820734035656,
          43.456062,
          43.4556808,
          43.4556909,
          43.505912,
          43.4726010948223,
          43.4555236,
          43.4682323,
          43.52955573153413,
          43.51843095632948,
          43.48084841991246,
          43.452127,
          43.451262707455,
          43.4496994,
          43.50038851809,
          43.459787950427895,
          43.494388371786,
          43.453345311806814,
          43.4537206,
          43.4522007,
          43.453735,
          43.52335152007917,
          43.4560081,
          43.517453272936,
          43.471842348919495,
          43.4517921,
          43.4694592,
          43.46825892710614,
          43.4574672,
          43.451222809689,
          43.51745414613,
          43.45105644252057,
          43.517237372758,
          43.4506,
          43.4575275130489,
          43.4555719,
          43.4531602823013,
          43.46150340839188,
          43.46641,
          43.4522327,
          43.471284082759,
          43.4515699,
          43.47030030178336,
          43.4513988,
          43.45463817799243,
          43.455638511333,
          43.4670806017128,
          43.454894706347,
          43.4540756,
          43.4519357,
          43.4556012,
          43.505912,
          43.4542179,
          43.452086,
          43.450623533652,
          43.467968,
          43.4549054,
          43.4537617,
          43.5242848712149,
          43.4537024,
          43.455483019525,
          43.48647017912312,
          43.4522074,
          43.4540023,
          43.4522922,
          43.455521564826,
          43.4568224,
          43.455923150066,
          43.465429806270365,
          43.455436128292,
          43.55206477768196,
          43.452178,
          43.45359222026908,
          43.52070496070054,
          43.453433711578,
          43.4680124,
          43.4533784,
          43.45511325,
          43.460701304732,
          43.456062,
          43.452086,
          43.4520524,
          43.45106617843045,
          43.4991959497117,
          43.4512537,
          43.4515406,
          43.46230329419481,
          43.4682125774839,
          43.4552082,
          43.4687385264013,
          43.51731484361677,
          43.45582204989434,
          43.5192542,
          43.451548,
          43.4827336636735,
          43.497889,
          43.4554949,
          43.453848689005,
          43.4526024,
          43.4541867,
          43.482230792829,
          43.46575555626723,
          43.4551249427373,
          43.473476224115,
          43.517298542478,
          43.48437667045639,
          43.4705449,
          43.45511325,
          43.4711103,
          43.4524314,
          43.452618,
          43.46095607974298,
          43.451933,
          43.4558858,
          43.4513988,
          43.452083,
          43.455801,
          43.5180486083741,
          43.4727901472088,
          43.4550983,
          43.45466330000001,
          43.45831607535757,
          43.49245834847479,
          43.45262779808949,
          43.4510799,
          43.468120966674,
          43.4559096,
          43.4527093597242,
          43.4502327,
          43.4560264,
          43.4555236,
          43.45349134476366,
          43.55163,
          43.4834041127563,
          43.4509283,
          43.4513494927218,
          43.4513988,
          43.454108,
          43.455931,
          43.45656073449883,
          43.4531568,
          43.457203227647,
          43.456039733313,
          43.4514781479447,
          43.4573426,
          43.4524704,
          43.47209792548598,
          43.4538126,
          43.451556313409,
          43.45033695444248,
          43.517416045072,
          43.4562947,
          43.451253,
          43.51369315905648,
          43.5242848712149,
          43.502233,
          43.502879797321,
          43.4521814,
          43.47145265577682,
          43.467296,
          43.454349768093,
          43.48931179659003,
          43.520389,
          43.4520866,
          43.5139718,
          43.4722440373351,
          43.4549074,
          43.5221283,
          43.450391476166224,
          43.50225829693769,
          43.452086,
          43.45372127812431,
          43.4522793,
          43.4522771,
          43.4543988,
          43.528829,
          42.5273396,
          42.528101,
          42.5232871,
          42.52417280573015,
          42.522408,
          42.5286725,
          42.5232215,
          42.5274896,
          42.523935,
          42.527384,
          42.52556369773399,
          42.523646081601086,
          42.52652,
          42.52404981792097,
          42.528362583344,
          42.5231175442504,
          42.5234385,
          42.523756509155,
          42.5219555,
          42.5219555,
          42.523217,
          42.5233096,
          42.522408,
          42.523706167063,
          42.52638625163285,
          42.5236708,
          42.523145,
          42.523474,
          42.523217,
          42.5224086,
          42.5287646672607,
          42.5250726749784,
          42.52237104225748,
          42.522925,
          42.52439,
          42.52612488316423,
          42.5252123,
          42.52505,
          42.5271632435394,
          42.523645,
          42.523699,
          42.5256292,
          42.52174294696031,
          42.52505,
          42.52389238080244,
          42.522211321944,
          42.526044261338,
          42.5242508,
          42.52445306216,
          42.527831,
          42.524763,
          42.522408,
          42.527543,
          42.522925,
          42.52096363962056,
          42.52738844439548,
          42.5259943,
          42.527593,
          42.524788,
          42.52396992202,
          42.527384,
          42.5244310979188,
          42.5209082,
          42.52505,
          42.526155660399,
          42.5233452832972,
          42.52371617082933,
          42.527101760049,
          42.523212,
          42.522542,
          42.52260226635246,
          42.52298110659616,
          42.5217335,
          42.525217,
          42.523411,
          42.52488242025802,
          42.528206610227,
          42.522027,
          42.523599,
          42.526378142609,
          42.5244929,
          42.5254626,
          42.521802406398,
          42.5225902,
          42.52446338983836,
          42.524608160146,
          42.52182291325428,
          42.52534777273077,
          42.5236694,
          42.5238821,
          42.528908293531,
          42.524735737595,
          42.5275373,
          42.5288176609903,
          42.5273147,
          42.5275113,
          42.522155,
          42.527502,
          42.5226616,
          42.52446338983836,
          42.528223355826,
          42.522099,
          42.523431,
          42.522027,
          42.527572,
          42.526744,
          42.528517885717065,
          42.522222703113,
          42.523626,
          42.527392290863,
          42.520944567338,
          42.523431,
          42.523786209748,
          42.522698010833,
          42.523431,
          42.522027,
          42.5231333,
          42.5196399140215,
          42.524114491069405,
          42.5261183,
          42.52269623927112,
          42.5240672,
          42.52354809682024,
          42.52580173141505,
          42.520940053768,
          42.5246992,
          42.527415,
          42.528085,
          42.52111689594046,
          42.5234555,
          42.525823,
          42.525109085373,
          42.5271222,
          42.523507820834574,
          42.5246635,
          42.525495092041,
          42.52195717329288,
          42.527114840582,
          42.5233736,
          42.5209807,
          42.5215262,
          42.5273128,
          42.5231685,
          42.5227675,
          42.522198854372,
          42.524763,
          42.523972314191,
          42.522124,
          42.5232494,
          42.5252849,
          42.522889,
          42.5232152,
          42.5242508,
          42.520426,
          42.5218134892157,
          42.5275693,
          42.527768,
          42.5275291,
          42.52505,
          42.527502,
          42.525133,
          42.52298767656799,
          42.5233222,
          42.52332055963676,
          42.526102783532,
          42.526207,
          42.525937881854,
          42.5236262,
          42.524890271487,
          42.5238821,
          42.526851,
          42.525089223007,
          42.5235666,
          42.5241089,
          42.522107537858,
          42.528009,
          42.52328653892045,
          42.5224506,
          42.5229,
          42.5241526,
          42.5244934,
          42.52403882743498,
          42.527300950061466,
          42.52470143407,
          42.5233736,
          42.5239628,
          42.5225882,
          42.52444507978935,
          42.526853223817,
          42.52666545948847,
          42.5261352105839,
          42.525913165087,
          42.5234085,
          42.522267294742,
          42.525605,
          42.52709583002456,
          42.5243249,
          42.52409609051957,
          42.5211841,
          42.5271579,
          42.52262896250303,
          42.5209334,
          42.527761,
          42.52538158720205,
          42.52182,
          42.523217,
          42.5226094,
          42.5227806768165,
          42.5261183,
          42.5268578,
          42.5261673320343,
          42.5288828,
          42.526992214747,
          42.52547152830637,
          42.52891105527,
          42.52591431339357,
          42.528688,
          42.52213429171691,
          42.525953,
          42.5248284,
          42.5275373,
          42.5270692,
          42.523350357416,
          42.5247686,
          42.5272956,
          42.522155,
          42.5273788,
          42.524737,
          42.525106327083726,
          42.5250249,
          42.523533,
          42.5262,
          42.522155,
          42.5273935
         ],
         "legendgroup": "",
         "lon": [
          5.53799835582,
          5.5388642,
          5.530672945026,
          5.540549206745924,
          5.5377111,
          5.5378404,
          5.532796,
          5.549366977909842,
          5.536858199370984,
          5.5431287000000005,
          5.533696934580803,
          5.5387002,
          5.5391603,
          5.536263040198,
          5.535288056448735,
          5.540304,
          5.538345555727,
          5.5410127,
          5.547913,
          5.538857035581972,
          5.536860933252505,
          5.535683695059896,
          5.530917756603,
          5.536936128311,
          5.533262693918,
          5.544276774128805,
          5.511910519238427,
          5.527500119967,
          5.52753012718,
          5.5381569,
          5.544555126459,
          5.538958087563515,
          5.551298106220997,
          5.541385130619,
          5.5369932,
          5.530255613708505,
          5.5418386,
          5.539561,
          5.539805,
          5.548132,
          5.5388441,
          5.5423693,
          5.533251965082,
          5.538615728836,
          5.53745873272419,
          5.538503,
          5.538830907143,
          5.541797357147,
          5.538845410392,
          5.534756271164,
          5.5338211,
          5.5375423,
          5.5345386,
          5.5423496,
          5.5394275,
          5.5518859,
          5.544855,
          5.539487642495,
          5.53719,
          5.5445883,
          5.5405869,
          5.5401764,
          5.5323136,
          5.535770615869208,
          5.5419605,
          5.535190430897,
          5.541010096308838,
          5.536331,
          5.534905,
          5.548154100000033,
          5.535681865746,
          5.53206038485,
          5.5361313,
          5.537559804578636,
          5.5330395,
          5.537070546033,
          5.550526854603572,
          5.5384481,
          5.535849433343194,
          5.5368932,
          5.5447594969147085,
          5.5377111,
          5.543119836052,
          5.53802689265,
          5.5316395,
          5.5359079,
          5.5399611,
          5.545949635229,
          5.5388335,
          5.537704,
          5.5458742,
          5.541446,
          5.5264416,
          5.54221549885,
          5.542379,
          5.5399611,
          5.5479143141556,
          5.532999184656,
          5.5505496,
          5.54479765519068,
          5.55305,
          5.5472613,
          5.5401866,
          5.526393,
          5.5286144,
          5.5410127,
          5.5545881,
          5.535644,
          5.53862,
          5.5349306,
          5.5295811,
          5.535986460713,
          5.5565709,
          5.5387555,
          5.538568585879,
          5.53438313299921,
          5.533407926559448,
          5.541745724536895,
          5.540146976709366,
          5.536274230688,
          5.534319369836,
          5.5399636,
          5.537844205505,
          5.5343122000000005,
          5.5390438,
          5.5320574,
          5.5348871,
          5.5344976,
          5.530949017791,
          5.536331,
          5.539700449428,
          5.544644124606,
          5.543384896958969,
          5.536331,
          5.5377789,
          5.53635835647583,
          5.53871333599091,
          5.541321723031625,
          5.5442257,
          5.5352654,
          5.5383415,
          5.531262829899788,
          5.5401764,
          5.547312085181,
          5.5316933,
          5.5403483,
          5.5389132,
          5.5387306,
          5.54631,
          5.5365082,
          5.5391385,
          5.537844044109,
          5.532286826482,
          5.529339623930629,
          5.5346136,
          5.537900277659,
          5.535734,
          5.531286846217,
          5.542900264263153,
          5.541280210018158,
          5.5404424,
          5.535494889549,
          5.538153308598,
          5.529711608706651,
          5.5420984,
          5.5388141,
          5.5382664,
          5.5374159,
          5.530621819049069,
          5.529502,
          5.534222829639,
          5.53052385687,
          5.5359367,
          5.5349404,
          5.530769654769894,
          5.538174054596,
          5.537867674834,
          5.551697951065,
          5.526102259755135,
          5.530871601852,
          5.537187011709,
          5.535294860601425,
          5.538139,
          5.544784488982444,
          5.5379519,
          5.5451956,
          5.544855,
          5.529711338231,
          5.53859,
          5.538636982208929,
          5.535953693565,
          5.5339441,
          5.5318121,
          5.53784390552255,
          5.53579460412139,
          5.53807378158,
          5.537239,
          5.530903121951,
          5.5240701,
          5.54822813261,
          5.552433623867,
          5.545193552970886,
          5.538668,
          5.540014,
          5.543808958512,
          5.53881179999996,
          5.524701520789677,
          5.536331,
          5.5388649,
          5.536090800000011,
          5.540488854523,
          5.553046,
          5.5361313,
          5.532145139951,
          5.5533907839920005,
          5.5419429,
          5.534749031066895,
          5.538612584656,
          5.542296251520531,
          5.5397747,
          5.54248719529,
          5.562353,
          5.542334739148,
          5.53372930318,
          5.533101761377,
          5.535750025999158,
          5.531853974548,
          5.541832,
          5.538573098411357,
          5.522897403123,
          5.535976578609,
          5.5416742,
          5.538824,
          5.5334828,
          5.534492574291,
          5.5451816,
          5.534529855454795,
          5.536067028242,
          5.542335019574,
          5.5358322,
          5.539761013492,
          5.5451816,
          5.538717,
          5.5350758,
          5.5382084,
          5.5431287000000005,
          5.5394424,
          5.5397868,
          5.531492029531,
          5.5446442000000005,
          5.538617069941,
          5.53235,
          5.5401764,
          5.5401866,
          5.537926946033,
          5.540134121427,
          5.5358322,
          5.5376451,
          5.5382298,
          5.537602960119,
          5.536496,
          5.5406628,
          5.5528958,
          5.5221918,
          5.5377111,
          5.546230537048,
          5.540767,
          5.530461115344,
          5.5388077,
          5.529700999999999,
          5.536138,
          5.5307965,
          5.54535190000001,
          5.5232463,
          5.5390143,
          5.532989,
          5.542724,
          5.5391603,
          5.53460244166412,
          5.5405653,
          5.5360761,
          5.5414116,
          5.534377565607,
          5.5397319,
          5.53319290000002,
          5.542284236489,
          5.543612509787,
          5.538866453373,
          5.5387002,
          5.54109,
          5.5497618,
          5.535301704824,
          5.54931409999995,
          5.53168099999994,
          5.5382515,
          5.548646708818,
          5.5397868,
          5.3682785829253135,
          5.3750415,
          5.36974623799324,
          5.3635976,
          5.364717015344,
          5.3820746,
          5.3719362616539,
          5.3783739,
          5.40388192065429,
          5.374427457672,
          5.370632398148,
          5.3664731,
          5.375010073184967,
          5.3794166,
          5.354999,
          5.3841845,
          5.3747144,
          5.369916,
          5.376166300000023,
          5.3729767,
          5.368456,
          5.385329325131,
          5.3887107,
          5.3677745,
          5.351253747940064,
          5.373371023505,
          5.3747757,
          5.36907434463501,
          5.3566544,
          5.3740944,
          5.388060361146927,
          5.366880400000014,
          5.3768201,
          5.3782308,
          5.37886038422584,
          5.371796812303153,
          5.3774478,
          5.3765135,
          5.372294336557388,
          5.3701941,
          5.376121393254,
          5.38653412618663,
          5.38125042926626,
          5.366425,
          5.3774932,
          5.3653257,
          5.3696625,
          5.495461400000067,
          5.376624,
          5.3870947659015656,
          5.379321,
          5.3693788,
          5.3681625,
          5.360786,
          5.3749188,
          5.3683874,
          5.3680194,
          5.3801118,
          5.3835876,
          5.37461463261,
          5.363961,
          5.384886,
          5.386397748621,
          5.3659528,
          5.3660005,
          5.369269220238,
          5.3746796,
          5.3831778,
          5.358318015933037,
          5.393839,
          5.371730299999967,
          5.3720707,
          5.3673539,
          5.386783945368974,
          5.3738144,
          5.3763499,
          5.3573491,
          5.3896986,
          5.3650581,
          5.376161,
          5.390495999999985,
          5.360845327377319,
          5.404032245278359,
          5.388730535651348,
          5.378967,
          5.374639928340912,
          5.3940965245369625,
          5.374908149242401,
          5.368665,
          5.3852132,
          5.376197,
          5.376677,
          5.367907513804653,
          5.380607843399048,
          5.374552592699,
          5.371569,
          5.3611285,
          5.3734721,
          5.3858777,
          5.37748586526,
          5.3700136,
          5.3641706,
          5.3659528,
          5.377045,
          5.3806843,
          5.3768177,
          5.365288,
          5.365648700000065,
          5.3737395295,
          5.4418754,
          5.376493,
          5.371816,
          5.3706053,
          5.371883288025856,
          5.3648684,
          5.3679118,
          5.376911759376526,
          5.36660335958004,
          5.3733863,
          5.405195653438568,
          5.3801118,
          5.3752459,
          5.391256,
          5.3903399,
          5.37353,
          5.370879,
          5.3892722,
          5.3797184,
          5.3580866,
          5.36863370000003,
          5.3848963,
          5.3660878,
          5.3814817,
          5.371282,
          5.369297,
          5.3781991,
          5.369242926984,
          5.385438,
          5.367682,
          5.3774359,
          5.36946510000007,
          5.3801118,
          5.376429199999961,
          5.3761148,
          5.370663509262,
          5.373751,
          5.367199747885,
          5.375355,
          5.3573491,
          5.366187,
          5.372832,
          5.365624,
          5.378317907452583,
          5.3766835,
          5.366011313491805,
          5.382191605154503,
          5.3724202,
          5.3670792,
          5.35933256149292,
          5.3663206,
          5.373078899999999,
          5.368697494268417,
          5.3709143,
          5.378660553967,
          5.3767997,
          5.389181375376211,
          5.40482,
          5.374745875597,
          5.3820033,
          5.3762272,
          5.378363829091,
          5.377538988360584,
          5.369318317807,
          5.375921353697777,
          5.370267,
          5.374593068726,
          5.376971912955,
          5.3762988,
          5.367977,
          5.3806562,
          5.404340028762817,
          5.368293,
          5.3883507,
          5.370672774869,
          5.36816442576026,
          5.369217198148,
          5.3700136,
          5.3839557,
          5.377014579902,
          5.366155,
          5.374441573016384,
          5.3887035,
          5.367681999999999,
          5.38260245,
          5.381252387207,
          5.378766,
          5.378321260213852,
          5.358376,
          5.3688115,
          5.382228344569739,
          5.372724160552025,
          5.367465019226074,
          5.371427050926196,
          5.3836805,
          5.3891602,
          5.377045,
          5.3723114,
          5.3771871,
          5.36706444785,
          5.368227906783,
          5.3703396,
          5.372706055641174,
          5.392774932540874,
          5.369257642591,
          5.373321198148,
          5.374939299999999,
          5.377616633534,
          5.3710394,
          5.376197,
          5.3912353,
          5.372060984373093,
          5.366973401196109,
          5.3912804,
          5.368091,
          5.3711871,
          5.374322145368975,
          5.3655243,
          5.376163497128,
          5.3760704,
          5.396622,
          5.37468,
          5.374782085418701,
          5.382167547941208,
          5.3674471,
          5.365176077280811,
          5.391197204589844,
          5.373057425022125,
          5.3731598,
          5.36640930370481,
          5.3706362,
          5.366535094477513,
          5.3732279,
          5.3762780874967575,
          5.393511426914188,
          5.3775586,
          5.3745099,
          5.372060574222,
          5.3792384,
          5.3785872,
          5.38014894418029,
          5.3761148,
          5.3736205,
          5.3747757,
          5.3740193,
          5.3803749,
          5.3727927,
          5.370275974273682,
          5.36728262901306,
          5.375617,
          5.379447129296864,
          5.367424328242,
          5.373554974794388,
          5.391983091831207,
          5.383717864751816,
          5.3998743,
          5.401543,
          5.396245499999964,
          5.359777808189392,
          5.365721583366394,
          5.3863437,
          5.372487938493,
          5.379330441355705,
          5.3806062,
          5.374837,
          5.371719909262,
          5.373079,
          5.370626,
          5.374904,
          5.3680194,
          5.37622110000007,
          5.3730475,
          5.375325232744217,
          5.3747553,
          5.353870242834091,
          5.3666662,
          5.391470399999999,
          5.3750006,
          5.3756516,
          5.388233363628388,
          5.388536,
          5.366231,
          5.3788953,
          5.3848145,
          5.36367,
          5.3519368,
          5.375057011842728,
          5.381653904914856,
          4.3644799,
          4.3548699,
          4.363040266503,
          4.347915,
          4.369747638702393,
          4.354790200000025,
          4.356771,
          4.358587887172,
          4.326564787173,
          4.349662036277393,
          4.3583696,
          4.367856681346893,
          4.3558305,
          4.3506009,
          4.347532,
          4.3495147,
          4.3590860350543,
          4.3535352,
          4.3548016,
          4.356929,
          4.3575039,
          4.352767914533615,
          4.362291753967624,
          4.357338824391,
          4.398547290376,
          4.350597,
          4.3612702,
          4.3615813,
          4.346603527665138,
          4.361269945351637,
          4.356189937532942,
          4.36477119672829,
          4.35380257666111,
          4.3548872,
          4.361411283197612,
          4.3548184633255005,
          4.358591910485,
          4.3610694,
          4.3594056,
          4.32454473743439,
          4.365336745977402,
          4.357001412255,
          4.373918,
          4.355228226984,
          4.3569591,
          4.358334849074,
          4.361910454456,
          4.356423185319507,
          4.3527839,
          4.4006138,
          4.3594594,
          4.3604613,
          4.344832599163055,
          4.35532594418,
          4.34405200000003,
          4.353074330726,
          4.365549981594086,
          4.320133406746,
          4.3460265,
          4.3500922,
          4.3615813,
          4.357345,
          4.3056266,
          4.3598703,
          4.3569419908074,
          4.358286242328,
          4.3492808,
          4.357260285126698,
          4.3095865,
          4.300739765167236,
          4.319945204551,
          4.3576169,
          4.358027,
          4.36241362382685,
          4.355740440868,
          4.3578628,
          4.3592829,
          4.368959,
          4.3553716,
          4.3552491,
          4.35637221586,
          4.3561496,
          4.356396247416,
          4.3545259,
          4.3667297,
          4.366189688444138,
          4.364194144775,
          4.3628696,
          4.359022,
          4.3635227,
          4.3699188,
          4.361474,
          4.3925497,
          4.363037,
          4.3585101,
          4.366862,
          4.3578191,
          4.3699775,
          4.359581484061,
          4.358637,
          4.359067865827,
          4.3590732,
          4.325773,
          4.359677134934,
          4.35542788611413,
          4.3673644959926605,
          4.3604271,
          4.3625148,
          4.353698158724,
          4.363404214382172,
          4.3472725,
          4.362017,
          4.356573,
          4.350403323108312,
          4.370596260747908,
          4.3856935,
          4.3694809,
          4.365010861676457,
          4.3634582,
          4.3565732,
          4.358157874869,
          4.3620121,
          4.3167822,
          4.3651684,
          4.3584847,
          4.359140172600746,
          4.359022,
          4.362314,
          4.360406071758,
          4.360387,
          4.3583696,
          4.3545259,
          4.3542449,
          4.3601059,
          4.358018,
          4.3734218,
          4.3643214,
          4.3544119,
          4.349724896744944,
          4.350552,
          4.3679769,
          4.3563674,
          4.363017,
          4.3593779,
          4.3749621,
          4.3624908,
          4.345905,
          4.370304,
          4.3676339,
          4.357071383575,
          4.364745318889618,
          4.36697356402874,
          4.36398609073791,
          4.3579782,
          4.357869620164,
          4.319126978516579,
          4.3539616,
          4.350535,
          4.357898,
          4.334014696859945,
          4.369046241044998,
          4.366397,
          4.3548183,
          4.3615813,
          4.3667511,
          4.3558908,
          4.3600859,
          4.359516114667,
          4.3465734,
          4.33440423123322,
          4.35692072209,
          4.3736855,
          4.3578297699410005,
          4.3519168,
          4.3558817,
          4.3424037,
          4.364554406152,
          4.3670075,
          4.359022,
          4.3702517,
          4.415222,
          4.367129892088997,
          4.3789289,
          4.3562922,
          4.3595037,
          4.3610494,
          4.370304,
          4.34434175491333,
          4.3750203,
          4.3542077,
          4.358120299336,
          4.3600183,
          4.359522442328,
          4.3521246,
          4.364125728607178,
          4.3615813,
          4.3596844,
          4.3809475,
          4.36287749743395,
          4.363837569914,
          4.3669183,
          4.3709063,
          4.3603067,
          4.36281144618988,
          4.3552685,
          4.359311678574,
          4.3610841035842896,
          4.36020259999998,
          4.3546047,
          4.363243,
          4.3567186,
          4.3613505,
          4.3583696,
          4.361064000559605,
          4.40491,
          4.3582994,
          4.3539956,
          4.39901,
          4.3684168,
          4.3527914,
          4.3095559,
          4.3688183,
          4.364597797393799,
          4.3522837,
          4.3658085,
          4.354576,
          4.358990652779,
          4.3545282,
          4.320036424537,
          4.3649237,
          4.368368268521,
          4.3612757,
          4.3562922,
          4.356087825795,
          4.415222,
          4.353842326476183,
          4.35391953352786,
          4.35176469789235,
          4.3548375,
          4.363148733973503,
          4.34992061622097,
          4.349534724060504,
          4.358808890744,
          4.3547227,
          4.36837709259035,
          4.366475922684,
          4.3256918,
          4.359051889410466,
          4.350478454649,
          4.346312699999999,
          4.3548636,
          4.3559335,
          4.355139,
          4.3563646,
          4.2986312,
          4.3598651,
          4.3695378,
          4.361433959524561,
          4.397474462257711,
          4.3660579,
          4.403321,
          4.361900083088813,
          4.394221,
          4.3709105,
          4.359911440811883,
          4.3567599,
          4.3763998,
          4.3648835,
          4.3621534,
          4.358533313492,
          4.3651165,
          4.3718843,
          4.363363,
          4.3259879,
          4.3598249,
          4.3312587,
          4.291805,
          4.363363,
          4.358736246016,
          4.361376359256,
          4.3484648,
          4.344309568405151,
          4.367641399999984,
          4.391212640544836,
          4.3552041,
          4.35805807057,
          4.36387225985527,
          4.357897132246,
          4.40168,
          4.430953,
          4.43050689999995,
          4.368457848544,
          4.427183442392,
          4.4347318,
          4.35502100632859,
          4.4284683,
          4.414092600345612,
          4.433649927377701,
          4.4314201,
          4.4246999,
          4.4276888,
          4.398849606513977,
          4.430978713492,
          4.374786168336868,
          4.4314201,
          4.4296372,
          4.4300057,
          4.632300999999984,
          4.410120248794556,
          4.4299137,
          4.41226,
          4.400550127029419,
          4.377826452255249,
          4.403367653220016,
          4.425347,
          4.42817331419,
          4.418984,
          4.427241002655,
          4.423284530639648,
          4.435344004115,
          4.430665969848633,
          4.4296668,
          4.4263366,
          4.429859,
          4.410323853195223,
          4.4293162,
          4.373748195701,
          4.411565959453583,
          4.428392099999996,
          4.4109123,
          4.415302658756843,
          4.4315286,
          4.42666831779093,
          4.373770185181,
          4.425156712532044,
          4.373673093848,
          4.426,
          4.428318190029317,
          4.430204,
          4.43543936927348,
          4.429327614584508,
          4.415518,
          4.427237,
          4.409633720902,
          4.4285989,
          4.395303726196289,
          4.4312679,
          4.433201998472214,
          4.434994942077,
          4.404511749744415,
          4.429735886807,
          4.430127,
          4.4273127,
          4.4301576,
          4.632300999999984,
          4.4301232,
          4.4308959,
          4.424691853373,
          4.41264,
          4.4286995,
          4.4283258,
          4.374673413046764,
          4.4355959,
          4.430791880383,
          4.404155015945435,
          4.4266033,
          4.4273706,
          4.4261392,
          4.430887881816,
          4.4298045,
          4.434268589816,
          4.419631361961365,
          4.429611946627,
          4.418813288211823,
          4.428116,
          4.425052921461088,
          4.410224693856435,
          4.435737318524,
          4.4126519,
          4.4261842,
          4.4286382,
          4.421032951081,
          4.4314201,
          4.4308959,
          4.4310913,
          4.4250936806201935,
          4.3775008310331,
          4.4287976,
          4.4283073,
          4.420519173145294,
          4.395632296800613,
          4.4298544,
          4.41313419528001,
          4.367329627275467,
          4.429660299223537,
          4.3750424,
          4.428456,
          4.39518570899963,
          4.4315282,
          4.4295394,
          4.424928820072,
          4.4275538,
          4.4301232,
          4.395772107933,
          4.413934350013733,
          4.42874014377594,
          4.409845006325,
          4.374499746033,
          4.394996703735354,
          4.4094485,
          4.4286382,
          4.4097318,
          4.4307369,
          4.427496,
          4.422318935394287,
          4.43259520000004,
          4.430125,
          4.4312679,
          4.425598,
          4.436295,
          4.378014206886292,
          4.40106511116028,
          4.4295344,
          4.4319329,
          4.4252318143844604,
          4.444076008026059,
          4.430766552686691,
          4.42569,
          4.41383823013,
          4.4303334,
          4.42869102334816,
          4.4291014,
          4.4303763,
          4.4299137,
          4.435451030731201,
          4.419122,
          4.39244583249092,
          4.4271402,
          4.425076246261597,
          4.4312679,
          4.42944,
          4.4337559,
          4.426702927230849,
          4.4261789,
          4.429022279523,
          4.428967679762,
          4.42833170649299,
          4.4281297,
          4.4308359,
          4.4104622304439545,
          4.429636,
          4.428277498148,
          4.426224231719971,
          4.373738183433,
          4.4276664,
          4.425775,
          4.635557201744094,
          4.374673413046764,
          4.393335,
          4.393035667212,
          4.431478,
          4.401826858520508,
          4.413867,
          4.427723094089,
          4.403946962333976,
          4.4009803,
          4.42584239999996,
          4.4181699,
          4.40981451349182,
          4.4318822,
          4.4025521,
          4.429912269115448,
          4.425757527351379,
          4.4308959,
          4.4282491098216825,
          4.432734,
          4.4287172,
          4.4301466,
          4.398811,
          3.0837536,
          3.0853391,
          3.0919858,
          3.089310675859452,
          3.08694,
          3.0772025,
          3.0844959,
          3.0826114,
          3.0844694,
          3.0846933,
          3.082796720866781,
          3.10184102920533,
          3.081826,
          3.0965528377608287,
          3.078163327647,
          3.08542529814758,
          3.0850118,
          3.083516573096,
          3.0878545,
          3.0878545,
          3.097471,
          3.0872827,
          3.08694,
          3.098367606706,
          3.083256594836712,
          3.0859248,
          3.0867856,
          3.090469,
          3.097471,
          3.0869409,
          3.078654259443283,
          3.09015686742441,
          3.081095758396941,
          3.085936,
          3.082726,
          3.075606643377693,
          3.0824326,
          3.0831554,
          3.08501510478597,
          3.083391,
          3.082707,
          3.0803849,
          3.0940299067459254,
          3.0831554,
          3.08739067301633,
          3.088238145941,
          3.081881079366,
          3.0824124,
          3.082565911639,
          3.085798,
          3.082091,
          3.08694,
          3.085355,
          3.085936,
          3.0736614501775783,
          3.082244123794226,
          3.0819807,
          3.082081,
          3.098568,
          3.077311134393,
          3.0846933,
          3.09031585214175,
          3.0869726,
          3.0831554,
          3.082232831929,
          3.08696843573436,
          3.08713473379612,
          3.084494717791,
          3.08668,
          3.085562,
          3.0916003337990787,
          3.0873043662110344,
          3.0728738,
          3.068941,
          3.08674,
          3.0818789317017803,
          3.075294334109,
          3.087054,
          3.085051,
          3.07982304607,
          3.0970732,
          3.0807269,
          3.094243597623,
          3.0715159,
          3.098745346069336,
          3.082648757417,
          3.0937092098175123,
          3.0903244632682725,
          3.0835579,
          3.0844023,
          3.077577378821,
          3.096904763754,
          3.0795944,
          3.07838615618772,
          3.0763881,
          3.0849647,
          3.088568,
          3.082334,
          3.0729444,
          3.098745346069336,
          3.084889264206,
          3.093978,
          3.086495,
          3.087054,
          3.0846323,
          3.083767200000011,
          3.078624988954971,
          3.085725856869,
          3.085945,
          3.082283396313,
          3.087079471758,
          3.097688,
          3.084646029736,
          3.081925173016,
          3.097688,
          3.087054,
          3.0855761,
          3.07425141334534,
          3.0893656611442566,
          3.0799531,
          3.0924821386230583,
          3.0879529,
          3.081873793982936,
          3.080862482795257,
          3.073428166132,
          3.0968373,
          3.085054,
          3.085367,
          3.0773091316223145,
          3.0855069,
          3.07817,
          3.0788752,
          3.07651609999994,
          3.086027034358608,
          3.0969375,
          3.071263309008,
          3.0938661693115144,
          3.083204785845,
          3.0831664,
          3.0872957,
          3.0822065,
          3.0847519,
          3.0848662,
          3.0788301,
          3.071571797608,
          3.082091,
          3.084884876057,
          3.087059,
          3.0845855,
          3.075702,
          3.08599200000003,
          3.097468,
          3.0824124,
          3.0732877,
          3.07335784194191,
          3.0848817,
          3.084044,
          3.0819539,
          3.0831554,
          3.082334,
          3.075164,
          3.087329664129035,
          3.0859816,
          3.092019826072696,
          3.082030995701,
          3.075367,
          3.078221138099,
          3.0840962,
          3.096973169329,
          3.0844023,
          3.083962,
          3.078770586508,
          3.087087742328,
          3.0821531,
          3.093752125162,
          3.085906,
          3.0813628981475176,
          3.0882134,
          3.0863824,
          3.0972578,
          3.0972159,
          3.0926918455078294,
          3.0842326802181788,
          3.098331571303,
          3.0831664,
          3.0842504,
          3.0864185,
          3.0986699254346783,
          3.074798781545,
          3.0839408934116364,
          3.08221857994795,
          3.075789092477,
          3.0850749,
          3.088695332819,
          3.081938,
          3.084523551537904,
          3.0771752,
          3.097322514749892,
          3.0821823,
          3.0832689,
          3.0915797981361948,
          3.0822481,
          3.084477,
          3.082563914358616,
          3.0773047,
          3.097471,
          3.0866733,
          3.09300944209099,
          3.0799531,
          3.080574,
          3.082355707883835,
          3.0793938,
          3.075031526984,
          3.0826986953616142,
          3.077309744035,
          3.0826815962791443,
          3.079694,
          3.088450465637198,
          3.078524,
          3.0820418,
          3.0795944,
          3.0766791,
          3.092280842992,
          3.0820277,
          3.0842748,
          3.088568,
          3.0835022,
          3.097105,
          3.0904361978173256,
          3.0720023,
          3.085045,
          3.07546,
          3.088568,
          3.0847579
         ],
         "marker": {
          "color": [
           9.3,
           8.2,
           8.6,
           8.4,
           8.8,
           9.5,
           9.4,
           8.4,
           8.3,
           9.1,
           8.2,
           8.9,
           9.7,
           8.8,
           9,
           8.1,
           8.2,
           8.2,
           7.8,
           8.8,
           8.2,
           8.6,
           8.5,
           8.1,
           8.7,
           7.9,
           8.1,
           10,
           9.5,
           8.5,
           8.8,
           7.8,
           9.1,
           9.2,
           8.7,
           8.9,
           8.4,
           7.2,
           8.9,
           7.2,
           7.8,
           9.7,
           9.4,
           8.5,
           8.3,
           9.5,
           9.2,
           8.5,
           9.3,
           9.3,
           9.6,
           8.7,
           9.4,
           9.1,
           9.1,
           8.9,
           7.3,
           8.4,
           8.2,
           9.2,
           9.1,
           9.8,
           7.5,
           8.3,
           8.4,
           8.8,
           8.1,
           8,
           9,
           7.6,
           9.6,
           8.7,
           9.2,
           8.9,
           8.2,
           9.2,
           9.1,
           9.3,
           8.7,
           7.9,
           8.3,
           8.3,
           8.6,
           8.7,
           8.1,
           8.8,
           7.9,
           7.3,
           9.5,
           8.2,
           8.7,
           9.1,
           7.8,
           7.2,
           8,
           9.7,
           8.9,
           9.5,
           8.6,
           8.7,
           9.5,
           8.7,
           9.1,
           7.9,
           8.9,
           7.5,
           8.5,
           7.9,
           7.9,
           7.8,
           8,
           8.5,
           8.4,
           9.9,
           8.6,
           9.5,
           9,
           9.2,
           8.4,
           6.9,
           7.4,
           8.7,
           7.9,
           9,
           9.5,
           9,
           8.7,
           8.7,
           9.1,
           8,
           8.9,
           8.2,
           8.1,
           8.4,
           8.5,
           8.4,
           8.5,
           8.4,
           9,
           7.8,
           8.3,
           8.6,
           9.5,
           9,
           8.1,
           7.5,
           9.2,
           9.3,
           7.7,
           9.3,
           8.8,
           8.8,
           9,
           8.4,
           8.4,
           8.3,
           9.7,
           9,
           8.3,
           9.4,
           8.4,
           8.6,
           8.1,
           8.8,
           7.8,
           9.3,
           9.2,
           9.2,
           8.7,
           8.8,
           8.4,
           8.7,
           9.6,
           8.3,
           9.6,
           8.7,
           8.2,
           9,
           9.2,
           8.9,
           8,
           8.1,
           8.8,
           8.1,
           7.6,
           8.1,
           8.6,
           6.9,
           8.3,
           9.4,
           8.1,
           9.2,
           8.9,
           9.7,
           8.1,
           8.6,
           7.7,
           9.1,
           8.8,
           8.8,
           9.3,
           7.7,
           8.8,
           8,
           9.3,
           8.6,
           7.8,
           8,
           8.7,
           9.5,
           8.8,
           9.3,
           8.5,
           8.4,
           8.5,
           8.3,
           8.5,
           8.3,
           9.1,
           9.2,
           9.2,
           9.7,
           8.5,
           7.1,
           9.4,
           8.2,
           7.5,
           9.8,
           8.1,
           9.1,
           8.4,
           8.1,
           9.5,
           9.4,
           8.8,
           9,
           8,
           7.5,
           8.7,
           9.2,
           9.1,
           8.7,
           8.3,
           9.1,
           9.4,
           6.8,
           8.8,
           9.3,
           8.7,
           9.4,
           8.4,
           9.8,
           9.4,
           8.8,
           7.9,
           8.3,
           8.9,
           7.4,
           9.1,
           8.2,
           9.3,
           8.8,
           10,
           9.2,
           7.8,
           7.4,
           7.3,
           8.3,
           9.6,
           7,
           8.5,
           9.1,
           8.8,
           8.3,
           9.8,
           9.4,
           9.2,
           8.1,
           9.4,
           9,
           9.2,
           8.6,
           8.8,
           8.8,
           8,
           8,
           9.7,
           9.1,
           8.8,
           9.8,
           8.9,
           8.2,
           9.4,
           9.3,
           8.4,
           8.8,
           7.5,
           9.1,
           8,
           8.5,
           8.2,
           8,
           8.8,
           8,
           9,
           7.3,
           9,
           8.4,
           8.8,
           8.6,
           7.2,
           8.6,
           9,
           7.9,
           8.4,
           9.5,
           9.8,
           8.8,
           9.7,
           8.8,
           9.6,
           8.7,
           6.9,
           9.3,
           8.1,
           9.1,
           8.4,
           7.9,
           7.7,
           8.2,
           7.8,
           7.5,
           8.8,
           8,
           8.4,
           9.3,
           8.6,
           9.3,
           8.5,
           9.1,
           7,
           7.5,
           8.4,
           9.2,
           7.8,
           7.7,
           7.4,
           8.3,
           9.3,
           8.9,
           9,
           7.8,
           9.5,
           9,
           9,
           7.8,
           9.2,
           9,
           9.1,
           8.1,
           9,
           8.5,
           8.9,
           7.5,
           8.9,
           9.4,
           8.1,
           7.2,
           8.2,
           8,
           8.8,
           8.9,
           9.1,
           9.1,
           9,
           8,
           8.2,
           7.8,
           8.4,
           8,
           8.1,
           8.4,
           8.5,
           7.9,
           8.1,
           8.3,
           9.6,
           5.9,
           8.6,
           7.7,
           7.8,
           8.8,
           6.9,
           9.4,
           9.1,
           9.5,
           8.3,
           7.9,
           7.9,
           8.9,
           7.5,
           8.8,
           8.4,
           8.4,
           9,
           7.2,
           7.8,
           7.5,
           7.6,
           8.9,
           8.2,
           8.1,
           9.1,
           7.8,
           8,
           9.5,
           8.1,
           9.5,
           8.2,
           8.2,
           8.1,
           7.8,
           8.7,
           8.6,
           8.1,
           9.7,
           8.6,
           7.8,
           8.5,
           8.9,
           8.3,
           8.3,
           9.5,
           8.8,
           9.4,
           8.3,
           7.7,
           7.4,
           8.6,
           8,
           8,
           8.6,
           6.6,
           9,
           8.8,
           9.2,
           8.3,
           8.5,
           8.6,
           7.5,
           7.8,
           9.2,
           9.3,
           9.2,
           8.5,
           7.8,
           8.3,
           8.7,
           9.2,
           9.6,
           7.3,
           8.1,
           7.4,
           8.5,
           8.2,
           9,
           6.2,
           8.6,
           8.4,
           8.2,
           7.5,
           8.5,
           9.3,
           8.3,
           8.4,
           8.7,
           8.9,
           7.6,
           7.5,
           8.5,
           7.7,
           8,
           8.5,
           9.5,
           9.7,
           8.2,
           7.3,
           8.4,
           8.4,
           8.8,
           8.3,
           8,
           7.3,
           7.7,
           7.1,
           9.6,
           7.6,
           7,
           8.1,
           9.2,
           9.2,
           8.6,
           8.1,
           8,
           8.1,
           9.3,
           8.8,
           8.5,
           8.7,
           7.2,
           9.1,
           7.7,
           8.7,
           8.3,
           9.2,
           8.1,
           9,
           8.1,
           8.2,
           9.3,
           8.2,
           10,
           8.4,
           8.3,
           8.7,
           7.4,
           9.2,
           7.8,
           8.4,
           7.8,
           8.7,
           8.8,
           8,
           7.2,
           7.6,
           8.1,
           10,
           8.8,
           9.3,
           8,
           7.1,
           8.5,
           7.2,
           8.8,
           8.8,
           7.5,
           7.1,
           7.7,
           9.1,
           9.3,
           9.1,
           9.5,
           8.1,
           8.1,
           8.8,
           8,
           9.2,
           9.4,
           7.4,
           7.8,
           8.2,
           9.7,
           9.4,
           7.7,
           8.3,
           7.9,
           8.7,
           9.6,
           7.9,
           8.4,
           8.8,
           8.2,
           9.2,
           8,
           8.9,
           6.3,
           7.9,
           7.6,
           8,
           8,
           8.1,
           8.6,
           8.1,
           8.5,
           8.7,
           8.3,
           9,
           7.7,
           8.3,
           8,
           8.4,
           7.3,
           8,
           8.1,
           8.2,
           9.2,
           8.5,
           9.6,
           7.7,
           7.8,
           9.8,
           9.1,
           8.9,
           9.5,
           8.3,
           7.9,
           9.5,
           6.7,
           9.7,
           9.7,
           9.4,
           8.7,
           9.2,
           7.8,
           7.9,
           9.1,
           8.7,
           9.3,
           9.6,
           9,
           8.9,
           8.1,
           7.8,
           6.9,
           8.6,
           8.3,
           8.2,
           7.9,
           8.9,
           8.3,
           9.3,
           8.1,
           9,
           8.9,
           8.4,
           6.5,
           9.4,
           9.3,
           8.2,
           8.8,
           9.3,
           7.9,
           7.9,
           9.1,
           8.6,
           8.8,
           7.6,
           8.2,
           6.8,
           7.3,
           7.1,
           9,
           7.7,
           8.9,
           7.9,
           8.2,
           8.9,
           9,
           8.2,
           9.5,
           7.6,
           9.1,
           8.5,
           8.5,
           8.9,
           8.7,
           5,
           9.3,
           9.1,
           10,
           8.9,
           8.8,
           9,
           8,
           9.9,
           8.4,
           9.2,
           7.5,
           7.3,
           7.4,
           9,
           7.6,
           9.1,
           8.8,
           9.5,
           9,
           9,
           8.7,
           8.9,
           9.4,
           8.1,
           7,
           8.1,
           7.8,
           9.8,
           9,
           8.7,
           7.9,
           7.1,
           8,
           8.2,
           8.1,
           8.2,
           7.6,
           8.2,
           7.8,
           8.1,
           8.2,
           9,
           8.5,
           8.7,
           9.7,
           8.3,
           7.7,
           9.2,
           9.3,
           8.7,
           9.2,
           7.2,
           8.2,
           8.9,
           9.1,
           9.2,
           9.4,
           7.3,
           8.3,
           8.3,
           8.4,
           9.1,
           5.8,
           9.1,
           10,
           9.3,
           9.5,
           7.1,
           8.9,
           8,
           7.8,
           9.4,
           9.5,
           7.6,
           9.3,
           7.8,
           9.1,
           8.3,
           8.3,
           9.2,
           9.2,
           9.2,
           8.3,
           8.8,
           7.7,
           9.2,
           9.1,
           8,
           8.3,
           10,
           8.1,
           9.8,
           9.3,
           8.5,
           7.1,
           8.9,
           8,
           9.4,
           8.1,
           9.3,
           9.2,
           8.3,
           9.3,
           8.3,
           10,
           9.3,
           8.5,
           7.4,
           8.8,
           10,
           7.4,
           7.4,
           8.5,
           9.1,
           7.9,
           9,
           8.3,
           9,
           9.5,
           7.9,
           10,
           7.1,
           10,
           6.3,
           9,
           9.2,
           8.5,
           8.2,
           8.8,
           8.7,
           7.5,
           8.2,
           9,
           8.2,
           9.1,
           8.5,
           8.3,
           8.9,
           8.3,
           7.6,
           7.3,
           9.7,
           9.1,
           9,
           9.7,
           9.2,
           9.4,
           9.6,
           8.5,
           7.3,
           9.6,
           9.5,
           7.4,
           8.6,
           8.1,
           8.8,
           9.4,
           9.1,
           8.7,
           9.4,
           8,
           8.2,
           7.6,
           10,
           9.6,
           9.3,
           7.4,
           9.3,
           9.2,
           8.1,
           8.4,
           9,
           8.6,
           9.2,
           9.2,
           9,
           7.3,
           8,
           8,
           8.7,
           8.7,
           10,
           7.7,
           8.1,
           8.7,
           7.5,
           7.1,
           8.9,
           8.8,
           8.2,
           9.1,
           7.4,
           9.4,
           9.5,
           8.9,
           9.2,
           8.7,
           9.2,
           8.9,
           8.4,
           8.3,
           8.3,
           10,
           8.8,
           8.7,
           7.6,
           8.2,
           9.4,
           7,
           7.4,
           9.1,
           9.4,
           8.7,
           7.2,
           9.4,
           7.8,
           8.9,
           8.1,
           8.9,
           9.6,
           6.7,
           7,
           9.3,
           9.7,
           8.4,
           5,
           9,
           9,
           8.4,
           8.7,
           8.8,
           4.5,
           8,
           9.2,
           8.5,
           8.8,
           7,
           6.3,
           8.4,
           9.2,
           10,
           8.2,
           9.2,
           8,
           9.6,
           8.9,
           8,
           8.1,
           9.5,
           9.2,
           7.9,
           9.6,
           9,
           9.3,
           8.7,
           9,
           7.9,
           9.4,
           9.2,
           6.9,
           9.3,
           8.1,
           9.5,
           9,
           8.6,
           8.7,
           9.3,
           8.8,
           9.2,
           8.9,
           9.4,
           8.5,
           9,
           9,
           7.6,
           8.4,
           8.2,
           9.6,
           5,
           9.7,
           8.9,
           6,
           8.2,
           7,
           8.9,
           8,
           8.9,
           8,
           9.5,
           7,
           9.3,
           8.4,
           9,
           7,
           8.5,
           8.8,
           10,
           8.3,
           8.3,
           8.8,
           8.8,
           5.8,
           9.3,
           8.6,
           8.5,
           8.9,
           9.8,
           7.9,
           8.6,
           6.8,
           6.8,
           9.8,
           8,
           8.4,
           8.8,
           8.7,
           8.5,
           8.7,
           8,
           8.8,
           8.6,
           9.2,
           10,
           9.1,
           9.1,
           8.9,
           8.2,
           9.1,
           9.6,
           10,
           9.5,
           9.1,
           9,
           8.5,
           9.6,
           9.1,
           9.4,
           7.1,
           8.6,
           5,
           9.8,
           8.6,
           9.4,
           6.3,
           7,
           8.2,
           7.6,
           9.4,
           9.3,
           8,
           8,
           8.7,
           8.3,
           8.7,
           8,
           9.4,
           6.3,
           8.7,
           8.6,
           7,
           7,
           7.8,
           8.9,
           8.6,
           8,
           6.7,
           10,
           8,
           7.7,
           8.9,
           7.3,
           8.4,
           8.8,
           8,
           7.5,
           8.5,
           8.1,
           4.7,
           8.8,
           8.7,
           9.3,
           8.7,
           7.1,
           5.3,
           8.7,
           8.1,
           8.8,
           8.5,
           8.4,
           9.2,
           8.6,
           9,
           8.3,
           8.5,
           7,
           8.7,
           7,
           8,
           7.8,
           8.4,
           7,
           7.7,
           7,
           5,
           8.7,
           9.7,
           8.8,
           9,
           9.1,
           8.8,
           8.5,
           9,
           8.6,
           7.9,
           8.4,
           4,
           7.6,
           8.8,
           9.4,
           8.8,
           9.4,
           8.1,
           8.9,
           8.9,
           9.4,
           9.5,
           7,
           3,
           4,
           9.1,
           8.3,
           7,
           5,
           8,
           7,
           8.9,
           9,
           7.8,
           7.7,
           7.7,
           9.3,
           8.9,
           7.2,
           7.6,
           7.7,
           8,
           8.8,
           6.3,
           8.8,
           7.8,
           9.2,
           8.9,
           10,
           6.3,
           9.4,
           5.5,
           3,
           7,
           9.5,
           8.2,
           8.5,
           8,
           9.6,
           4.7,
           7,
           8.7,
           5.7,
           9.3,
           7.7,
           9,
           9.7,
           8.9,
           7.3,
           9.1,
           8,
           8,
           6.3,
           9.5,
           7.5,
           8,
           6.7,
           9,
           9.6,
           7.1,
           7.5,
           8.5,
           9.4,
           9,
           10,
           7.8,
           7.8,
           9,
           9.1,
           9.1,
           8.2,
           8.9,
           9.1,
           9.8,
           8.3,
           7.9,
           10,
           3.7,
           6.3,
           8.7,
           8.7,
           8.3,
           9.1,
           8.8,
           8,
           7,
           6,
           8.2,
           9.1,
           8.4,
           7,
           9.2,
           8,
           8.8,
           8.5,
           8.6,
           8.8,
           8.2,
           8.4,
           8,
           8.3,
           8.5,
           9.2,
           4.2,
           8.5,
           10,
           7.8,
           5.8,
           8.1,
           8.1,
           8.7,
           8.9,
           3.5,
           9,
           9.1,
           8.8,
           9.3,
           7,
           9,
           9.7,
           9.5,
           7.8,
           7.8,
           9.3,
           9.2,
           8.9,
           8.3,
           9,
           8.1,
           2,
           8.5,
           8,
           8,
           8.8,
           7.2,
           7.7,
           7.8,
           8.9,
           8,
           8.5,
           8.3,
           7,
           6.7,
           9.1,
           7.8,
           6,
           9.4,
           9.1,
           8.5,
           9.1,
           8.8,
           8.8,
           9.2,
           9,
           9.5,
           10,
           10,
           6.8,
           7.6,
           7.5,
           7.3,
           9.4,
           9.8,
           8.8,
           8.2,
           7.5,
           9,
           7.6,
           7,
           3,
           9.1,
           8.1,
           9,
           8.1,
           8.5,
           9.1,
           8.7,
           9.6,
           8.9,
           8.8,
           8.5,
           9.6,
           7.2,
           9.2,
           8,
           8.4,
           8.1,
           3,
           8.8,
           8.3,
           8.5,
           7.9,
           9,
           9.2,
           8.2,
           8.5,
           8.1,
           8.1,
           7.2,
           9,
           8.7,
           6.3,
           8.9,
           8,
           8.7,
           10,
           6,
           9.3,
           8,
           10,
           8,
           10,
           8,
           7,
           7.7,
           9.3
          ],
          "coloraxis": "coloraxis",
          "size": [
           9.3,
           8.2,
           8.6,
           8.4,
           8.8,
           9.5,
           9.4,
           8.4,
           8.3,
           9.1,
           8.2,
           8.9,
           9.7,
           8.8,
           9,
           8.1,
           8.2,
           8.2,
           7.8,
           8.8,
           8.2,
           8.6,
           8.5,
           8.1,
           8.7,
           7.9,
           8.1,
           10,
           9.5,
           8.5,
           8.8,
           7.8,
           9.1,
           9.2,
           8.7,
           8.9,
           8.4,
           7.2,
           8.9,
           7.2,
           7.8,
           9.7,
           9.4,
           8.5,
           8.3,
           9.5,
           9.2,
           8.5,
           9.3,
           9.3,
           9.6,
           8.7,
           9.4,
           9.1,
           9.1,
           8.9,
           7.3,
           8.4,
           8.2,
           9.2,
           9.1,
           9.8,
           7.5,
           8.3,
           8.4,
           8.8,
           8.1,
           8,
           9,
           7.6,
           9.6,
           8.7,
           9.2,
           8.9,
           8.2,
           9.2,
           9.1,
           9.3,
           8.7,
           7.9,
           8.3,
           8.3,
           8.6,
           8.7,
           8.1,
           8.8,
           7.9,
           7.3,
           9.5,
           8.2,
           8.7,
           9.1,
           7.8,
           7.2,
           8,
           9.7,
           8.9,
           9.5,
           8.6,
           8.7,
           9.5,
           8.7,
           9.1,
           7.9,
           8.9,
           7.5,
           8.5,
           7.9,
           7.9,
           7.8,
           8,
           8.5,
           8.4,
           9.9,
           8.6,
           9.5,
           9,
           9.2,
           8.4,
           6.9,
           7.4,
           8.7,
           7.9,
           9,
           9.5,
           9,
           8.7,
           8.7,
           9.1,
           8,
           8.9,
           8.2,
           8.1,
           8.4,
           8.5,
           8.4,
           8.5,
           8.4,
           9,
           7.8,
           8.3,
           8.6,
           9.5,
           9,
           8.1,
           7.5,
           9.2,
           9.3,
           7.7,
           9.3,
           8.8,
           8.8,
           9,
           8.4,
           8.4,
           8.3,
           9.7,
           9,
           8.3,
           9.4,
           8.4,
           8.6,
           8.1,
           8.8,
           7.8,
           9.3,
           9.2,
           9.2,
           8.7,
           8.8,
           8.4,
           8.7,
           9.6,
           8.3,
           9.6,
           8.7,
           8.2,
           9,
           9.2,
           8.9,
           8,
           8.1,
           8.8,
           8.1,
           7.6,
           8.1,
           8.6,
           6.9,
           8.3,
           9.4,
           8.1,
           9.2,
           8.9,
           9.7,
           8.1,
           8.6,
           7.7,
           9.1,
           8.8,
           8.8,
           9.3,
           7.7,
           8.8,
           8,
           9.3,
           8.6,
           7.8,
           8,
           8.7,
           9.5,
           8.8,
           9.3,
           8.5,
           8.4,
           8.5,
           8.3,
           8.5,
           8.3,
           9.1,
           9.2,
           9.2,
           9.7,
           8.5,
           7.1,
           9.4,
           8.2,
           7.5,
           9.8,
           8.1,
           9.1,
           8.4,
           8.1,
           9.5,
           9.4,
           8.8,
           9,
           8,
           7.5,
           8.7,
           9.2,
           9.1,
           8.7,
           8.3,
           9.1,
           9.4,
           6.8,
           8.8,
           9.3,
           8.7,
           9.4,
           8.4,
           9.8,
           9.4,
           8.8,
           7.9,
           8.3,
           8.9,
           7.4,
           9.1,
           8.2,
           9.3,
           8.8,
           10,
           9.2,
           7.8,
           7.4,
           7.3,
           8.3,
           9.6,
           7,
           8.5,
           9.1,
           8.8,
           8.3,
           9.8,
           9.4,
           9.2,
           8.1,
           9.4,
           9,
           9.2,
           8.6,
           8.8,
           8.8,
           8,
           8,
           9.7,
           9.1,
           8.8,
           9.8,
           8.9,
           8.2,
           9.4,
           9.3,
           8.4,
           8.8,
           7.5,
           9.1,
           8,
           8.5,
           8.2,
           8,
           8.8,
           8,
           9,
           7.3,
           9,
           8.4,
           8.8,
           8.6,
           7.2,
           8.6,
           9,
           7.9,
           8.4,
           9.5,
           9.8,
           8.8,
           9.7,
           8.8,
           9.6,
           8.7,
           6.9,
           9.3,
           8.1,
           9.1,
           8.4,
           7.9,
           7.7,
           8.2,
           7.8,
           7.5,
           8.8,
           8,
           8.4,
           9.3,
           8.6,
           9.3,
           8.5,
           9.1,
           7,
           7.5,
           8.4,
           9.2,
           7.8,
           7.7,
           7.4,
           8.3,
           9.3,
           8.9,
           9,
           7.8,
           9.5,
           9,
           9,
           7.8,
           9.2,
           9,
           9.1,
           8.1,
           9,
           8.5,
           8.9,
           7.5,
           8.9,
           9.4,
           8.1,
           7.2,
           8.2,
           8,
           8.8,
           8.9,
           9.1,
           9.1,
           9,
           8,
           8.2,
           7.8,
           8.4,
           8,
           8.1,
           8.4,
           8.5,
           7.9,
           8.1,
           8.3,
           9.6,
           5.9,
           8.6,
           7.7,
           7.8,
           8.8,
           6.9,
           9.4,
           9.1,
           9.5,
           8.3,
           7.9,
           7.9,
           8.9,
           7.5,
           8.8,
           8.4,
           8.4,
           9,
           7.2,
           7.8,
           7.5,
           7.6,
           8.9,
           8.2,
           8.1,
           9.1,
           7.8,
           8,
           9.5,
           8.1,
           9.5,
           8.2,
           8.2,
           8.1,
           7.8,
           8.7,
           8.6,
           8.1,
           9.7,
           8.6,
           7.8,
           8.5,
           8.9,
           8.3,
           8.3,
           9.5,
           8.8,
           9.4,
           8.3,
           7.7,
           7.4,
           8.6,
           8,
           8,
           8.6,
           6.6,
           9,
           8.8,
           9.2,
           8.3,
           8.5,
           8.6,
           7.5,
           7.8,
           9.2,
           9.3,
           9.2,
           8.5,
           7.8,
           8.3,
           8.7,
           9.2,
           9.6,
           7.3,
           8.1,
           7.4,
           8.5,
           8.2,
           9,
           6.2,
           8.6,
           8.4,
           8.2,
           7.5,
           8.5,
           9.3,
           8.3,
           8.4,
           8.7,
           8.9,
           7.6,
           7.5,
           8.5,
           7.7,
           8,
           8.5,
           9.5,
           9.7,
           8.2,
           7.3,
           8.4,
           8.4,
           8.8,
           8.3,
           8,
           7.3,
           7.7,
           7.1,
           9.6,
           7.6,
           7,
           8.1,
           9.2,
           9.2,
           8.6,
           8.1,
           8,
           8.1,
           9.3,
           8.8,
           8.5,
           8.7,
           7.2,
           9.1,
           7.7,
           8.7,
           8.3,
           9.2,
           8.1,
           9,
           8.1,
           8.2,
           9.3,
           8.2,
           10,
           8.4,
           8.3,
           8.7,
           7.4,
           9.2,
           7.8,
           8.4,
           7.8,
           8.7,
           8.8,
           8,
           7.2,
           7.6,
           8.1,
           10,
           8.8,
           9.3,
           8,
           7.1,
           8.5,
           7.2,
           8.8,
           8.8,
           7.5,
           7.1,
           7.7,
           9.1,
           9.3,
           9.1,
           9.5,
           8.1,
           8.1,
           8.8,
           8,
           9.2,
           9.4,
           7.4,
           7.8,
           8.2,
           9.7,
           9.4,
           7.7,
           8.3,
           7.9,
           8.7,
           9.6,
           7.9,
           8.4,
           8.8,
           8.2,
           9.2,
           8,
           8.9,
           6.3,
           7.9,
           7.6,
           8,
           8,
           8.1,
           8.6,
           8.1,
           8.5,
           8.7,
           8.3,
           9,
           7.7,
           8.3,
           8,
           8.4,
           7.3,
           8,
           8.1,
           8.2,
           9.2,
           8.5,
           9.6,
           7.7,
           7.8,
           9.8,
           9.1,
           8.9,
           9.5,
           8.3,
           7.9,
           9.5,
           6.7,
           9.7,
           9.7,
           9.4,
           8.7,
           9.2,
           7.8,
           7.9,
           9.1,
           8.7,
           9.3,
           9.6,
           9,
           8.9,
           8.1,
           7.8,
           6.9,
           8.6,
           8.3,
           8.2,
           7.9,
           8.9,
           8.3,
           9.3,
           8.1,
           9,
           8.9,
           8.4,
           6.5,
           9.4,
           9.3,
           8.2,
           8.8,
           9.3,
           7.9,
           7.9,
           9.1,
           8.6,
           8.8,
           7.6,
           8.2,
           6.8,
           7.3,
           7.1,
           9,
           7.7,
           8.9,
           7.9,
           8.2,
           8.9,
           9,
           8.2,
           9.5,
           7.6,
           9.1,
           8.5,
           8.5,
           8.9,
           8.7,
           5,
           9.3,
           9.1,
           10,
           8.9,
           8.8,
           9,
           8,
           9.9,
           8.4,
           9.2,
           7.5,
           7.3,
           7.4,
           9,
           7.6,
           9.1,
           8.8,
           9.5,
           9,
           9,
           8.7,
           8.9,
           9.4,
           8.1,
           7,
           8.1,
           7.8,
           9.8,
           9,
           8.7,
           7.9,
           7.1,
           8,
           8.2,
           8.1,
           8.2,
           7.6,
           8.2,
           7.8,
           8.1,
           8.2,
           9,
           8.5,
           8.7,
           9.7,
           8.3,
           7.7,
           9.2,
           9.3,
           8.7,
           9.2,
           7.2,
           8.2,
           8.9,
           9.1,
           9.2,
           9.4,
           7.3,
           8.3,
           8.3,
           8.4,
           9.1,
           5.8,
           9.1,
           10,
           9.3,
           9.5,
           7.1,
           8.9,
           8,
           7.8,
           9.4,
           9.5,
           7.6,
           9.3,
           7.8,
           9.1,
           8.3,
           8.3,
           9.2,
           9.2,
           9.2,
           8.3,
           8.8,
           7.7,
           9.2,
           9.1,
           8,
           8.3,
           10,
           8.1,
           9.8,
           9.3,
           8.5,
           7.1,
           8.9,
           8,
           9.4,
           8.1,
           9.3,
           9.2,
           8.3,
           9.3,
           8.3,
           10,
           9.3,
           8.5,
           7.4,
           8.8,
           10,
           7.4,
           7.4,
           8.5,
           9.1,
           7.9,
           9,
           8.3,
           9,
           9.5,
           7.9,
           10,
           7.1,
           10,
           6.3,
           9,
           9.2,
           8.5,
           8.2,
           8.8,
           8.7,
           7.5,
           8.2,
           9,
           8.2,
           9.1,
           8.5,
           8.3,
           8.9,
           8.3,
           7.6,
           7.3,
           9.7,
           9.1,
           9,
           9.7,
           9.2,
           9.4,
           9.6,
           8.5,
           7.3,
           9.6,
           9.5,
           7.4,
           8.6,
           8.1,
           8.8,
           9.4,
           9.1,
           8.7,
           9.4,
           8,
           8.2,
           7.6,
           10,
           9.6,
           9.3,
           7.4,
           9.3,
           9.2,
           8.1,
           8.4,
           9,
           8.6,
           9.2,
           9.2,
           9,
           7.3,
           8,
           8,
           8.7,
           8.7,
           10,
           7.7,
           8.1,
           8.7,
           7.5,
           7.1,
           8.9,
           8.8,
           8.2,
           9.1,
           7.4,
           9.4,
           9.5,
           8.9,
           9.2,
           8.7,
           9.2,
           8.9,
           8.4,
           8.3,
           8.3,
           10,
           8.8,
           8.7,
           7.6,
           8.2,
           9.4,
           7,
           7.4,
           9.1,
           9.4,
           8.7,
           7.2,
           9.4,
           7.8,
           8.9,
           8.1,
           8.9,
           9.6,
           6.7,
           7,
           9.3,
           9.7,
           8.4,
           5,
           9,
           9,
           8.4,
           8.7,
           8.8,
           4.5,
           8,
           9.2,
           8.5,
           8.8,
           7,
           6.3,
           8.4,
           9.2,
           10,
           8.2,
           9.2,
           8,
           9.6,
           8.9,
           8,
           8.1,
           9.5,
           9.2,
           7.9,
           9.6,
           9,
           9.3,
           8.7,
           9,
           7.9,
           9.4,
           9.2,
           6.9,
           9.3,
           8.1,
           9.5,
           9,
           8.6,
           8.7,
           9.3,
           8.8,
           9.2,
           8.9,
           9.4,
           8.5,
           9,
           9,
           7.6,
           8.4,
           8.2,
           9.6,
           5,
           9.7,
           8.9,
           6,
           8.2,
           7,
           8.9,
           8,
           8.9,
           8,
           9.5,
           7,
           9.3,
           8.4,
           9,
           7,
           8.5,
           8.8,
           10,
           8.3,
           8.3,
           8.8,
           8.8,
           5.8,
           9.3,
           8.6,
           8.5,
           8.9,
           9.8,
           7.9,
           8.6,
           6.8,
           6.8,
           9.8,
           8,
           8.4,
           8.8,
           8.7,
           8.5,
           8.7,
           8,
           8.8,
           8.6,
           9.2,
           10,
           9.1,
           9.1,
           8.9,
           8.2,
           9.1,
           9.6,
           10,
           9.5,
           9.1,
           9,
           8.5,
           9.6,
           9.1,
           9.4,
           7.1,
           8.6,
           5,
           9.8,
           8.6,
           9.4,
           6.3,
           7,
           8.2,
           7.6,
           9.4,
           9.3,
           8,
           8,
           8.7,
           8.3,
           8.7,
           8,
           9.4,
           6.3,
           8.7,
           8.6,
           7,
           7,
           7.8,
           8.9,
           8.6,
           8,
           6.7,
           10,
           8,
           7.7,
           8.9,
           7.3,
           8.4,
           8.8,
           8,
           7.5,
           8.5,
           8.1,
           4.7,
           8.8,
           8.7,
           9.3,
           8.7,
           7.1,
           5.3,
           8.7,
           8.1,
           8.8,
           8.5,
           8.4,
           9.2,
           8.6,
           9,
           8.3,
           8.5,
           7,
           8.7,
           7,
           8,
           7.8,
           8.4,
           7,
           7.7,
           7,
           5,
           8.7,
           9.7,
           8.8,
           9,
           9.1,
           8.8,
           8.5,
           9,
           8.6,
           7.9,
           8.4,
           4,
           7.6,
           8.8,
           9.4,
           8.8,
           9.4,
           8.1,
           8.9,
           8.9,
           9.4,
           9.5,
           7,
           3,
           4,
           9.1,
           8.3,
           7,
           5,
           8,
           7,
           8.9,
           9,
           7.8,
           7.7,
           7.7,
           9.3,
           8.9,
           7.2,
           7.6,
           7.7,
           8,
           8.8,
           6.3,
           8.8,
           7.8,
           9.2,
           8.9,
           10,
           6.3,
           9.4,
           5.5,
           3,
           7,
           9.5,
           8.2,
           8.5,
           8,
           9.6,
           4.7,
           7,
           8.7,
           5.7,
           9.3,
           7.7,
           9,
           9.7,
           8.9,
           7.3,
           9.1,
           8,
           8,
           6.3,
           9.5,
           7.5,
           8,
           6.7,
           9,
           9.6,
           7.1,
           7.5,
           8.5,
           9.4,
           9,
           10,
           7.8,
           7.8,
           9,
           9.1,
           9.1,
           8.2,
           8.9,
           9.1,
           9.8,
           8.3,
           7.9,
           10,
           3.7,
           6.3,
           8.7,
           8.7,
           8.3,
           9.1,
           8.8,
           8,
           7,
           6,
           8.2,
           9.1,
           8.4,
           7,
           9.2,
           8,
           8.8,
           8.5,
           8.6,
           8.8,
           8.2,
           8.4,
           8,
           8.3,
           8.5,
           9.2,
           4.2,
           8.5,
           10,
           7.8,
           5.8,
           8.1,
           8.1,
           8.7,
           8.9,
           3.5,
           9,
           9.1,
           8.8,
           9.3,
           7,
           9,
           9.7,
           9.5,
           7.8,
           7.8,
           9.3,
           9.2,
           8.9,
           8.3,
           9,
           8.1,
           2,
           8.5,
           8,
           8,
           8.8,
           7.2,
           7.7,
           7.8,
           8.9,
           8,
           8.5,
           8.3,
           7,
           6.7,
           9.1,
           7.8,
           6,
           9.4,
           9.1,
           8.5,
           9.1,
           8.8,
           8.8,
           9.2,
           9,
           9.5,
           10,
           10,
           6.8,
           7.6,
           7.5,
           7.3,
           9.4,
           9.8,
           8.8,
           8.2,
           7.5,
           9,
           7.6,
           7,
           3,
           9.1,
           8.1,
           9,
           8.1,
           8.5,
           9.1,
           8.7,
           9.6,
           8.9,
           8.8,
           8.5,
           9.6,
           7.2,
           9.2,
           8,
           8.4,
           8.1,
           3,
           8.8,
           8.3,
           8.5,
           7.9,
           9,
           9.2,
           8.2,
           8.5,
           8.1,
           8.1,
           7.2,
           9,
           8.7,
           6.3,
           8.9,
           8,
           8.7,
           10,
           6,
           9.3,
           8,
           10,
           8,
           10,
           8,
           7,
           7.7,
           9.3
          ],
          "sizemode": "area",
          "sizeref": 0.044444444444444446
         },
         "mode": "markers",
         "name": "",
         "showlegend": false,
         "subplot": "mapbox",
         "type": "scattermapbox"
        }
       ],
       "layout": {
        "coloraxis": {
         "colorbar": {
          "title": {
           "text": "Rating"
          }
         },
         "colorscale": [
          [
           0,
           "#0d0887"
          ],
          [
           0.1111111111111111,
           "#46039f"
          ],
          [
           0.2222222222222222,
           "#7201a8"
          ],
          [
           0.3333333333333333,
           "#9c179e"
          ],
          [
           0.4444444444444444,
           "#bd3786"
          ],
          [
           0.5555555555555556,
           "#d8576b"
          ],
          [
           0.6666666666666666,
           "#ed7953"
          ],
          [
           0.7777777777777778,
           "#fb9f3a"
          ],
          [
           0.8888888888888888,
           "#fdca26"
          ],
          [
           1,
           "#f0f921"
          ]
         ]
        },
        "legend": {
         "itemsizing": "constant",
         "tracegroupgap": 0
        },
        "mapbox": {
         "center": {
          "lat": 43.28341022743383,
          "lon": 4.639087880902988
         },
         "domain": {
          "x": [
           0,
           1
          ],
          "y": [
           0,
           1
          ]
         },
         "style": "carto-positron",
         "zoom": 5
        },
        "template": {
         "data": {
          "bar": [
           {
            "error_x": {
             "color": "#2a3f5f"
            },
            "error_y": {
             "color": "#2a3f5f"
            },
            "marker": {
             "line": {
              "color": "#E5ECF6",
              "width": 0.5
             },
             "pattern": {
              "fillmode": "overlay",
              "size": 10,
              "solidity": 0.2
             }
            },
            "type": "bar"
           }
          ],
          "barpolar": [
           {
            "marker": {
             "line": {
              "color": "#E5ECF6",
              "width": 0.5
             },
             "pattern": {
              "fillmode": "overlay",
              "size": 10,
              "solidity": 0.2
             }
            },
            "type": "barpolar"
           }
          ],
          "carpet": [
           {
            "aaxis": {
             "endlinecolor": "#2a3f5f",
             "gridcolor": "white",
             "linecolor": "white",
             "minorgridcolor": "white",
             "startlinecolor": "#2a3f5f"
            },
            "baxis": {
             "endlinecolor": "#2a3f5f",
             "gridcolor": "white",
             "linecolor": "white",
             "minorgridcolor": "white",
             "startlinecolor": "#2a3f5f"
            },
            "type": "carpet"
           }
          ],
          "choropleth": [
           {
            "colorbar": {
             "outlinewidth": 0,
             "ticks": ""
            },
            "type": "choropleth"
           }
          ],
          "contour": [
           {
            "colorbar": {
             "outlinewidth": 0,
             "ticks": ""
            },
            "colorscale": [
             [
              0,
              "#0d0887"
             ],
             [
              0.1111111111111111,
              "#46039f"
             ],
             [
              0.2222222222222222,
              "#7201a8"
             ],
             [
              0.3333333333333333,
              "#9c179e"
             ],
             [
              0.4444444444444444,
              "#bd3786"
             ],
             [
              0.5555555555555556,
              "#d8576b"
             ],
             [
              0.6666666666666666,
              "#ed7953"
             ],
             [
              0.7777777777777778,
              "#fb9f3a"
             ],
             [
              0.8888888888888888,
              "#fdca26"
             ],
             [
              1,
              "#f0f921"
             ]
            ],
            "type": "contour"
           }
          ],
          "contourcarpet": [
           {
            "colorbar": {
             "outlinewidth": 0,
             "ticks": ""
            },
            "type": "contourcarpet"
           }
          ],
          "heatmap": [
           {
            "colorbar": {
             "outlinewidth": 0,
             "ticks": ""
            },
            "colorscale": [
             [
              0,
              "#0d0887"
             ],
             [
              0.1111111111111111,
              "#46039f"
             ],
             [
              0.2222222222222222,
              "#7201a8"
             ],
             [
              0.3333333333333333,
              "#9c179e"
             ],
             [
              0.4444444444444444,
              "#bd3786"
             ],
             [
              0.5555555555555556,
              "#d8576b"
             ],
             [
              0.6666666666666666,
              "#ed7953"
             ],
             [
              0.7777777777777778,
              "#fb9f3a"
             ],
             [
              0.8888888888888888,
              "#fdca26"
             ],
             [
              1,
              "#f0f921"
             ]
            ],
            "type": "heatmap"
           }
          ],
          "heatmapgl": [
           {
            "colorbar": {
             "outlinewidth": 0,
             "ticks": ""
            },
            "colorscale": [
             [
              0,
              "#0d0887"
             ],
             [
              0.1111111111111111,
              "#46039f"
             ],
             [
              0.2222222222222222,
              "#7201a8"
             ],
             [
              0.3333333333333333,
              "#9c179e"
             ],
             [
              0.4444444444444444,
              "#bd3786"
             ],
             [
              0.5555555555555556,
              "#d8576b"
             ],
             [
              0.6666666666666666,
              "#ed7953"
             ],
             [
              0.7777777777777778,
              "#fb9f3a"
             ],
             [
              0.8888888888888888,
              "#fdca26"
             ],
             [
              1,
              "#f0f921"
             ]
            ],
            "type": "heatmapgl"
           }
          ],
          "histogram": [
           {
            "marker": {
             "pattern": {
              "fillmode": "overlay",
              "size": 10,
              "solidity": 0.2
             }
            },
            "type": "histogram"
           }
          ],
          "histogram2d": [
           {
            "colorbar": {
             "outlinewidth": 0,
             "ticks": ""
            },
            "colorscale": [
             [
              0,
              "#0d0887"
             ],
             [
              0.1111111111111111,
              "#46039f"
             ],
             [
              0.2222222222222222,
              "#7201a8"
             ],
             [
              0.3333333333333333,
              "#9c179e"
             ],
             [
              0.4444444444444444,
              "#bd3786"
             ],
             [
              0.5555555555555556,
              "#d8576b"
             ],
             [
              0.6666666666666666,
              "#ed7953"
             ],
             [
              0.7777777777777778,
              "#fb9f3a"
             ],
             [
              0.8888888888888888,
              "#fdca26"
             ],
             [
              1,
              "#f0f921"
             ]
            ],
            "type": "histogram2d"
           }
          ],
          "histogram2dcontour": [
           {
            "colorbar": {
             "outlinewidth": 0,
             "ticks": ""
            },
            "colorscale": [
             [
              0,
              "#0d0887"
             ],
             [
              0.1111111111111111,
              "#46039f"
             ],
             [
              0.2222222222222222,
              "#7201a8"
             ],
             [
              0.3333333333333333,
              "#9c179e"
             ],
             [
              0.4444444444444444,
              "#bd3786"
             ],
             [
              0.5555555555555556,
              "#d8576b"
             ],
             [
              0.6666666666666666,
              "#ed7953"
             ],
             [
              0.7777777777777778,
              "#fb9f3a"
             ],
             [
              0.8888888888888888,
              "#fdca26"
             ],
             [
              1,
              "#f0f921"
             ]
            ],
            "type": "histogram2dcontour"
           }
          ],
          "mesh3d": [
           {
            "colorbar": {
             "outlinewidth": 0,
             "ticks": ""
            },
            "type": "mesh3d"
           }
          ],
          "parcoords": [
           {
            "line": {
             "colorbar": {
              "outlinewidth": 0,
              "ticks": ""
             }
            },
            "type": "parcoords"
           }
          ],
          "pie": [
           {
            "automargin": true,
            "type": "pie"
           }
          ],
          "scatter": [
           {
            "fillpattern": {
             "fillmode": "overlay",
             "size": 10,
             "solidity": 0.2
            },
            "type": "scatter"
           }
          ],
          "scatter3d": [
           {
            "line": {
             "colorbar": {
              "outlinewidth": 0,
              "ticks": ""
             }
            },
            "marker": {
             "colorbar": {
              "outlinewidth": 0,
              "ticks": ""
             }
            },
            "type": "scatter3d"
           }
          ],
          "scattercarpet": [
           {
            "marker": {
             "colorbar": {
              "outlinewidth": 0,
              "ticks": ""
             }
            },
            "type": "scattercarpet"
           }
          ],
          "scattergeo": [
           {
            "marker": {
             "colorbar": {
              "outlinewidth": 0,
              "ticks": ""
             }
            },
            "type": "scattergeo"
           }
          ],
          "scattergl": [
           {
            "marker": {
             "colorbar": {
              "outlinewidth": 0,
              "ticks": ""
             }
            },
            "type": "scattergl"
           }
          ],
          "scattermapbox": [
           {
            "marker": {
             "colorbar": {
              "outlinewidth": 0,
              "ticks": ""
             }
            },
            "type": "scattermapbox"
           }
          ],
          "scatterpolar": [
           {
            "marker": {
             "colorbar": {
              "outlinewidth": 0,
              "ticks": ""
             }
            },
            "type": "scatterpolar"
           }
          ],
          "scatterpolargl": [
           {
            "marker": {
             "colorbar": {
              "outlinewidth": 0,
              "ticks": ""
             }
            },
            "type": "scatterpolargl"
           }
          ],
          "scatterternary": [
           {
            "marker": {
             "colorbar": {
              "outlinewidth": 0,
              "ticks": ""
             }
            },
            "type": "scatterternary"
           }
          ],
          "surface": [
           {
            "colorbar": {
             "outlinewidth": 0,
             "ticks": ""
            },
            "colorscale": [
             [
              0,
              "#0d0887"
             ],
             [
              0.1111111111111111,
              "#46039f"
             ],
             [
              0.2222222222222222,
              "#7201a8"
             ],
             [
              0.3333333333333333,
              "#9c179e"
             ],
             [
              0.4444444444444444,
              "#bd3786"
             ],
             [
              0.5555555555555556,
              "#d8576b"
             ],
             [
              0.6666666666666666,
              "#ed7953"
             ],
             [
              0.7777777777777778,
              "#fb9f3a"
             ],
             [
              0.8888888888888888,
              "#fdca26"
             ],
             [
              1,
              "#f0f921"
             ]
            ],
            "type": "surface"
           }
          ],
          "table": [
           {
            "cells": {
             "fill": {
              "color": "#EBF0F8"
             },
             "line": {
              "color": "white"
             }
            },
            "header": {
             "fill": {
              "color": "#C8D4E3"
             },
             "line": {
              "color": "white"
             }
            },
            "type": "table"
           }
          ]
         },
         "layout": {
          "annotationdefaults": {
           "arrowcolor": "#2a3f5f",
           "arrowhead": 0,
           "arrowwidth": 1
          },
          "autotypenumbers": "strict",
          "coloraxis": {
           "colorbar": {
            "outlinewidth": 0,
            "ticks": ""
           }
          },
          "colorscale": {
           "diverging": [
            [
             0,
             "#8e0152"
            ],
            [
             0.1,
             "#c51b7d"
            ],
            [
             0.2,
             "#de77ae"
            ],
            [
             0.3,
             "#f1b6da"
            ],
            [
             0.4,
             "#fde0ef"
            ],
            [
             0.5,
             "#f7f7f7"
            ],
            [
             0.6,
             "#e6f5d0"
            ],
            [
             0.7,
             "#b8e186"
            ],
            [
             0.8,
             "#7fbc41"
            ],
            [
             0.9,
             "#4d9221"
            ],
            [
             1,
             "#276419"
            ]
           ],
           "sequential": [
            [
             0,
             "#0d0887"
            ],
            [
             0.1111111111111111,
             "#46039f"
            ],
            [
             0.2222222222222222,
             "#7201a8"
            ],
            [
             0.3333333333333333,
             "#9c179e"
            ],
            [
             0.4444444444444444,
             "#bd3786"
            ],
            [
             0.5555555555555556,
             "#d8576b"
            ],
            [
             0.6666666666666666,
             "#ed7953"
            ],
            [
             0.7777777777777778,
             "#fb9f3a"
            ],
            [
             0.8888888888888888,
             "#fdca26"
            ],
            [
             1,
             "#f0f921"
            ]
           ],
           "sequentialminus": [
            [
             0,
             "#0d0887"
            ],
            [
             0.1111111111111111,
             "#46039f"
            ],
            [
             0.2222222222222222,
             "#7201a8"
            ],
            [
             0.3333333333333333,
             "#9c179e"
            ],
            [
             0.4444444444444444,
             "#bd3786"
            ],
            [
             0.5555555555555556,
             "#d8576b"
            ],
            [
             0.6666666666666666,
             "#ed7953"
            ],
            [
             0.7777777777777778,
             "#fb9f3a"
            ],
            [
             0.8888888888888888,
             "#fdca26"
            ],
            [
             1,
             "#f0f921"
            ]
           ]
          },
          "colorway": [
           "#636efa",
           "#EF553B",
           "#00cc96",
           "#ab63fa",
           "#FFA15A",
           "#19d3f3",
           "#FF6692",
           "#B6E880",
           "#FF97FF",
           "#FECB52"
          ],
          "font": {
           "color": "#2a3f5f"
          },
          "geo": {
           "bgcolor": "white",
           "lakecolor": "white",
           "landcolor": "#E5ECF6",
           "showlakes": true,
           "showland": true,
           "subunitcolor": "white"
          },
          "hoverlabel": {
           "align": "left"
          },
          "hovermode": "closest",
          "mapbox": {
           "style": "light"
          },
          "paper_bgcolor": "white",
          "plot_bgcolor": "#E5ECF6",
          "polar": {
           "angularaxis": {
            "gridcolor": "white",
            "linecolor": "white",
            "ticks": ""
           },
           "bgcolor": "#E5ECF6",
           "radialaxis": {
            "gridcolor": "white",
            "linecolor": "white",
            "ticks": ""
           }
          },
          "scene": {
           "xaxis": {
            "backgroundcolor": "#E5ECF6",
            "gridcolor": "white",
            "gridwidth": 2,
            "linecolor": "white",
            "showbackground": true,
            "ticks": "",
            "zerolinecolor": "white"
           },
           "yaxis": {
            "backgroundcolor": "#E5ECF6",
            "gridcolor": "white",
            "gridwidth": 2,
            "linecolor": "white",
            "showbackground": true,
            "ticks": "",
            "zerolinecolor": "white"
           },
           "zaxis": {
            "backgroundcolor": "#E5ECF6",
            "gridcolor": "white",
            "gridwidth": 2,
            "linecolor": "white",
            "showbackground": true,
            "ticks": "",
            "zerolinecolor": "white"
           }
          },
          "shapedefaults": {
           "line": {
            "color": "#2a3f5f"
           }
          },
          "ternary": {
           "aaxis": {
            "gridcolor": "white",
            "linecolor": "white",
            "ticks": ""
           },
           "baxis": {
            "gridcolor": "white",
            "linecolor": "white",
            "ticks": ""
           },
           "bgcolor": "#E5ECF6",
           "caxis": {
            "gridcolor": "white",
            "linecolor": "white",
            "ticks": ""
           }
          },
          "title": {
           "x": 0.05
          },
          "xaxis": {
           "automargin": true,
           "gridcolor": "white",
           "linecolor": "white",
           "ticks": "",
           "title": {
            "standoff": 15
           },
           "zerolinecolor": "white",
           "zerolinewidth": 2
          },
          "yaxis": {
           "automargin": true,
           "gridcolor": "white",
           "linecolor": "white",
           "ticks": "",
           "title": {
            "standoff": 15
           },
           "zerolinecolor": "white",
           "zerolinewidth": 2
          }
         }
        },
        "title": {
         "text": "Best Hotels in the Top 5 Destinations"
        }
       }
      }
     },
     "metadata": {},
     "output_type": "display_data"
    }
   ],
   "source": [
    "top_destinations_cities = best_destinations['city'].tolist()\n",
    "hotels_in_best_destinations = hotel_df[hotel_df['city'].isin(top_destinations_cities)]\n",
    "hotels_in_best_destinations = hotels_in_best_destinations.dropna(subset=['rating', 'latitude', 'longitude'])\n",
    "\n",
    "hotels_in_best_destinations['url_text'] = 'Link: ' + hotels_in_best_destinations['page_url']\n",
    "\n",
    "\n",
    "fig = px.scatter_mapbox(\n",
    "    hotels_in_best_destinations,\n",
    "    lat='latitude',  \n",
    "    lon='longitude',  \n",
    "    color='rating',\n",
    "    size='rating',\n",
    "    hover_name='hotel_name',\n",
    "    hover_data={'city': True, 'rating': True, 'url_text': True},  \n",
    "    title='Best Hotels in the Top 5 Destinations',\n",
    "    labels={'rating': 'Hotel Rating'},\n",
    "    mapbox_style=\"carto-positron\",\n",
    "    size_max=15,\n",
    "    zoom=5\n",
    ")\n",
    "\n",
    "\n",
    "fig.update_layout(\n",
    "    coloraxis_colorbar=dict(title=\"Rating\")\n",
    ")\n",
    "\n",
    "fig.show()"
   ]
  }
 ],
 "metadata": {
  "kernelspec": {
   "display_name": "base",
   "language": "python",
   "name": "python3"
  },
  "language_info": {
   "codemirror_mode": {
    "name": "ipython",
    "version": 3
   },
   "file_extension": ".py",
   "mimetype": "text/x-python",
   "name": "python",
   "nbconvert_exporter": "python",
   "pygments_lexer": "ipython3",
   "version": "3.12.4"
  }
 },
 "nbformat": 4,
 "nbformat_minor": 2
}
